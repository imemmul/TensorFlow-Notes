{
  "nbformat": 4,
  "nbformat_minor": 0,
  "metadata": {
    "colab": {
      "provenance": [],
      "include_colab_link": true
    },
    "kernelspec": {
      "name": "python3",
      "display_name": "Python 3"
    },
    "language_info": {
      "name": "python"
    },
    "gpuClass": "standard",
    "accelerator": "GPU"
  },
  "cells": [
    {
      "cell_type": "markdown",
      "metadata": {
        "id": "view-in-github",
        "colab_type": "text"
      },
      "source": [
        "<a href=\"https://colab.research.google.com/github/imemmul/TensorFlow-Notes/blob/main/Natural_language_processing.ipynb\" target=\"_parent\"><img src=\"https://colab.research.google.com/assets/colab-badge.svg\" alt=\"Open In Colab\"/></a>"
      ]
    },
    {
      "cell_type": "code",
      "execution_count": 1,
      "metadata": {
        "colab": {
          "base_uri": "https://localhost:8080/"
        },
        "id": "Mx-OiuY1EIWP",
        "outputId": "2a01c431-a8ba-4b13-f41e-814dcf94734b"
      },
      "outputs": [
        {
          "output_type": "stream",
          "name": "stdout",
          "text": [
            "GPU 0: Tesla T4 (UUID: GPU-0a5cc22a-b17a-92aa-2bc7-2b42d8ad5afb)\n"
          ]
        }
      ],
      "source": [
        "!nvidia-smi -L"
      ]
    },
    {
      "cell_type": "code",
      "source": [
        "!wget https://raw.githubusercontent.com/mrdbourke/tensorflow-deep-learning/main/extras/helper_functions.py\n",
        "\n",
        "from helper_functions import unzip_data, create_tensorboard_callback, plot_loss_curves, compare_historys"
      ],
      "metadata": {
        "colab": {
          "base_uri": "https://localhost:8080/"
        },
        "id": "nm8fLGiFLlJr",
        "outputId": "089c50f1-c573-4d37-a060-a0e20faa46fc"
      },
      "execution_count": 2,
      "outputs": [
        {
          "output_type": "stream",
          "name": "stdout",
          "text": [
            "--2022-09-05 18:56:56--  https://raw.githubusercontent.com/mrdbourke/tensorflow-deep-learning/main/extras/helper_functions.py\n",
            "Resolving raw.githubusercontent.com (raw.githubusercontent.com)... 185.199.108.133, 185.199.109.133, 185.199.110.133, ...\n",
            "Connecting to raw.githubusercontent.com (raw.githubusercontent.com)|185.199.108.133|:443... connected.\n",
            "HTTP request sent, awaiting response... 200 OK\n",
            "Length: 10246 (10K) [text/plain]\n",
            "Saving to: ‘helper_functions.py’\n",
            "\n",
            "helper_functions.py 100%[===================>]  10.01K  --.-KB/s    in 0s      \n",
            "\n",
            "2022-09-05 18:56:56 (63.4 MB/s) - ‘helper_functions.py’ saved [10246/10246]\n",
            "\n"
          ]
        }
      ]
    },
    {
      "cell_type": "code",
      "source": [
        "!wget https://storage.googleapis.com/ztm_tf_course/nlp_getting_started.zip"
      ],
      "metadata": {
        "colab": {
          "base_uri": "https://localhost:8080/"
        },
        "id": "-sJg_IoYL-KN",
        "outputId": "8be888fe-801e-48fe-ce6c-41e96ccab485"
      },
      "execution_count": 3,
      "outputs": [
        {
          "output_type": "stream",
          "name": "stdout",
          "text": [
            "--2022-09-05 18:56:59--  https://storage.googleapis.com/ztm_tf_course/nlp_getting_started.zip\n",
            "Resolving storage.googleapis.com (storage.googleapis.com)... 108.177.120.128, 142.250.159.128, 142.251.120.128, ...\n",
            "Connecting to storage.googleapis.com (storage.googleapis.com)|108.177.120.128|:443... connected.\n",
            "HTTP request sent, awaiting response... 200 OK\n",
            "Length: 607343 (593K) [application/zip]\n",
            "Saving to: ‘nlp_getting_started.zip’\n",
            "\n",
            "\rnlp_getting_started   0%[                    ]       0  --.-KB/s               \rnlp_getting_started 100%[===================>] 593.11K  --.-KB/s    in 0.01s   \n",
            "\n",
            "2022-09-05 18:57:00 (46.0 MB/s) - ‘nlp_getting_started.zip’ saved [607343/607343]\n",
            "\n"
          ]
        }
      ]
    },
    {
      "cell_type": "code",
      "source": [
        "unzip_data(\"nlp_getting_started.zip\")"
      ],
      "metadata": {
        "id": "HE_isNHCMh4j"
      },
      "execution_count": 4,
      "outputs": []
    },
    {
      "cell_type": "markdown",
      "source": [
        "### Visualizing a text dataset"
      ],
      "metadata": {
        "id": "RV2eSOZYMzN4"
      }
    },
    {
      "cell_type": "code",
      "source": [
        "import pandas as pd"
      ],
      "metadata": {
        "id": "tQokP-QYMkMr"
      },
      "execution_count": 5,
      "outputs": []
    },
    {
      "cell_type": "code",
      "source": [
        "train_df = pd.read_csv(\"train.csv\")\n",
        "test_df = pd.read_csv(\"test.csv\")\n",
        "train_df.head()"
      ],
      "metadata": {
        "colab": {
          "base_uri": "https://localhost:8080/",
          "height": 206
        },
        "id": "U_UfLbInNTbl",
        "outputId": "3dd80177-92dd-489e-defb-86798e98e74e"
      },
      "execution_count": 6,
      "outputs": [
        {
          "output_type": "execute_result",
          "data": {
            "text/plain": [
              "   id keyword location                                               text  \\\n",
              "0   1     NaN      NaN  Our Deeds are the Reason of this #earthquake M...   \n",
              "1   4     NaN      NaN             Forest fire near La Ronge Sask. Canada   \n",
              "2   5     NaN      NaN  All residents asked to 'shelter in place' are ...   \n",
              "3   6     NaN      NaN  13,000 people receive #wildfires evacuation or...   \n",
              "4   7     NaN      NaN  Just got sent this photo from Ruby #Alaska as ...   \n",
              "\n",
              "   target  \n",
              "0       1  \n",
              "1       1  \n",
              "2       1  \n",
              "3       1  \n",
              "4       1  "
            ],
            "text/html": [
              "\n",
              "  <div id=\"df-b7dfa787-dbfe-49cf-97f4-833986433f98\">\n",
              "    <div class=\"colab-df-container\">\n",
              "      <div>\n",
              "<style scoped>\n",
              "    .dataframe tbody tr th:only-of-type {\n",
              "        vertical-align: middle;\n",
              "    }\n",
              "\n",
              "    .dataframe tbody tr th {\n",
              "        vertical-align: top;\n",
              "    }\n",
              "\n",
              "    .dataframe thead th {\n",
              "        text-align: right;\n",
              "    }\n",
              "</style>\n",
              "<table border=\"1\" class=\"dataframe\">\n",
              "  <thead>\n",
              "    <tr style=\"text-align: right;\">\n",
              "      <th></th>\n",
              "      <th>id</th>\n",
              "      <th>keyword</th>\n",
              "      <th>location</th>\n",
              "      <th>text</th>\n",
              "      <th>target</th>\n",
              "    </tr>\n",
              "  </thead>\n",
              "  <tbody>\n",
              "    <tr>\n",
              "      <th>0</th>\n",
              "      <td>1</td>\n",
              "      <td>NaN</td>\n",
              "      <td>NaN</td>\n",
              "      <td>Our Deeds are the Reason of this #earthquake M...</td>\n",
              "      <td>1</td>\n",
              "    </tr>\n",
              "    <tr>\n",
              "      <th>1</th>\n",
              "      <td>4</td>\n",
              "      <td>NaN</td>\n",
              "      <td>NaN</td>\n",
              "      <td>Forest fire near La Ronge Sask. Canada</td>\n",
              "      <td>1</td>\n",
              "    </tr>\n",
              "    <tr>\n",
              "      <th>2</th>\n",
              "      <td>5</td>\n",
              "      <td>NaN</td>\n",
              "      <td>NaN</td>\n",
              "      <td>All residents asked to 'shelter in place' are ...</td>\n",
              "      <td>1</td>\n",
              "    </tr>\n",
              "    <tr>\n",
              "      <th>3</th>\n",
              "      <td>6</td>\n",
              "      <td>NaN</td>\n",
              "      <td>NaN</td>\n",
              "      <td>13,000 people receive #wildfires evacuation or...</td>\n",
              "      <td>1</td>\n",
              "    </tr>\n",
              "    <tr>\n",
              "      <th>4</th>\n",
              "      <td>7</td>\n",
              "      <td>NaN</td>\n",
              "      <td>NaN</td>\n",
              "      <td>Just got sent this photo from Ruby #Alaska as ...</td>\n",
              "      <td>1</td>\n",
              "    </tr>\n",
              "  </tbody>\n",
              "</table>\n",
              "</div>\n",
              "      <button class=\"colab-df-convert\" onclick=\"convertToInteractive('df-b7dfa787-dbfe-49cf-97f4-833986433f98')\"\n",
              "              title=\"Convert this dataframe to an interactive table.\"\n",
              "              style=\"display:none;\">\n",
              "        \n",
              "  <svg xmlns=\"http://www.w3.org/2000/svg\" height=\"24px\"viewBox=\"0 0 24 24\"\n",
              "       width=\"24px\">\n",
              "    <path d=\"M0 0h24v24H0V0z\" fill=\"none\"/>\n",
              "    <path d=\"M18.56 5.44l.94 2.06.94-2.06 2.06-.94-2.06-.94-.94-2.06-.94 2.06-2.06.94zm-11 1L8.5 8.5l.94-2.06 2.06-.94-2.06-.94L8.5 2.5l-.94 2.06-2.06.94zm10 10l.94 2.06.94-2.06 2.06-.94-2.06-.94-.94-2.06-.94 2.06-2.06.94z\"/><path d=\"M17.41 7.96l-1.37-1.37c-.4-.4-.92-.59-1.43-.59-.52 0-1.04.2-1.43.59L10.3 9.45l-7.72 7.72c-.78.78-.78 2.05 0 2.83L4 21.41c.39.39.9.59 1.41.59.51 0 1.02-.2 1.41-.59l7.78-7.78 2.81-2.81c.8-.78.8-2.07 0-2.86zM5.41 20L4 18.59l7.72-7.72 1.47 1.35L5.41 20z\"/>\n",
              "  </svg>\n",
              "      </button>\n",
              "      \n",
              "  <style>\n",
              "    .colab-df-container {\n",
              "      display:flex;\n",
              "      flex-wrap:wrap;\n",
              "      gap: 12px;\n",
              "    }\n",
              "\n",
              "    .colab-df-convert {\n",
              "      background-color: #E8F0FE;\n",
              "      border: none;\n",
              "      border-radius: 50%;\n",
              "      cursor: pointer;\n",
              "      display: none;\n",
              "      fill: #1967D2;\n",
              "      height: 32px;\n",
              "      padding: 0 0 0 0;\n",
              "      width: 32px;\n",
              "    }\n",
              "\n",
              "    .colab-df-convert:hover {\n",
              "      background-color: #E2EBFA;\n",
              "      box-shadow: 0px 1px 2px rgba(60, 64, 67, 0.3), 0px 1px 3px 1px rgba(60, 64, 67, 0.15);\n",
              "      fill: #174EA6;\n",
              "    }\n",
              "\n",
              "    [theme=dark] .colab-df-convert {\n",
              "      background-color: #3B4455;\n",
              "      fill: #D2E3FC;\n",
              "    }\n",
              "\n",
              "    [theme=dark] .colab-df-convert:hover {\n",
              "      background-color: #434B5C;\n",
              "      box-shadow: 0px 1px 3px 1px rgba(0, 0, 0, 0.15);\n",
              "      filter: drop-shadow(0px 1px 2px rgba(0, 0, 0, 0.3));\n",
              "      fill: #FFFFFF;\n",
              "    }\n",
              "  </style>\n",
              "\n",
              "      <script>\n",
              "        const buttonEl =\n",
              "          document.querySelector('#df-b7dfa787-dbfe-49cf-97f4-833986433f98 button.colab-df-convert');\n",
              "        buttonEl.style.display =\n",
              "          google.colab.kernel.accessAllowed ? 'block' : 'none';\n",
              "\n",
              "        async function convertToInteractive(key) {\n",
              "          const element = document.querySelector('#df-b7dfa787-dbfe-49cf-97f4-833986433f98');\n",
              "          const dataTable =\n",
              "            await google.colab.kernel.invokeFunction('convertToInteractive',\n",
              "                                                     [key], {});\n",
              "          if (!dataTable) return;\n",
              "\n",
              "          const docLinkHtml = 'Like what you see? Visit the ' +\n",
              "            '<a target=\"_blank\" href=https://colab.research.google.com/notebooks/data_table.ipynb>data table notebook</a>'\n",
              "            + ' to learn more about interactive tables.';\n",
              "          element.innerHTML = '';\n",
              "          dataTable['output_type'] = 'display_data';\n",
              "          await google.colab.output.renderOutput(dataTable, element);\n",
              "          const docLink = document.createElement('div');\n",
              "          docLink.innerHTML = docLinkHtml;\n",
              "          element.appendChild(docLink);\n",
              "        }\n",
              "      </script>\n",
              "    </div>\n",
              "  </div>\n",
              "  "
            ]
          },
          "metadata": {},
          "execution_count": 6
        }
      ]
    },
    {
      "cell_type": "code",
      "source": [
        "train_df_shuffled = train_df.sample(frac=1, random_state=42)\n",
        "train_df_shuffled.head()"
      ],
      "metadata": {
        "colab": {
          "base_uri": "https://localhost:8080/",
          "height": 285
        },
        "id": "FKzsUro-NZC8",
        "outputId": "bc55ae3d-3413-4c74-9a6f-42de4105b840"
      },
      "execution_count": 7,
      "outputs": [
        {
          "output_type": "execute_result",
          "data": {
            "text/plain": [
              "        id      keyword               location  \\\n",
              "2644  3796  destruction                    NaN   \n",
              "2227  3185       deluge                    NaN   \n",
              "5448  7769       police                     UK   \n",
              "132    191   aftershock                    NaN   \n",
              "6845  9810       trauma  Montgomery County, MD   \n",
              "\n",
              "                                                   text  target  \n",
              "2644  So you have a new weapon that can cause un-ima...       1  \n",
              "2227  The f$&amp;@ing things I do for #GISHWHES Just...       0  \n",
              "5448  DT @georgegalloway: RT @Galloway4Mayor: ÛÏThe...       1  \n",
              "132   Aftershock back to school kick off was great. ...       0  \n",
              "6845  in response to trauma Children of Addicts deve...       0  "
            ],
            "text/html": [
              "\n",
              "  <div id=\"df-f6eca398-d9aa-448d-996e-0d9b5131a04e\">\n",
              "    <div class=\"colab-df-container\">\n",
              "      <div>\n",
              "<style scoped>\n",
              "    .dataframe tbody tr th:only-of-type {\n",
              "        vertical-align: middle;\n",
              "    }\n",
              "\n",
              "    .dataframe tbody tr th {\n",
              "        vertical-align: top;\n",
              "    }\n",
              "\n",
              "    .dataframe thead th {\n",
              "        text-align: right;\n",
              "    }\n",
              "</style>\n",
              "<table border=\"1\" class=\"dataframe\">\n",
              "  <thead>\n",
              "    <tr style=\"text-align: right;\">\n",
              "      <th></th>\n",
              "      <th>id</th>\n",
              "      <th>keyword</th>\n",
              "      <th>location</th>\n",
              "      <th>text</th>\n",
              "      <th>target</th>\n",
              "    </tr>\n",
              "  </thead>\n",
              "  <tbody>\n",
              "    <tr>\n",
              "      <th>2644</th>\n",
              "      <td>3796</td>\n",
              "      <td>destruction</td>\n",
              "      <td>NaN</td>\n",
              "      <td>So you have a new weapon that can cause un-ima...</td>\n",
              "      <td>1</td>\n",
              "    </tr>\n",
              "    <tr>\n",
              "      <th>2227</th>\n",
              "      <td>3185</td>\n",
              "      <td>deluge</td>\n",
              "      <td>NaN</td>\n",
              "      <td>The f$&amp;amp;@ing things I do for #GISHWHES Just...</td>\n",
              "      <td>0</td>\n",
              "    </tr>\n",
              "    <tr>\n",
              "      <th>5448</th>\n",
              "      <td>7769</td>\n",
              "      <td>police</td>\n",
              "      <td>UK</td>\n",
              "      <td>DT @georgegalloway: RT @Galloway4Mayor: ÛÏThe...</td>\n",
              "      <td>1</td>\n",
              "    </tr>\n",
              "    <tr>\n",
              "      <th>132</th>\n",
              "      <td>191</td>\n",
              "      <td>aftershock</td>\n",
              "      <td>NaN</td>\n",
              "      <td>Aftershock back to school kick off was great. ...</td>\n",
              "      <td>0</td>\n",
              "    </tr>\n",
              "    <tr>\n",
              "      <th>6845</th>\n",
              "      <td>9810</td>\n",
              "      <td>trauma</td>\n",
              "      <td>Montgomery County, MD</td>\n",
              "      <td>in response to trauma Children of Addicts deve...</td>\n",
              "      <td>0</td>\n",
              "    </tr>\n",
              "  </tbody>\n",
              "</table>\n",
              "</div>\n",
              "      <button class=\"colab-df-convert\" onclick=\"convertToInteractive('df-f6eca398-d9aa-448d-996e-0d9b5131a04e')\"\n",
              "              title=\"Convert this dataframe to an interactive table.\"\n",
              "              style=\"display:none;\">\n",
              "        \n",
              "  <svg xmlns=\"http://www.w3.org/2000/svg\" height=\"24px\"viewBox=\"0 0 24 24\"\n",
              "       width=\"24px\">\n",
              "    <path d=\"M0 0h24v24H0V0z\" fill=\"none\"/>\n",
              "    <path d=\"M18.56 5.44l.94 2.06.94-2.06 2.06-.94-2.06-.94-.94-2.06-.94 2.06-2.06.94zm-11 1L8.5 8.5l.94-2.06 2.06-.94-2.06-.94L8.5 2.5l-.94 2.06-2.06.94zm10 10l.94 2.06.94-2.06 2.06-.94-2.06-.94-.94-2.06-.94 2.06-2.06.94z\"/><path d=\"M17.41 7.96l-1.37-1.37c-.4-.4-.92-.59-1.43-.59-.52 0-1.04.2-1.43.59L10.3 9.45l-7.72 7.72c-.78.78-.78 2.05 0 2.83L4 21.41c.39.39.9.59 1.41.59.51 0 1.02-.2 1.41-.59l7.78-7.78 2.81-2.81c.8-.78.8-2.07 0-2.86zM5.41 20L4 18.59l7.72-7.72 1.47 1.35L5.41 20z\"/>\n",
              "  </svg>\n",
              "      </button>\n",
              "      \n",
              "  <style>\n",
              "    .colab-df-container {\n",
              "      display:flex;\n",
              "      flex-wrap:wrap;\n",
              "      gap: 12px;\n",
              "    }\n",
              "\n",
              "    .colab-df-convert {\n",
              "      background-color: #E8F0FE;\n",
              "      border: none;\n",
              "      border-radius: 50%;\n",
              "      cursor: pointer;\n",
              "      display: none;\n",
              "      fill: #1967D2;\n",
              "      height: 32px;\n",
              "      padding: 0 0 0 0;\n",
              "      width: 32px;\n",
              "    }\n",
              "\n",
              "    .colab-df-convert:hover {\n",
              "      background-color: #E2EBFA;\n",
              "      box-shadow: 0px 1px 2px rgba(60, 64, 67, 0.3), 0px 1px 3px 1px rgba(60, 64, 67, 0.15);\n",
              "      fill: #174EA6;\n",
              "    }\n",
              "\n",
              "    [theme=dark] .colab-df-convert {\n",
              "      background-color: #3B4455;\n",
              "      fill: #D2E3FC;\n",
              "    }\n",
              "\n",
              "    [theme=dark] .colab-df-convert:hover {\n",
              "      background-color: #434B5C;\n",
              "      box-shadow: 0px 1px 3px 1px rgba(0, 0, 0, 0.15);\n",
              "      filter: drop-shadow(0px 1px 2px rgba(0, 0, 0, 0.3));\n",
              "      fill: #FFFFFF;\n",
              "    }\n",
              "  </style>\n",
              "\n",
              "      <script>\n",
              "        const buttonEl =\n",
              "          document.querySelector('#df-f6eca398-d9aa-448d-996e-0d9b5131a04e button.colab-df-convert');\n",
              "        buttonEl.style.display =\n",
              "          google.colab.kernel.accessAllowed ? 'block' : 'none';\n",
              "\n",
              "        async function convertToInteractive(key) {\n",
              "          const element = document.querySelector('#df-f6eca398-d9aa-448d-996e-0d9b5131a04e');\n",
              "          const dataTable =\n",
              "            await google.colab.kernel.invokeFunction('convertToInteractive',\n",
              "                                                     [key], {});\n",
              "          if (!dataTable) return;\n",
              "\n",
              "          const docLinkHtml = 'Like what you see? Visit the ' +\n",
              "            '<a target=\"_blank\" href=https://colab.research.google.com/notebooks/data_table.ipynb>data table notebook</a>'\n",
              "            + ' to learn more about interactive tables.';\n",
              "          element.innerHTML = '';\n",
              "          dataTable['output_type'] = 'display_data';\n",
              "          await google.colab.output.renderOutput(dataTable, element);\n",
              "          const docLink = document.createElement('div');\n",
              "          docLink.innerHTML = docLinkHtml;\n",
              "          element.appendChild(docLink);\n",
              "        }\n",
              "      </script>\n",
              "    </div>\n",
              "  </div>\n",
              "  "
            ]
          },
          "metadata": {},
          "execution_count": 7
        }
      ]
    },
    {
      "cell_type": "code",
      "source": [
        "train_df.target.value_counts()"
      ],
      "metadata": {
        "colab": {
          "base_uri": "https://localhost:8080/"
        },
        "id": "0o1QzUDLNv-1",
        "outputId": "c4c6cec0-afd2-4b13-aa48-3615daa36547"
      },
      "execution_count": 8,
      "outputs": [
        {
          "output_type": "execute_result",
          "data": {
            "text/plain": [
              "0    4342\n",
              "1    3271\n",
              "Name: target, dtype: int64"
            ]
          },
          "metadata": {},
          "execution_count": 8
        }
      ]
    },
    {
      "cell_type": "code",
      "source": [
        "len(train_df)"
      ],
      "metadata": {
        "colab": {
          "base_uri": "https://localhost:8080/"
        },
        "id": "63NCnqzEN6Pl",
        "outputId": "ba7a14a4-dd63-49a6-b6ff-102da6f77499"
      },
      "execution_count": 9,
      "outputs": [
        {
          "output_type": "execute_result",
          "data": {
            "text/plain": [
              "7613"
            ]
          },
          "metadata": {},
          "execution_count": 9
        }
      ]
    },
    {
      "cell_type": "code",
      "source": [
        "import random\n",
        "random_index = random.randint(0, len(train_df)-5)\n",
        "for row in train_df_shuffled[[\"text\", \"target\"]][random_index:random_index+5].itertuples():\n",
        "  _, text, target = row\n",
        "  print(f\"Target: {target}\", \"(real_disaster)\" if target > 0 else \"(not_real_disaster\")\n",
        "  print(f\"Text: \\n{text}\\n\")\n",
        "  print(\"---\\n\")"
      ],
      "metadata": {
        "colab": {
          "base_uri": "https://localhost:8080/"
        },
        "id": "ee7X8lGfORoS",
        "outputId": "0edfbc7b-2e3b-4eb2-e454-13e91ce8f5ab"
      },
      "execution_count": 10,
      "outputs": [
        {
          "output_type": "stream",
          "name": "stdout",
          "text": [
            "Target: 1 (real_disaster)\n",
            "Text: \n",
            "I-77 Mile Marker 31 South Mooresville  Iredell Vehicle Accident Ramp Closed at 8/6 1:18 PM\n",
            "\n",
            "---\n",
            "\n",
            "Target: 0 (not_real_disaster\n",
            "Text: \n",
            "@abandonedpics You should delete this one it's not an abbandoned nor sinking. ThatÛªs the darsena of the Castello scaligero di Sirmione.\n",
            "\n",
            "---\n",
            "\n",
            "Target: 1 (real_disaster)\n",
            "Text: \n",
            "MH370 victim's family furious the media was told about wreckage confirmation first http://t.co/carMqiVkwU\n",
            "\n",
            "---\n",
            "\n",
            "Target: 0 (not_real_disaster\n",
            "Text: \n",
            "Real Hip Hop: Apollo Brown Feat M.O.P. - Detonate \n",
            "#JTW http://t.co/cEiaO1TEXr\n",
            "\n",
            "---\n",
            "\n",
            "Target: 0 (not_real_disaster\n",
            "Text: \n",
            "Do you know the emergency plan at your workplace? If not ask your supervisor or operations manager. #Retail\n",
            "\n",
            "---\n",
            "\n"
          ]
        }
      ]
    },
    {
      "cell_type": "markdown",
      "source": [
        "### Splitting data into and validation sets"
      ],
      "metadata": {
        "id": "WzVdevVUPKKU"
      }
    },
    {
      "cell_type": "code",
      "source": [
        "from sklearn.model_selection import train_test_split"
      ],
      "metadata": {
        "id": "TBu4bpcyP5LZ"
      },
      "execution_count": 11,
      "outputs": []
    },
    {
      "cell_type": "code",
      "source": [
        "train_sentences, val_sentences, train_labels, val_labels = train_test_split(train_df_shuffled[\"text\"].to_numpy(),\n",
        "                                                                            train_df_shuffled[\"target\"].to_numpy(),\n",
        "                                                                            test_size=0.1,\n",
        "                                                                            random_state=42)"
      ],
      "metadata": {
        "id": "IL0JfJLcP8TC"
      },
      "execution_count": 12,
      "outputs": []
    },
    {
      "cell_type": "code",
      "source": [
        "len(train_sentences), len(train_labels), len(val_sentences)"
      ],
      "metadata": {
        "colab": {
          "base_uri": "https://localhost:8080/"
        },
        "id": "hF2kxlGOQbTf",
        "outputId": "5a727a45-4ac0-4133-b52c-9be61ba6fc30"
      },
      "execution_count": 13,
      "outputs": [
        {
          "output_type": "execute_result",
          "data": {
            "text/plain": [
              "(6851, 6851, 762)"
            ]
          },
          "metadata": {},
          "execution_count": 13
        }
      ]
    },
    {
      "cell_type": "code",
      "source": [
        "train_sentences[:10], train_labels[:10]"
      ],
      "metadata": {
        "colab": {
          "base_uri": "https://localhost:8080/"
        },
        "id": "qjidbvUdQdtA",
        "outputId": "5ae37550-d165-4688-cd4e-f1af8338802f"
      },
      "execution_count": 14,
      "outputs": [
        {
          "output_type": "execute_result",
          "data": {
            "text/plain": [
              "(array(['@mogacola @zamtriossu i screamed after hitting tweet',\n",
              "        'Imagine getting flattened by Kurt Zouma',\n",
              "        '@Gurmeetramrahim #MSGDoing111WelfareWorks Green S welfare force ke appx 65000 members har time disaster victim ki help ke liye tyar hai....',\n",
              "        \"@shakjn @C7 @Magnums im shaking in fear he's gonna hack the planet\",\n",
              "        'Somehow find you and I collide http://t.co/Ee8RpOahPk',\n",
              "        '@EvaHanderek @MarleyKnysh great times until the bus driver held us hostage in the mall parking lot lmfao',\n",
              "        'destroy the free fandom honestly',\n",
              "        'Weapons stolen from National Guard Armory in New Albany still missing #Gunsense http://t.co/lKNU8902JE',\n",
              "        '@wfaaweather Pete when will the heat wave pass? Is it really going to be mid month? Frisco Boy Scouts have a canoe trip in Okla.',\n",
              "        'Patient-reported outcomes in long-term survivors of metastatic colorectal cancer - British Journal of Surgery http://t.co/5Yl4DC1Tqt'],\n",
              "       dtype=object), array([0, 0, 1, 0, 0, 1, 1, 0, 1, 1]))"
            ]
          },
          "metadata": {},
          "execution_count": 14
        }
      ]
    },
    {
      "cell_type": "code",
      "source": [
        "max = 0\n",
        "index = 0\n",
        "for i in range(len(train_sentences)):\n",
        "  if len(train_sentences[i].split()) > max:\n",
        "    max = len(train_sentences[i].split())\n",
        "    index = i\n",
        "max, index"
      ],
      "metadata": {
        "colab": {
          "base_uri": "https://localhost:8080/"
        },
        "id": "tNq2wAzzhyGi",
        "outputId": "eda04a4a-f4ca-43f6-c10c-d94ec14a50e5"
      },
      "execution_count": 15,
      "outputs": [
        {
          "output_type": "execute_result",
          "data": {
            "text/plain": [
              "(31, 318)"
            ]
          },
          "metadata": {},
          "execution_count": 15
        }
      ]
    },
    {
      "cell_type": "code",
      "source": [
        "len(train_sentences[318].split())"
      ],
      "metadata": {
        "colab": {
          "base_uri": "https://localhost:8080/"
        },
        "id": "qh-FqAXrjJ99",
        "outputId": "a29af600-4d8f-486c-93cf-45ea272ce98d"
      },
      "execution_count": 16,
      "outputs": [
        {
          "output_type": "execute_result",
          "data": {
            "text/plain": [
              "31"
            ]
          },
          "metadata": {},
          "execution_count": 16
        }
      ]
    },
    {
      "cell_type": "markdown",
      "source": [
        "### Text Vectorization(tokenization)"
      ],
      "metadata": {
        "id": "5B1k3AKfQo9C"
      }
    },
    {
      "cell_type": "code",
      "source": [
        "import tensorflow as tf\n",
        "from tensorflow.keras.layers import TextVectorization"
      ],
      "metadata": {
        "id": "HVuQ2baaehha"
      },
      "execution_count": 17,
      "outputs": []
    },
    {
      "cell_type": "code",
      "source": [
        "text_vectorizer = TextVectorization(max_tokens=10000,\n",
        "                                    standardize=\"lower_and_strip_punctuation\",\n",
        "                                    split=\"whitespace\",\n",
        "                                    ngrams=None,\n",
        "                                    output_mode=\"int\",\n",
        "                                    output_sequence_length=None,\n",
        "                                    pad_to_max_tokens=True)"
      ],
      "metadata": {
        "id": "mN2m3iT0ejo3"
      },
      "execution_count": 18,
      "outputs": []
    },
    {
      "cell_type": "code",
      "source": [
        "round(sum([len(i.split()) for i in train_sentences])/len(train_sentences))"
      ],
      "metadata": {
        "colab": {
          "base_uri": "https://localhost:8080/"
        },
        "id": "WV-tAK9QhCGM",
        "outputId": "f8179a18-b9d8-4c5d-8c2b-a12398956044"
      },
      "execution_count": 19,
      "outputs": [
        {
          "output_type": "execute_result",
          "data": {
            "text/plain": [
              "15"
            ]
          },
          "metadata": {},
          "execution_count": 19
        }
      ]
    },
    {
      "cell_type": "code",
      "source": [
        "max_vocab_length = 10000\n",
        "max_length = 15\n",
        "\n",
        "text_vectorizer = TextVectorization(max_tokens=max_vocab_length,\n",
        "                                    output_mode=\"int\",\n",
        "                                    output_sequence_length=max_length)"
      ],
      "metadata": {
        "id": "hzRXVCsbjik2"
      },
      "execution_count": 20,
      "outputs": []
    },
    {
      "cell_type": "code",
      "source": [
        "# Fitting the text vectorizer\n",
        "\n",
        "text_vectorizer.adapt(train_sentences)"
      ],
      "metadata": {
        "id": "n7OwNqCBj5qR"
      },
      "execution_count": 21,
      "outputs": []
    },
    {
      "cell_type": "code",
      "source": [
        "sample_sent = \"I a fire in next building!\"\n",
        "text_vectorizer([sample_sent])"
      ],
      "metadata": {
        "colab": {
          "base_uri": "https://localhost:8080/"
        },
        "id": "c6kb0BDAkX5b",
        "outputId": "02f50968-faf3-4e5b-ff02-e30e6a66bead"
      },
      "execution_count": 22,
      "outputs": [
        {
          "output_type": "execute_result",
          "data": {
            "text/plain": [
              "<tf.Tensor: shape=(1, 15), dtype=int64, numpy=\n",
              "array([[  8,   3,  42,   4, 274, 630,   0,   0,   0,   0,   0,   0,   0,\n",
              "          0,   0]])>"
            ]
          },
          "metadata": {},
          "execution_count": 22
        }
      ]
    },
    {
      "cell_type": "code",
      "source": [
        "# Choose a random sentence from the training dataset and tokenize it\n",
        "random_sentence = random.choice(train_sentences)\n",
        "print(f\"org text : \\n {random_sentence} \\\n",
        "\\n\\n Vectorized:\\n\")\n",
        "text_vectorizer([random_sentence])"
      ],
      "metadata": {
        "colab": {
          "base_uri": "https://localhost:8080/"
        },
        "id": "gWGrLkP_kkkN",
        "outputId": "5e0c3098-cafa-40eb-f1e4-05baa74aa51f"
      },
      "execution_count": 23,
      "outputs": [
        {
          "output_type": "stream",
          "name": "stdout",
          "text": [
            "org text : \n",
            " @AlexJacobsonPFS All Andre and Gore have to do is not fall off the cliff and we're elite on that side of the ball. \n",
            "\n",
            " Vectorized:\n",
            "\n"
          ]
        },
        {
          "output_type": "execute_result",
          "data": {
            "text/plain": [
              "<tf.Tensor: shape=(1, 15), dtype=int64, numpy=\n",
              "array([[  1,  44,   1,   7,   1,  24,   5,  68,   9,  34, 278, 102,   2,\n",
              "        403,   7]])>"
            ]
          },
          "metadata": {},
          "execution_count": 23
        }
      ]
    },
    {
      "cell_type": "code",
      "source": [
        "words_in_vocabs = text_vectorizer.get_vocabulary()\n",
        "top_5_words = words_in_vocabs[:5]\n",
        "bottom_5_words = words_in_vocabs[-5:]\n",
        "print(f\"top 5: \\n {top_5_words}\")\n",
        "print(f\"bottom5: \\n {bottom_5_words}\")"
      ],
      "metadata": {
        "colab": {
          "base_uri": "https://localhost:8080/"
        },
        "id": "1qVwHqtdlOAJ",
        "outputId": "f243c9fb-ab43-4edd-96f2-ccbeae04e873"
      },
      "execution_count": 24,
      "outputs": [
        {
          "output_type": "stream",
          "name": "stdout",
          "text": [
            "top 5: \n",
            " ['', '[UNK]', 'the', 'a', 'in']\n",
            "bottom5: \n",
            " ['pages', 'paeds', 'pads', 'padres', 'paddytomlinson1']\n"
          ]
        }
      ]
    },
    {
      "cell_type": "markdown",
      "source": [
        "### Creating and embedding using embedding layer"
      ],
      "metadata": {
        "id": "TEdDR5Jal9Bg"
      }
    },
    {
      "cell_type": "code",
      "source": [
        "from tensorflow.keras import layers\n",
        "\n",
        "embedding = layers.Embedding(input_dim=max_vocab_length,\n",
        "                             output_dim=128,\n",
        "                             input_length=max_length)\n",
        "embedding"
      ],
      "metadata": {
        "colab": {
          "base_uri": "https://localhost:8080/"
        },
        "id": "o6zvULnXmcti",
        "outputId": "c28ee811-d9c2-4b44-e0f3-7392d42733dc"
      },
      "execution_count": 25,
      "outputs": [
        {
          "output_type": "execute_result",
          "data": {
            "text/plain": [
              "<keras.layers.embeddings.Embedding at 0x7f956042ed90>"
            ]
          },
          "metadata": {},
          "execution_count": 25
        }
      ]
    },
    {
      "cell_type": "code",
      "source": [
        "embedding.weights"
      ],
      "metadata": {
        "colab": {
          "base_uri": "https://localhost:8080/"
        },
        "id": "GAqQnwytnY-g",
        "outputId": "5c894dbd-fceb-422c-f7f0-f179a7c920c5"
      },
      "execution_count": 26,
      "outputs": [
        {
          "output_type": "execute_result",
          "data": {
            "text/plain": [
              "[]"
            ]
          },
          "metadata": {},
          "execution_count": 26
        }
      ]
    },
    {
      "cell_type": "code",
      "source": [
        "random_sentence = random.choice(train_sentences)\n",
        "print(f\"org text:\\n {random_sentence} \\n Embedded: \\n\")\n",
        "sample_embed = embedding(text_vectorizer([random_sentence]))\n",
        "sample_embed"
      ],
      "metadata": {
        "colab": {
          "base_uri": "https://localhost:8080/"
        },
        "id": "559NKjIknawj",
        "outputId": "7f8ebe8f-9a66-4930-f683-c81d7c91cbab"
      },
      "execution_count": 27,
      "outputs": [
        {
          "output_type": "stream",
          "name": "stdout",
          "text": [
            "org text:\n",
            " 'Food crematoria' in Russia provoke outrage amid crisis famine memories\n",
            "http://t.co/FelR5a1hBP \n",
            " Embedded: \n",
            "\n"
          ]
        },
        {
          "output_type": "execute_result",
          "data": {
            "text/plain": [
              "<tf.Tensor: shape=(1, 15, 128), dtype=float32, numpy=\n",
              "array([[[ 0.04135497,  0.04275812,  0.04943034, ...,  0.01967895,\n",
              "          0.04420861,  0.03354868],\n",
              "        [ 0.00458499,  0.03780201, -0.01994306, ..., -0.00055314,\n",
              "         -0.02471858, -0.01476099],\n",
              "        [ 0.01289909,  0.01333741,  0.02785746, ..., -0.03269788,\n",
              "          0.00865165, -0.00752146],\n",
              "        ...,\n",
              "        [-0.00431061,  0.04238851, -0.02648196, ..., -0.00082462,\n",
              "         -0.02473031,  0.00382905],\n",
              "        [-0.00431061,  0.04238851, -0.02648196, ..., -0.00082462,\n",
              "         -0.02473031,  0.00382905],\n",
              "        [-0.00431061,  0.04238851, -0.02648196, ..., -0.00082462,\n",
              "         -0.02473031,  0.00382905]]], dtype=float32)>"
            ]
          },
          "metadata": {},
          "execution_count": 27
        }
      ]
    },
    {
      "cell_type": "code",
      "source": [
        "sample_embed[0][0], sample_embed[0][0].shape, random_sentence"
      ],
      "metadata": {
        "colab": {
          "base_uri": "https://localhost:8080/"
        },
        "id": "UpLKGjVin270",
        "outputId": "c1b9e542-396b-428b-ee5f-06e97d7db09c"
      },
      "execution_count": 28,
      "outputs": [
        {
          "output_type": "execute_result",
          "data": {
            "text/plain": [
              "(<tf.Tensor: shape=(128,), dtype=float32, numpy=\n",
              " array([ 0.04135497,  0.04275812,  0.04943034,  0.02097164,  0.04116121,\n",
              "        -0.02322785,  0.04436508,  0.00068603,  0.0362362 , -0.00960821,\n",
              "         0.03042777, -0.03940932, -0.00011748,  0.02603774,  0.01691392,\n",
              "        -0.02876908,  0.04037249, -0.0286167 ,  0.00640411, -0.02915974,\n",
              "         0.03333337,  0.04925859, -0.04284124,  0.0057397 ,  0.01785627,\n",
              "        -0.03066068, -0.00878432, -0.0412485 ,  0.00896149,  0.00981255,\n",
              "         0.0360278 , -0.04169564,  0.02297324,  0.04894794, -0.04072233,\n",
              "         0.01742205, -0.02816367, -0.02741336, -0.0365953 , -0.04900322,\n",
              "        -0.04596865,  0.00072206,  0.01516939,  0.03193036,  0.02812788,\n",
              "         0.02628301,  0.01955895, -0.01456659,  0.00196254, -0.03892394,\n",
              "         0.01246802, -0.0319672 ,  0.01877569, -0.04301871, -0.01183772,\n",
              "         0.02940715,  0.01833929, -0.02855027, -0.01196503,  0.03811124,\n",
              "         0.04270189, -0.0399259 ,  0.03704312,  0.00073916, -0.02904391,\n",
              "        -0.0294291 , -0.04720298, -0.04805348, -0.03067199,  0.03763381,\n",
              "        -0.04215602,  0.03035841,  0.01346171, -0.04165705,  0.02930747,\n",
              "         0.01930472,  0.01166841, -0.00230658,  0.02487805, -0.03966383,\n",
              "        -0.01288538, -0.00066236, -0.00068138,  0.02271564,  0.04109914,\n",
              "        -0.02024109,  0.02723813, -0.00127446,  0.03381446,  0.03809711,\n",
              "         0.03487822, -0.02230796, -0.01098774, -0.04175824, -0.0307788 ,\n",
              "        -0.04055593, -0.01421431, -0.04468272,  0.00449072,  0.01933172,\n",
              "        -0.04936067, -0.04827267, -0.0123512 , -0.01094196,  0.02960243,\n",
              "         0.04339245, -0.02638965, -0.0091952 ,  0.01948633,  0.00383501,\n",
              "         0.03348726, -0.03051066,  0.01551521, -0.01923679,  0.00666625,\n",
              "        -0.04876931,  0.04294976,  0.03532206, -0.00752691,  0.00474472,\n",
              "         0.030409  ,  0.0092367 ,  0.03692553,  0.04340614,  0.01621512,\n",
              "         0.01967895,  0.04420861,  0.03354868], dtype=float32)>,\n",
              " TensorShape([128]),\n",
              " \"'Food crematoria' in Russia provoke outrage amid crisis famine memories\\nhttp://t.co/FelR5a1hBP\")"
            ]
          },
          "metadata": {},
          "execution_count": 28
        }
      ]
    },
    {
      "cell_type": "markdown",
      "source": [
        "### Modelling experiments and tutorial\n",
        "\n",
        "* Model 0 : Naive Bayes\n",
        "* Model 1 : Dense model\n",
        "* Model 2 : LSTM model\n",
        "* Model 3 : GRU model\n",
        "* Model 4 : Bidirectional-LTSM\n",
        "* Model 5 : 1D CNN\n",
        "* Model 6 : TF"
      ],
      "metadata": {
        "id": "fBgyYDqNoMrT"
      }
    },
    {
      "cell_type": "code",
      "source": [
        "from sklearn.feature_extraction.text import TfidfVectorizer\n",
        "from sklearn.naive_bayes import MultinomialNB\n",
        "from sklearn.pipeline import Pipeline"
      ],
      "metadata": {
        "id": "B3SBc4l0pk0L"
      },
      "execution_count": 29,
      "outputs": []
    },
    {
      "cell_type": "code",
      "source": [
        "model_0 = Pipeline([\n",
        "    (\"tfidf\", TfidfVectorizer()),\n",
        "    (\"clf\", MultinomialNB())\n",
        "])\n",
        "model_0.fit(train_sentences, train_labels)"
      ],
      "metadata": {
        "colab": {
          "base_uri": "https://localhost:8080/"
        },
        "id": "HT7C6Xh_yFFz",
        "outputId": "52c603e0-b544-4240-8b58-05e06c369360"
      },
      "execution_count": 30,
      "outputs": [
        {
          "output_type": "execute_result",
          "data": {
            "text/plain": [
              "Pipeline(steps=[('tfidf', TfidfVectorizer()), ('clf', MultinomialNB())])"
            ]
          },
          "metadata": {},
          "execution_count": 30
        }
      ]
    },
    {
      "cell_type": "code",
      "source": [
        "baseline_score = model_0.score(val_sentences, val_labels)\n",
        "baseline_score * 100"
      ],
      "metadata": {
        "colab": {
          "base_uri": "https://localhost:8080/"
        },
        "id": "y-XQpGUtyhZF",
        "outputId": "5b6834f3-fe16-4c39-f0c2-37f71d2a17f5"
      },
      "execution_count": 31,
      "outputs": [
        {
          "output_type": "execute_result",
          "data": {
            "text/plain": [
              "79.26509186351706"
            ]
          },
          "metadata": {},
          "execution_count": 31
        }
      ]
    },
    {
      "cell_type": "code",
      "source": [
        "baseline_preds = model_0.predict(val_sentences)\n",
        "baseline_preds[:10]"
      ],
      "metadata": {
        "colab": {
          "base_uri": "https://localhost:8080/"
        },
        "id": "OO3TErHHyvXr",
        "outputId": "25d7aef2-cfd3-4199-cdae-4a9237de4e1f"
      },
      "execution_count": 32,
      "outputs": [
        {
          "output_type": "execute_result",
          "data": {
            "text/plain": [
              "array([1, 1, 1, 0, 0, 1, 1, 1, 1, 0])"
            ]
          },
          "metadata": {},
          "execution_count": 32
        }
      ]
    },
    {
      "cell_type": "code",
      "source": [
        "from sklearn.metrics import accuracy_score, precision_recall_fscore_support\n"
      ],
      "metadata": {
        "id": "VZp8ttdDy6sJ"
      },
      "execution_count": 33,
      "outputs": []
    },
    {
      "cell_type": "code",
      "source": [
        "def calculate_results(y_true, y_pred):\n",
        "  model_accuracy = accuracy_score(y_true, y_pred) * 100\n",
        "  model_precision, model_recall, model_f1, _ = precision_recall_fscore_support(y_true, y_pred, average=\"weighted\")\n",
        "  model_results = {\"accuracy\": model_accuracy,\n",
        "                   \"precision\": model_precision,\n",
        "                   \"recall\": model_recall,\n",
        "                   \"f1\": model_f1}\n",
        "  return model_results"
      ],
      "metadata": {
        "id": "tBcSCUTbz2Tv"
      },
      "execution_count": 237,
      "outputs": []
    },
    {
      "cell_type": "code",
      "source": [
        "baseline_results = calculate_results(val_labels, baseline_preds)"
      ],
      "metadata": {
        "id": "lqAQ2J2zz8CT"
      },
      "execution_count": 35,
      "outputs": []
    },
    {
      "cell_type": "markdown",
      "source": [
        "### Model 1 : Dense model"
      ],
      "metadata": {
        "id": "aL_EYtga1Yy1"
      }
    },
    {
      "cell_type": "code",
      "source": [
        "from helper_functions import create_tensorboard_callback\n",
        "LOG_DIR = \"model_logs\""
      ],
      "metadata": {
        "id": "Err0_lOc2fwH"
      },
      "execution_count": 36,
      "outputs": []
    },
    {
      "cell_type": "code",
      "source": [
        "from tensorflow.keras import layers\n",
        "inputs = layers.Input(shape=(1,), dtype=tf.string)\n",
        "x = text_vectorizer(inputs)\n",
        "x = embedding(x)\n",
        "x = layers.GlobalAveragePooling1D()(x)\n",
        "outputs = layers.Dense(1, activation=\"sigmoid\")(x)\n",
        "model_1 = tf.keras.Model(inputs, outputs, name=\"model_1_dense\")"
      ],
      "metadata": {
        "id": "PFS9UCmC2oyV"
      },
      "execution_count": 37,
      "outputs": []
    },
    {
      "cell_type": "code",
      "source": [
        "model_1.summary()"
      ],
      "metadata": {
        "colab": {
          "base_uri": "https://localhost:8080/"
        },
        "id": "ytPb4CL13LXJ",
        "outputId": "da10ef31-1e42-4f2d-b74d-12260d12c7d1"
      },
      "execution_count": 38,
      "outputs": [
        {
          "output_type": "stream",
          "name": "stdout",
          "text": [
            "Model: \"model_1_dense\"\n",
            "_________________________________________________________________\n",
            " Layer (type)                Output Shape              Param #   \n",
            "=================================================================\n",
            " input_1 (InputLayer)        [(None, 1)]               0         \n",
            "                                                                 \n",
            " text_vectorization_1 (TextV  (None, 15)               0         \n",
            " ectorization)                                                   \n",
            "                                                                 \n",
            " embedding (Embedding)       (None, 15, 128)           1280000   \n",
            "                                                                 \n",
            " global_average_pooling1d (G  (None, 128)              0         \n",
            " lobalAveragePooling1D)                                          \n",
            "                                                                 \n",
            " dense (Dense)               (None, 1)                 129       \n",
            "                                                                 \n",
            "=================================================================\n",
            "Total params: 1,280,129\n",
            "Trainable params: 1,280,129\n",
            "Non-trainable params: 0\n",
            "_________________________________________________________________\n"
          ]
        }
      ]
    },
    {
      "cell_type": "code",
      "source": [
        "model_1.compile(loss=\"binary_crossentropy\",\n",
        "                optimizer=tf.keras.optimizers.Adam(),\n",
        "                metrics=[\"accuracy\"])"
      ],
      "metadata": {
        "id": "Fd5noY5L3M04"
      },
      "execution_count": 39,
      "outputs": []
    },
    {
      "cell_type": "code",
      "source": [
        "model_1_history = model_1.fit(train_sentences,\n",
        "                              train_labels,\n",
        "                              epochs=5,\n",
        "                              validation_data=(val_sentences, val_labels),\n",
        "                              callbacks=[create_tensorboard_callback(dir_name=LOG_DIR,\n",
        "                                                                     experiment_name=\"model_1_dense\")])"
      ],
      "metadata": {
        "colab": {
          "base_uri": "https://localhost:8080/"
        },
        "id": "H72RjuvX3c04",
        "outputId": "01716b57-c795-44b2-fd55-c680e1bf3e9b"
      },
      "execution_count": 40,
      "outputs": [
        {
          "output_type": "stream",
          "name": "stdout",
          "text": [
            "Saving TensorBoard log files to: model_logs/model_1_dense/20220905-185707\n",
            "Epoch 1/5\n",
            "215/215 [==============================] - 6s 5ms/step - loss: 0.6123 - accuracy: 0.6824 - val_loss: 0.5357 - val_accuracy: 0.7612\n",
            "Epoch 2/5\n",
            "215/215 [==============================] - 1s 5ms/step - loss: 0.4423 - accuracy: 0.8194 - val_loss: 0.4724 - val_accuracy: 0.7848\n",
            "Epoch 3/5\n",
            "215/215 [==============================] - 1s 4ms/step - loss: 0.3471 - accuracy: 0.8645 - val_loss: 0.4591 - val_accuracy: 0.7953\n",
            "Epoch 4/5\n",
            "215/215 [==============================] - 1s 5ms/step - loss: 0.2842 - accuracy: 0.8889 - val_loss: 0.4649 - val_accuracy: 0.7927\n",
            "Epoch 5/5\n",
            "215/215 [==============================] - 1s 4ms/step - loss: 0.2379 - accuracy: 0.9117 - val_loss: 0.4781 - val_accuracy: 0.7874\n"
          ]
        }
      ]
    },
    {
      "cell_type": "code",
      "source": [
        "model_1.evaluate(val_sentences, val_labels)"
      ],
      "metadata": {
        "colab": {
          "base_uri": "https://localhost:8080/"
        },
        "id": "-pt3KmWC3w01",
        "outputId": "c0b03828-663e-45ee-a760-c98349a673c5"
      },
      "execution_count": 41,
      "outputs": [
        {
          "output_type": "stream",
          "name": "stdout",
          "text": [
            "24/24 [==============================] - 0s 3ms/step - loss: 0.4781 - accuracy: 0.7874\n"
          ]
        },
        {
          "output_type": "execute_result",
          "data": {
            "text/plain": [
              "[0.4781145751476288, 0.787401556968689]"
            ]
          },
          "metadata": {},
          "execution_count": 41
        }
      ]
    },
    {
      "cell_type": "code",
      "source": [
        "model_1_pred_probs = model_1.predict(val_sentences)"
      ],
      "metadata": {
        "id": "_Ju2LWa45sPq"
      },
      "execution_count": 42,
      "outputs": []
    },
    {
      "cell_type": "code",
      "source": [
        "model_1_pred_probs[:10]"
      ],
      "metadata": {
        "colab": {
          "base_uri": "https://localhost:8080/"
        },
        "id": "duGjlZUX50ss",
        "outputId": "7c319980-c65d-45db-80ce-0c7acff81d1a"
      },
      "execution_count": 43,
      "outputs": [
        {
          "output_type": "execute_result",
          "data": {
            "text/plain": [
              "array([[0.3580458 ],\n",
              "       [0.6977424 ],\n",
              "       [0.9978422 ],\n",
              "       [0.10212458],\n",
              "       [0.1014096 ],\n",
              "       [0.9373665 ],\n",
              "       [0.9288375 ],\n",
              "       [0.9924211 ],\n",
              "       [0.96301633],\n",
              "       [0.22501254]], dtype=float32)"
            ]
          },
          "metadata": {},
          "execution_count": 43
        }
      ]
    },
    {
      "cell_type": "code",
      "source": [
        "model_1_preds = tf.squeeze(tf.round(model_1_pred_probs))"
      ],
      "metadata": {
        "id": "z-Z29b2u52RL"
      },
      "execution_count": 44,
      "outputs": []
    },
    {
      "cell_type": "code",
      "source": [
        "model_1_preds.shape"
      ],
      "metadata": {
        "colab": {
          "base_uri": "https://localhost:8080/"
        },
        "id": "QgTO0kbs6-De",
        "outputId": "b139a6c1-763c-4ce6-83d9-30de84f2c5c6"
      },
      "execution_count": 45,
      "outputs": [
        {
          "output_type": "execute_result",
          "data": {
            "text/plain": [
              "TensorShape([762])"
            ]
          },
          "metadata": {},
          "execution_count": 45
        }
      ]
    },
    {
      "cell_type": "code",
      "source": [
        "model_1_results = calculate_results(val_labels,\n",
        "                                    model_1_preds)\n",
        "model_1_results"
      ],
      "metadata": {
        "colab": {
          "base_uri": "https://localhost:8080/"
        },
        "id": "1AWa2vsp6_BI",
        "outputId": "effe1418-4f6d-461b-d288-8ad27f03c0eb"
      },
      "execution_count": 46,
      "outputs": [
        {
          "output_type": "execute_result",
          "data": {
            "text/plain": [
              "{'accuracy': 78.74015748031496,\n",
              " 'precision': 0.7923216200196284,\n",
              " 'recall': 0.7874015748031497,\n",
              " 'f1': 0.7844114973523961}"
            ]
          },
          "metadata": {},
          "execution_count": 46
        }
      ]
    },
    {
      "cell_type": "code",
      "source": [
        "baseline_results"
      ],
      "metadata": {
        "colab": {
          "base_uri": "https://localhost:8080/"
        },
        "id": "pG5_y5bo7KyM",
        "outputId": "66b5a096-4d67-4daa-b6fe-302d52c4291b"
      },
      "execution_count": 47,
      "outputs": [
        {
          "output_type": "execute_result",
          "data": {
            "text/plain": [
              "{'accuracy': 79.26509186351706,\n",
              " 'precision': 0.8111390004213173,\n",
              " 'recall': 0.7926509186351706,\n",
              " 'f1': 0.7862189758049549}"
            ]
          },
          "metadata": {},
          "execution_count": 47
        }
      ]
    },
    {
      "cell_type": "code",
      "source": [
        "words_in_vocabs"
      ],
      "metadata": {
        "colab": {
          "base_uri": "https://localhost:8080/"
        },
        "id": "_d0Hgepn7MfL",
        "outputId": "b3ffdb6a-61cf-4acf-ba45-8354597e43d6"
      },
      "execution_count": 48,
      "outputs": [
        {
          "output_type": "execute_result",
          "data": {
            "text/plain": [
              "['',\n",
              " '[UNK]',\n",
              " 'the',\n",
              " 'a',\n",
              " 'in',\n",
              " 'to',\n",
              " 'of',\n",
              " 'and',\n",
              " 'i',\n",
              " 'is',\n",
              " 'for',\n",
              " 'on',\n",
              " 'you',\n",
              " 'my',\n",
              " 'with',\n",
              " 'it',\n",
              " 'that',\n",
              " 'at',\n",
              " 'by',\n",
              " 'this',\n",
              " 'from',\n",
              " 'be',\n",
              " 'are',\n",
              " 'was',\n",
              " 'have',\n",
              " 'like',\n",
              " 'as',\n",
              " 'up',\n",
              " 'so',\n",
              " 'just',\n",
              " 'but',\n",
              " 'me',\n",
              " 'im',\n",
              " 'your',\n",
              " 'not',\n",
              " 'amp',\n",
              " 'out',\n",
              " 'its',\n",
              " 'will',\n",
              " 'an',\n",
              " 'no',\n",
              " 'has',\n",
              " 'fire',\n",
              " 'after',\n",
              " 'all',\n",
              " 'when',\n",
              " 'we',\n",
              " 'if',\n",
              " 'now',\n",
              " 'via',\n",
              " 'new',\n",
              " 'more',\n",
              " 'get',\n",
              " 'or',\n",
              " 'about',\n",
              " 'what',\n",
              " 'he',\n",
              " 'people',\n",
              " 'news',\n",
              " 'been',\n",
              " 'over',\n",
              " 'one',\n",
              " 'how',\n",
              " 'dont',\n",
              " 'they',\n",
              " 'who',\n",
              " 'into',\n",
              " 'were',\n",
              " 'do',\n",
              " 'us',\n",
              " '2',\n",
              " 'can',\n",
              " 'video',\n",
              " 'emergency',\n",
              " 'there',\n",
              " 'disaster',\n",
              " 'than',\n",
              " 'police',\n",
              " 'would',\n",
              " 'his',\n",
              " 'still',\n",
              " 'her',\n",
              " 'some',\n",
              " 'body',\n",
              " 'storm',\n",
              " 'crash',\n",
              " 'burning',\n",
              " 'suicide',\n",
              " 'back',\n",
              " 'man',\n",
              " 'california',\n",
              " 'why',\n",
              " 'time',\n",
              " 'them',\n",
              " 'had',\n",
              " 'buildings',\n",
              " 'rt',\n",
              " 'first',\n",
              " 'cant',\n",
              " 'see',\n",
              " 'got',\n",
              " 'day',\n",
              " 'off',\n",
              " 'our',\n",
              " 'going',\n",
              " 'nuclear',\n",
              " 'know',\n",
              " 'world',\n",
              " 'bomb',\n",
              " 'fires',\n",
              " 'love',\n",
              " 'killed',\n",
              " 'go',\n",
              " 'attack',\n",
              " 'youtube',\n",
              " 'dead',\n",
              " 'two',\n",
              " 'families',\n",
              " '3',\n",
              " 'train',\n",
              " 'full',\n",
              " 'being',\n",
              " 'war',\n",
              " 'many',\n",
              " 'today',\n",
              " 'think',\n",
              " 'only',\n",
              " 'car',\n",
              " 'accident',\n",
              " 'life',\n",
              " 'hiroshima',\n",
              " 'their',\n",
              " 'say',\n",
              " 'may',\n",
              " 'down',\n",
              " 'watch',\n",
              " 'good',\n",
              " 'could',\n",
              " 'want',\n",
              " 'last',\n",
              " 'here',\n",
              " 'years',\n",
              " 'u',\n",
              " 'then',\n",
              " 'make',\n",
              " 'did',\n",
              " 'wildfire',\n",
              " 'way',\n",
              " 'help',\n",
              " 'best',\n",
              " 'too',\n",
              " 'even',\n",
              " 'because',\n",
              " 'home',\n",
              " 'death',\n",
              " 'collapse',\n",
              " 'bombing',\n",
              " 'mass',\n",
              " 'him',\n",
              " 'black',\n",
              " 'am',\n",
              " 'those',\n",
              " 'need',\n",
              " 'fatal',\n",
              " 'army',\n",
              " 'another',\n",
              " 'work',\n",
              " 'take',\n",
              " 'should',\n",
              " 'really',\n",
              " 'please',\n",
              " 'mh370',\n",
              " 'youre',\n",
              " 'look',\n",
              " 'lol',\n",
              " 'hot',\n",
              " 'pm',\n",
              " 'legionnaires',\n",
              " '4',\n",
              " 'right',\n",
              " '5',\n",
              " 'let',\n",
              " 'city',\n",
              " 'year',\n",
              " 'wreck',\n",
              " 'school',\n",
              " 'northern',\n",
              " 'much',\n",
              " 'forest',\n",
              " 'bomber',\n",
              " 'water',\n",
              " 'she',\n",
              " 'never',\n",
              " 'read',\n",
              " 'latest',\n",
              " 'homes',\n",
              " 'great',\n",
              " 'every',\n",
              " '1',\n",
              " 'live',\n",
              " 'god',\n",
              " 'fear',\n",
              " 'any',\n",
              " '\\x89Û',\n",
              " 'under',\n",
              " 'said',\n",
              " 'old',\n",
              " 'floods',\n",
              " '2015',\n",
              " 'getting',\n",
              " 'atomic',\n",
              " 'while',\n",
              " 'top',\n",
              " 'obama',\n",
              " 'feel',\n",
              " 'thats',\n",
              " 'since',\n",
              " 'near',\n",
              " 'flames',\n",
              " 'ever',\n",
              " 'come',\n",
              " 'where',\n",
              " 'these',\n",
              " 'military',\n",
              " 'japan',\n",
              " 'found',\n",
              " 'content',\n",
              " 'ass',\n",
              " 'without',\n",
              " 'weather',\n",
              " 'most',\n",
              " 'flooding',\n",
              " 'flood',\n",
              " 'damage',\n",
              " 'which',\n",
              " 'shit',\n",
              " 's',\n",
              " 'hope',\n",
              " 'everyone',\n",
              " 'before',\n",
              " 'stop',\n",
              " 'plan',\n",
              " 'malaysia',\n",
              " 'injured',\n",
              " 'hit',\n",
              " 'evacuation',\n",
              " 'during',\n",
              " 'debris',\n",
              " 'cross',\n",
              " 'coming',\n",
              " 'wild',\n",
              " 'well',\n",
              " 'times',\n",
              " 'sinking',\n",
              " 'oil',\n",
              " 'fucking',\n",
              " 'check',\n",
              " 'cause',\n",
              " 'weapons',\n",
              " 'truck',\n",
              " 'food',\n",
              " 'bloody',\n",
              " 'always',\n",
              " 'weapon',\n",
              " 'theres',\n",
              " 'state',\n",
              " 'little',\n",
              " 'injuries',\n",
              " 'free',\n",
              " 'wounded',\n",
              " 'summer',\n",
              " 'smoke',\n",
              " 'severe',\n",
              " 'reddit',\n",
              " 'next',\n",
              " 'movie',\n",
              " 'ive',\n",
              " 'hes',\n",
              " 'fall',\n",
              " 'evacuate',\n",
              " 'confirmed',\n",
              " 'bad',\n",
              " 'again',\n",
              " 'thunderstorm',\n",
              " 'set',\n",
              " 'night',\n",
              " 'natural',\n",
              " 'looks',\n",
              " 'heat',\n",
              " 'face',\n",
              " 'earthquake',\n",
              " 'boy',\n",
              " 'whole',\n",
              " 'until',\n",
              " 'thunder',\n",
              " 'through',\n",
              " 'says',\n",
              " 'panic',\n",
              " 'outbreak',\n",
              " 'made',\n",
              " 'lightning',\n",
              " 'fatalities',\n",
              " 'family',\n",
              " 'explosion',\n",
              " 'end',\n",
              " 'destroy',\n",
              " 'derailment',\n",
              " 'air',\n",
              " 'w',\n",
              " 'terrorist',\n",
              " 'survive',\n",
              " 'screaming',\n",
              " 'saudi',\n",
              " 'refugees',\n",
              " 'rain',\n",
              " 'murder',\n",
              " 'loud',\n",
              " 'liked',\n",
              " 'house',\n",
              " 'gonna',\n",
              " 'failure',\n",
              " 'collided',\n",
              " 'bag',\n",
              " 'attacked',\n",
              " 'ambulance',\n",
              " '70',\n",
              " 'wind',\n",
              " 'services',\n",
              " 'save',\n",
              " 'report',\n",
              " 'migrants',\n",
              " 'head',\n",
              " 'explode',\n",
              " 'charged',\n",
              " 'change',\n",
              " 'big',\n",
              " 'also',\n",
              " 'wrecked',\n",
              " 'warning',\n",
              " 'update',\n",
              " 'run',\n",
              " 'rescuers',\n",
              " 'released',\n",
              " 'photo',\n",
              " 'massacre',\n",
              " 'injury',\n",
              " 'hurricane',\n",
              " 'high',\n",
              " 'hail',\n",
              " 'fuck',\n",
              " 'does',\n",
              " 'destroyed',\n",
              " 'bus',\n",
              " 'blood',\n",
              " '40',\n",
              " '\\x89ÛÒ',\n",
              " 'wreckage',\n",
              " 'violent',\n",
              " 'twister',\n",
              " 'trauma',\n",
              " 'tragedy',\n",
              " 'terrorism',\n",
              " 'survivors',\n",
              " 'survived',\n",
              " 'sinkhole',\n",
              " 'sandstorm',\n",
              " 'road',\n",
              " 'rioting',\n",
              " 'red',\n",
              " 'real',\n",
              " 'put',\n",
              " 'post',\n",
              " 'national',\n",
              " 'missing',\n",
              " 'landslide',\n",
              " 'keep',\n",
              " 'girl',\n",
              " 'drought',\n",
              " 'curfew',\n",
              " 'breaking',\n",
              " 'bags',\n",
              " 'white',\n",
              " 'twitter',\n",
              " 'tonight',\n",
              " 'structural',\n",
              " 'spill',\n",
              " 'service',\n",
              " 'screamed',\n",
              " 'rescued',\n",
              " 'rescue',\n",
              " 'phone',\n",
              " 'ok',\n",
              " 'oh',\n",
              " 'mosque',\n",
              " 'lives',\n",
              " 'horrible',\n",
              " 'harm',\n",
              " 'game',\n",
              " 'dust',\n",
              " 'destruction',\n",
              " 'deluge',\n",
              " 'deaths',\n",
              " 'crashed',\n",
              " 'cliff',\n",
              " 'catastrophe',\n",
              " 'boat',\n",
              " 'away',\n",
              " 'august',\n",
              " 'area',\n",
              " 'apocalypse',\n",
              " 'woman',\n",
              " 'whirlwind',\n",
              " 'traumatised',\n",
              " 'stock',\n",
              " 'saw',\n",
              " 'ruin',\n",
              " 'riot',\n",
              " 'quarantine',\n",
              " 'kills',\n",
              " 'island',\n",
              " 'investigators',\n",
              " 'ill',\n",
              " 'hostages',\n",
              " 'hazard',\n",
              " 'danger',\n",
              " 'call',\n",
              " '15',\n",
              " 'women',\n",
              " 'windstorm',\n",
              " 'things',\n",
              " 'suspect',\n",
              " 'show',\n",
              " 'reunion',\n",
              " 'quarantined',\n",
              " 'lava',\n",
              " 'heart',\n",
              " 'engulfed',\n",
              " 'detonate',\n",
              " 'crush',\n",
              " 'collapsed',\n",
              " 'came',\n",
              " 'better',\n",
              " 'battle',\n",
              " 'armageddon',\n",
              " 'airplane',\n",
              " 'against',\n",
              " 'affected',\n",
              " 'use',\n",
              " 'trapped',\n",
              " 'thank',\n",
              " 'sunk',\n",
              " 'story',\n",
              " 'send',\n",
              " 'part',\n",
              " 'other',\n",
              " 'must',\n",
              " 'mudslide',\n",
              " 'market',\n",
              " 'iran',\n",
              " 'famine',\n",
              " 'exploded',\n",
              " 'electrocuted',\n",
              " 'ebay',\n",
              " 'displaced',\n",
              " 'derailed',\n",
              " 'derail',\n",
              " 'burned',\n",
              " 'bombed',\n",
              " 'blown',\n",
              " 'baby',\n",
              " 'around',\n",
              " 'zone',\n",
              " 'wave',\n",
              " 'wanna',\n",
              " 'sure',\n",
              " 'someone',\n",
              " 'screams',\n",
              " 'razed',\n",
              " 'power',\n",
              " 'obliterated',\n",
              " 'long',\n",
              " 'land',\n",
              " 'hundreds',\n",
              " 'heard',\n",
              " 'group',\n",
              " 'flattened',\n",
              " 'drown',\n",
              " 'doing',\n",
              " 'care',\n",
              " 'bridge',\n",
              " 'bagging',\n",
              " '9',\n",
              " 'went',\n",
              " 'used',\n",
              " 'typhoon',\n",
              " 'trouble',\n",
              " 'tornado',\n",
              " 'thought',\n",
              " 'thing',\n",
              " 'river',\n",
              " 'responders',\n",
              " 'past',\n",
              " 'pandemonium',\n",
              " 'officials',\n",
              " 'meltdown',\n",
              " 'lot',\n",
              " 'least',\n",
              " 'inundated',\n",
              " 'id',\n",
              " 'hostage',\n",
              " 'hijacking',\n",
              " 'hazardous',\n",
              " 'goes',\n",
              " 'drowning',\n",
              " 'didnt',\n",
              " 'devastation',\n",
              " 'demolish',\n",
              " 'collide',\n",
              " 'casualties',\n",
              " 'calgary',\n",
              " 'bang',\n",
              " 'anniversary',\n",
              " 'yet',\n",
              " 'wounds',\n",
              " 'volcano',\n",
              " 'tsunami',\n",
              " 'sue',\n",
              " 'st',\n",
              " 'song',\n",
              " 'something',\n",
              " 'shoulder',\n",
              " 'security',\n",
              " 'prebreak',\n",
              " 'possible',\n",
              " 'pkk',\n",
              " 'panicking',\n",
              " 'obliteration',\n",
              " 'obliterate',\n",
              " 'murderer',\n",
              " 'minute',\n",
              " 'light',\n",
              " 'lets',\n",
              " 'kill',\n",
              " 'isis',\n",
              " 'india',\n",
              " 'hijacker',\n",
              " 'hellfire',\n",
              " 'government',\n",
              " 'few',\n",
              " 'evacuated',\n",
              " 'due',\n",
              " 'detonated',\n",
              " 'desolation',\n",
              " 'crushed',\n",
              " 'chemical',\n",
              " 'blew',\n",
              " 'blazing',\n",
              " 'blast',\n",
              " 'annihilated',\n",
              " 'airport',\n",
              " '6',\n",
              " 'week',\n",
              " 'upheaval',\n",
              " 'trying',\n",
              " 'three',\n",
              " 'thanks',\n",
              " 'sound',\n",
              " 'soon',\n",
              " 'sirens',\n",
              " 'rainstorm',\n",
              " 'plane',\n",
              " 'music',\n",
              " 'making',\n",
              " 'kids',\n",
              " 'issues',\n",
              " 'half',\n",
              " 'guys',\n",
              " 'fedex',\n",
              " 'done',\n",
              " 'died',\n",
              " 'detonation',\n",
              " 'days',\n",
              " 'cyclone',\n",
              " 'county',\n",
              " 'collision',\n",
              " 'caused',\n",
              " 'catastrophic',\n",
              " 'bleeding',\n",
              " 'beautiful',\n",
              " '8',\n",
              " 'words',\n",
              " 'very',\n",
              " 'traffic',\n",
              " 'south',\n",
              " 'remember',\n",
              " 'policy',\n",
              " 'place',\n",
              " 'nothing',\n",
              " 'north',\n",
              " 'mp',\n",
              " 'longer',\n",
              " 'left',\n",
              " 'israeli',\n",
              " 'hell',\n",
              " 'fun',\n",
              " 'drowned',\n",
              " 'demolished',\n",
              " 'cool',\n",
              " 'both',\n",
              " 'bioterror',\n",
              " 'believe',\n",
              " 'avalanche',\n",
              " 'arson',\n",
              " 'turkey',\n",
              " 'snowstorm',\n",
              " 'site',\n",
              " 'shot',\n",
              " 'shooting',\n",
              " 'pic',\n",
              " 'nowplaying',\n",
              " 'media',\n",
              " 'islam',\n",
              " 'inside',\n",
              " 'hijack',\n",
              " 'helicopter',\n",
              " 'fight',\n",
              " 'fatality',\n",
              " 'fan',\n",
              " 'electrocute',\n",
              " 'doesnt',\n",
              " 'building',\n",
              " 'brown',\n",
              " 'bc',\n",
              " 'actually',\n",
              " '16yr',\n",
              " 'yes',\n",
              " 'watching',\n",
              " 'wait',\n",
              " 'ur',\n",
              " 'tell',\n",
              " 'swallowed',\n",
              " 'seismic',\n",
              " 'second',\n",
              " 'rubble',\n",
              " 're\\x89Û',\n",
              " 'plans',\n",
              " 'men',\n",
              " 'memories',\n",
              " 'line',\n",
              " 'la',\n",
              " 'horror',\n",
              " 'health',\n",
              " 'having',\n",
              " 'find',\n",
              " 'eyewitness',\n",
              " 'deluged',\n",
              " 'children',\n",
              " 'bush',\n",
              " 'anything',\n",
              " 'already',\n",
              " 'almost',\n",
              " 'aircraft',\n",
              " 'yourself',\n",
              " 'yeah',\n",
              " 'whats',\n",
              " 'tomorrow',\n",
              " 'such',\n",
              " 'start',\n",
              " 'side',\n",
              " 'searching',\n",
              " 'saved',\n",
              " 'reactor',\n",
              " 'probably',\n",
              " 'play',\n",
              " 'person',\n",
              " 'peace',\n",
              " 'outside',\n",
              " 'officer',\n",
              " 'nearby',\n",
              " 'n',\n",
              " 'maybe',\n",
              " 'lost',\n",
              " 'literally',\n",
              " 'hours',\n",
              " 'hear',\n",
              " 'far',\n",
              " 'die',\n",
              " 'demolition',\n",
              " 'data',\n",
              " 'crews',\n",
              " 'conclusively',\n",
              " 'business',\n",
              " 'american',\n",
              " '20',\n",
              " '\\x89ÛÓ',\n",
              " 'west',\n",
              " 'waves',\n",
              " 'team',\n",
              " 'street',\n",
              " 'stay',\n",
              " 'soudelor',\n",
              " 'reuters',\n",
              " 'manslaughter',\n",
              " 'leather',\n",
              " 'job',\n",
              " 'history',\n",
              " 'hey',\n",
              " 'feeling',\n",
              " 'eyes',\n",
              " 'everything',\n",
              " 'declares',\n",
              " 'deal',\n",
              " 'casualty',\n",
              " 'bodies',\n",
              " 'amid',\n",
              " 'ablaze',\n",
              " '7',\n",
              " '50',\n",
              " '30',\n",
              " '12',\n",
              " 'youth',\n",
              " 'wont',\n",
              " 'wake',\n",
              " 'theyre',\n",
              " 'support',\n",
              " 'stretcher',\n",
              " 'same',\n",
              " 'rise',\n",
              " 'picking',\n",
              " 'photos',\n",
              " 'own',\n",
              " 'others',\n",
              " 'order',\n",
              " 'omg',\n",
              " 'okay',\n",
              " 'name',\n",
              " 'myself',\n",
              " 'money',\n",
              " 'makes',\n",
              " 'leave',\n",
              " 'lab',\n",
              " 'gt',\n",
              " 'gets',\n",
              " 'flag',\n",
              " 'desolate',\n",
              " 'crisis',\n",
              " 'center',\n",
              " 'book',\n",
              " 'blight',\n",
              " 'blaze',\n",
              " 'ago',\n",
              " 'abc',\n",
              " '11yearold',\n",
              " 'womens',\n",
              " 'typhoondevastated',\n",
              " 'tv',\n",
              " 'trench',\n",
              " 'trains',\n",
              " 'texas',\n",
              " 'space',\n",
              " 'siren',\n",
              " 'shes',\n",
              " 'self',\n",
              " 'saipan',\n",
              " 'reason',\n",
              " 'rd',\n",
              " 'pretty',\n",
              " 'pick',\n",
              " 'offensive',\n",
              " 'move',\n",
              " 'meek',\n",
              " 'major',\n",
              " 'm',\n",
              " 'low',\n",
              " 'lord',\n",
              " 'huge',\n",
              " 'hat',\n",
              " 'flash',\n",
              " 'feared',\n",
              " 'fast',\n",
              " 'effect',\n",
              " 'course',\n",
              " 'country',\n",
              " 'control',\n",
              " 'class',\n",
              " 'child',\n",
              " 'chance',\n",
              " 'caught',\n",
              " 'called',\n",
              " 'bioterrorism',\n",
              " 'bestnaijamade',\n",
              " 'become',\n",
              " 'bar',\n",
              " 'banned',\n",
              " 'ball',\n",
              " 'aug',\n",
              " 'annihilation',\n",
              " 'wrong',\n",
              " 'win',\n",
              " 'usa',\n",
              " 'united',\n",
              " 'town',\n",
              " 'totally',\n",
              " 'toddler',\n",
              " 'though',\n",
              " 'temple',\n",
              " 'taken',\n",
              " 'stand',\n",
              " 'spot',\n",
              " 'signs',\n",
              " 'ship',\n",
              " 'pakistan',\n",
              " 'online',\n",
              " 'level',\n",
              " 'ladies',\n",
              " 'jobs',\n",
              " 'isnt',\n",
              " 'happy',\n",
              " 'hailstorm',\n",
              " 'friends',\n",
              " 'disea',\n",
              " 'damn',\n",
              " 'couple',\n",
              " 'case',\n",
              " 'blue',\n",
              " 'bigger',\n",
              " 'america',\n",
              " 'across',\n",
              " '10',\n",
              " 'yours',\n",
              " 'village',\n",
              " 'try',\n",
              " 'transport',\n",
              " 'talk',\n",
              " 'seen',\n",
              " 'russian',\n",
              " 'radio',\n",
              " 'projected',\n",
              " 'once',\n",
              " 'official',\n",
              " 'needs',\n",
              " 'nearly',\n",
              " 'mount',\n",
              " 'might',\n",
              " 'mayhem',\n",
              " 'instead',\n",
              " 'hollywood',\n",
              " 'haha',\n",
              " 'guy',\n",
              " 'gun',\n",
              " 'green',\n",
              " 'front',\n",
              " 'finally',\n",
              " 'favorite',\n",
              " 'experts',\n",
              " 'entire',\n",
              " 'east',\n",
              " 'daily',\n",
              " 'crazy',\n",
              " 'computers',\n",
              " 'coaches',\n",
              " 'christian',\n",
              " 'china',\n",
              " 'blizzard',\n",
              " 'anyone',\n",
              " 'aint',\n",
              " 'action',\n",
              " '25',\n",
              " 'virgin',\n",
              " 'vehicle',\n",
              " 'truth',\n",
              " 'trust',\n",
              " 'takes',\n",
              " 't',\n",
              " 'star',\n",
              " 'sorry',\n",
              " 'running',\n",
              " 'refugio',\n",
              " 'reddits',\n",
              " 'poor',\n",
              " 'pain',\n",
              " 'mom',\n",
              " 'miners',\n",
              " 'marks',\n",
              " 'looking',\n",
              " 'knock',\n",
              " 'issued',\n",
              " 'insurance',\n",
              " 'ignition',\n",
              " 'houses',\n",
              " 'heavy',\n",
              " 'hate',\n",
              " 'hard',\n",
              " 'happened',\n",
              " 'global',\n",
              " 'giant',\n",
              " 'gbbo',\n",
              " 'flight',\n",
              " 'eye',\n",
              " 'emmerdale',\n",
              " 'driver',\n",
              " 'devastated',\n",
              " 'd',\n",
              " 'costlier',\n",
              " 'cnn',\n",
              " 'cars',\n",
              " 'camp',\n",
              " 'beach',\n",
              " 'arsonist',\n",
              " 'angry',\n",
              " 'alone',\n",
              " 'added',\n",
              " '05',\n",
              " 'york',\n",
              " 'wonder',\n",
              " 'uk',\n",
              " 'turn',\n",
              " 'taking',\n",
              " 'subreddits',\n",
              " 'sounds',\n",
              " 'scared',\n",
              " 'russia',\n",
              " 'rly',\n",
              " 'reports',\n",
              " 'ready',\n",
              " 'quiz',\n",
              " 'public',\n",
              " 'property',\n",
              " 'pradesh',\n",
              " 'ppl',\n",
              " 'playing',\n",
              " 'pay',\n",
              " 'parole',\n",
              " 'pamela',\n",
              " 'pakistani',\n",
              " 'outrage',\n",
              " 'niggas',\n",
              " 'nagasaki',\n",
              " 'myanmar',\n",
              " 'muslims',\n",
              " 'mop',\n",
              " 'madhya',\n",
              " 'mad',\n",
              " 'lmao',\n",
              " 'learn',\n",
              " 'large',\n",
              " 'govt',\n",
              " 'give',\n",
              " 'gems',\n",
              " 'gave',\n",
              " 'funtenna',\n",
              " 'fukushima',\n",
              " 'former',\n",
              " 'film',\n",
              " 'earth',\n",
              " 'drive',\n",
              " 'downtown',\n",
              " 'dog',\n",
              " 'comes',\n",
              " 'closed',\n",
              " 'cake',\n",
              " 'british',\n",
              " 'bring',\n",
              " 'bbc',\n",
              " 'b',\n",
              " 'appears',\n",
              " 'aftershock',\n",
              " '13',\n",
              " '11',\n",
              " 'young',\n",
              " 'wow',\n",
              " 'worst',\n",
              " 'waving',\n",
              " 'washington',\n",
              " 'wanted',\n",
              " 'vs',\n",
              " 'view',\n",
              " 'upon',\n",
              " 'tweet',\n",
              " 'tree',\n",
              " 'tote',\n",
              " 'thousands',\n",
              " 'thinking',\n",
              " 'theater',\n",
              " 'soul',\n",
              " 'sky',\n",
              " 'sign',\n",
              " 'shows',\n",
              " 'shift',\n",
              " 'seeing',\n",
              " 'sea',\n",
              " 'scene',\n",
              " 'safety',\n",
              " 'rules',\n",
              " 'rock',\n",
              " 'reported',\n",
              " 'r',\n",
              " 'pray',\n",
              " 'playlist',\n",
              " 'patience',\n",
              " ...]"
            ]
          },
          "metadata": {},
          "execution_count": 48
        }
      ]
    },
    {
      "cell_type": "code",
      "source": [
        "model_1.summary()"
      ],
      "metadata": {
        "colab": {
          "base_uri": "https://localhost:8080/"
        },
        "id": "-rYE2Y6B8w9R",
        "outputId": "13c38ab6-c15d-4e3b-c56d-08629ab89e95"
      },
      "execution_count": 49,
      "outputs": [
        {
          "output_type": "stream",
          "name": "stdout",
          "text": [
            "Model: \"model_1_dense\"\n",
            "_________________________________________________________________\n",
            " Layer (type)                Output Shape              Param #   \n",
            "=================================================================\n",
            " input_1 (InputLayer)        [(None, 1)]               0         \n",
            "                                                                 \n",
            " text_vectorization_1 (TextV  (None, 15)               0         \n",
            " ectorization)                                                   \n",
            "                                                                 \n",
            " embedding (Embedding)       (None, 15, 128)           1280000   \n",
            "                                                                 \n",
            " global_average_pooling1d (G  (None, 128)              0         \n",
            " lobalAveragePooling1D)                                          \n",
            "                                                                 \n",
            " dense (Dense)               (None, 1)                 129       \n",
            "                                                                 \n",
            "=================================================================\n",
            "Total params: 1,280,129\n",
            "Trainable params: 1,280,129\n",
            "Non-trainable params: 0\n",
            "_________________________________________________________________\n"
          ]
        }
      ]
    },
    {
      "cell_type": "code",
      "source": [
        "embedd_weights = model_1.get_layer(name=\"embedding\")"
      ],
      "metadata": {
        "id": "9eIynktQ8Tv_"
      },
      "execution_count": 51,
      "outputs": []
    },
    {
      "cell_type": "code",
      "source": [
        "embed_weights = embedd_weights.get_weights()[0]\n"
      ],
      "metadata": {
        "id": "sRTBmtqx8vId"
      },
      "execution_count": 52,
      "outputs": []
    },
    {
      "cell_type": "code",
      "source": [
        "embed_weights.shape"
      ],
      "metadata": {
        "colab": {
          "base_uri": "https://localhost:8080/"
        },
        "id": "0tQe9s3B9OY-",
        "outputId": "ca9a7ec8-be48-4181-ec16-af097010f82e"
      },
      "execution_count": 53,
      "outputs": [
        {
          "output_type": "execute_result",
          "data": {
            "text/plain": [
              "(10000, 128)"
            ]
          },
          "metadata": {},
          "execution_count": 53
        }
      ]
    },
    {
      "cell_type": "code",
      "source": [
        "import io\n",
        "out_v = io.open('vectors.tsv', 'w', encoding='utf-8')\n",
        "out_m = io.open('metadata.tsv', 'w', encoding='utf-8')\n",
        "\n",
        "for index, word in enumerate(words_in_vocabs):\n",
        "  if index == 0:\n",
        "    continue  # skip 0, it's padding.\n",
        "  vec = embed_weights[index]\n",
        "  out_v.write('\\t'.join([str(x) for x in vec]) + \"\\n\")\n",
        "  out_m.write(word + \"\\n\")\n",
        "out_v.close()\n",
        "out_m.close()"
      ],
      "metadata": {
        "id": "f0iroCvB9coE"
      },
      "execution_count": 54,
      "outputs": []
    },
    {
      "cell_type": "markdown",
      "source": [
        "\"LSTM = long short memory\""
      ],
      "metadata": {
        "id": "kr1OTG-1sfrA"
      }
    },
    {
      "cell_type": "markdown",
      "source": [
        "### Model 2 building"
      ],
      "metadata": {
        "id": "ViK29diCtX3u"
      }
    },
    {
      "cell_type": "code",
      "source": [
        "from tensorflow.keras import layers\n",
        "\n",
        "inputs = layers.Input(shape=(1,), dtype=tf.string)\n",
        "x = text_vectorizer(inputs)\n",
        "x = embedding(x)\n",
        "#print(x.shape)\n",
        "#x = layers.LSTM(units=64, return_sequences=True)(x)\n",
        "#print(x.shape)\n",
        "x = layers.LSTM(64)(x)\n",
        "# x = layers.GlobalAveragePooling1D()(x)\n",
        "#print(x.shape)\n",
        "#x = layers.Dense(64, activation=\"relu\")(x)\n",
        "# x = layers.GRU(64)(x)\n",
        "outputs = layers.Dense(1, activation=\"sigmoid\")(x)\n",
        "#print(outputs.shape)\n",
        "model_2 = tf.keras.Model(inputs, outputs, name=\"model_2_LSTM\")"
      ],
      "metadata": {
        "id": "l40ft1rKtTRN"
      },
      "execution_count": 55,
      "outputs": []
    },
    {
      "cell_type": "code",
      "source": [
        "model_2.summary()"
      ],
      "metadata": {
        "colab": {
          "base_uri": "https://localhost:8080/"
        },
        "id": "uN5ZMCb2uRCE",
        "outputId": "d360b26a-cd4b-4323-ba1d-41c7683dad8f"
      },
      "execution_count": 56,
      "outputs": [
        {
          "output_type": "stream",
          "name": "stdout",
          "text": [
            "Model: \"model_2_LSTM\"\n",
            "_________________________________________________________________\n",
            " Layer (type)                Output Shape              Param #   \n",
            "=================================================================\n",
            " input_2 (InputLayer)        [(None, 1)]               0         \n",
            "                                                                 \n",
            " text_vectorization_1 (TextV  (None, 15)               0         \n",
            " ectorization)                                                   \n",
            "                                                                 \n",
            " embedding (Embedding)       (None, 15, 128)           1280000   \n",
            "                                                                 \n",
            " lstm (LSTM)                 (None, 64)                49408     \n",
            "                                                                 \n",
            " dense_1 (Dense)             (None, 1)                 65        \n",
            "                                                                 \n",
            "=================================================================\n",
            "Total params: 1,329,473\n",
            "Trainable params: 1,329,473\n",
            "Non-trainable params: 0\n",
            "_________________________________________________________________\n"
          ]
        }
      ]
    },
    {
      "cell_type": "code",
      "source": [
        "model_2.compile(loss=\"binary_crossentropy\",\n",
        "                optimizer=tf.keras.optimizers.Adam(),\n",
        "                metrics=[\"accuracy\"])"
      ],
      "metadata": {
        "id": "74GH5epnvzAi"
      },
      "execution_count": 57,
      "outputs": []
    },
    {
      "cell_type": "code",
      "source": [
        "model_2_history = model_2.fit(train_sentences,\n",
        "                              train_labels,\n",
        "                              epochs=5,\n",
        "                              validation_data=(val_sentences, val_labels),\n",
        "                              callbacks=[create_tensorboard_callback(dir_name=LOG_DIR,\n",
        "                                                                     experiment_name=\"model_2_LSTM\")])"
      ],
      "metadata": {
        "colab": {
          "base_uri": "https://localhost:8080/"
        },
        "id": "ehZu4SQtwevx",
        "outputId": "96b4deaa-10a6-417e-dcc8-7b00f28221d3"
      },
      "execution_count": 58,
      "outputs": [
        {
          "output_type": "stream",
          "name": "stdout",
          "text": [
            "Saving TensorBoard log files to: model_logs/model_2_LSTM/20220905-185735\n",
            "Epoch 1/5\n",
            "215/215 [==============================] - 6s 9ms/step - loss: 0.2178 - accuracy: 0.9210 - val_loss: 0.5712 - val_accuracy: 0.7848\n",
            "Epoch 2/5\n",
            "215/215 [==============================] - 1s 7ms/step - loss: 0.1549 - accuracy: 0.9409 - val_loss: 0.6554 - val_accuracy: 0.7887\n",
            "Epoch 3/5\n",
            "215/215 [==============================] - 1s 7ms/step - loss: 0.1311 - accuracy: 0.9510 - val_loss: 0.6994 - val_accuracy: 0.7927\n",
            "Epoch 4/5\n",
            "215/215 [==============================] - 1s 7ms/step - loss: 0.1070 - accuracy: 0.9584 - val_loss: 0.7216 - val_accuracy: 0.7861\n",
            "Epoch 5/5\n",
            "215/215 [==============================] - 1s 7ms/step - loss: 0.0848 - accuracy: 0.9663 - val_loss: 0.9929 - val_accuracy: 0.7730\n"
          ]
        }
      ]
    },
    {
      "cell_type": "code",
      "source": [
        "model_2_pred_probs = model_2.predict(val_sentences)\n",
        "model_2_pred_probs[:10]"
      ],
      "metadata": {
        "colab": {
          "base_uri": "https://localhost:8080/"
        },
        "id": "VUX6wXwCwxy9",
        "outputId": "c4097525-0fbb-45f9-f00c-e1a448de07ef"
      },
      "execution_count": 59,
      "outputs": [
        {
          "output_type": "execute_result",
          "data": {
            "text/plain": [
              "array([[5.5161836e-03],\n",
              "       [6.8412930e-01],\n",
              "       [9.9981087e-01],\n",
              "       [4.4406880e-02],\n",
              "       [5.8696762e-04],\n",
              "       [9.9949527e-01],\n",
              "       [9.1496712e-01],\n",
              "       [9.9987793e-01],\n",
              "       [9.9979073e-01],\n",
              "       [7.0191646e-01]], dtype=float32)"
            ]
          },
          "metadata": {},
          "execution_count": 59
        }
      ]
    },
    {
      "cell_type": "code",
      "source": [
        "model_2_preds = tf.squeeze(tf.round(model_2_pred_probs))"
      ],
      "metadata": {
        "id": "egv9DOo9xEZd"
      },
      "execution_count": 60,
      "outputs": []
    },
    {
      "cell_type": "code",
      "source": [
        "model_2_results = calculate_results(val_labels,\n",
        "                                    model_2_preds)"
      ],
      "metadata": {
        "id": "kRXi5UC8xIf1"
      },
      "execution_count": 61,
      "outputs": []
    },
    {
      "cell_type": "code",
      "source": [
        "model_2_results"
      ],
      "metadata": {
        "colab": {
          "base_uri": "https://localhost:8080/"
        },
        "id": "MvZcpa_kxNxD",
        "outputId": "5d7c8c1f-7905-407f-948a-9da7c69b1681"
      },
      "execution_count": 62,
      "outputs": [
        {
          "output_type": "execute_result",
          "data": {
            "text/plain": [
              "{'accuracy': 77.29658792650919,\n",
              " 'precision': 0.7745161732477092,\n",
              " 'recall': 0.7729658792650919,\n",
              " 'f1': 0.7709704727215051}"
            ]
          },
          "metadata": {},
          "execution_count": 62
        }
      ]
    },
    {
      "cell_type": "code",
      "source": [
        "baseline_results"
      ],
      "metadata": {
        "colab": {
          "base_uri": "https://localhost:8080/"
        },
        "id": "2TdMYzuQxPEh",
        "outputId": "76570767-8a02-4923-e6a1-cae2db9544f9"
      },
      "execution_count": 63,
      "outputs": [
        {
          "output_type": "execute_result",
          "data": {
            "text/plain": [
              "{'accuracy': 79.26509186351706,\n",
              " 'precision': 0.8111390004213173,\n",
              " 'recall': 0.7926509186351706,\n",
              " 'f1': 0.7862189758049549}"
            ]
          },
          "metadata": {},
          "execution_count": 63
        }
      ]
    },
    {
      "cell_type": "markdown",
      "source": [
        "### Model 3 building\n",
        "Gonna use tf.keras.layers.GRU"
      ],
      "metadata": {
        "id": "Sds1P3VtxRCL"
      }
    },
    {
      "cell_type": "code",
      "source": [
        "inputs = layers.Input(shape=(1,), dtype=tf.string)\n",
        "x = text_vectorizer(inputs)\n",
        "x = embedding(x)\n",
        "x = layers.GRU(64)(x)\n",
        "# x = layers.LSTM(64)(x)\n",
        "# x = layers.GRU(64, return_sequences=True)(x)\n",
        "# x = layers.Dense(64, activation=\"relu\")(x)\n",
        "outputs = layers.Dense(1, activation=\"sigmoid\", name=\"mdoel_3_output_layer\")(x)\n",
        "model_3 = tf.keras.Model(inputs, outputs)"
      ],
      "metadata": {
        "id": "8bsRjtl3y-up"
      },
      "execution_count": 64,
      "outputs": []
    },
    {
      "cell_type": "code",
      "source": [
        "model_3.summary()"
      ],
      "metadata": {
        "colab": {
          "base_uri": "https://localhost:8080/"
        },
        "id": "Qgf0-cChzxdi",
        "outputId": "a5335466-77f2-455f-97f1-9ff28513dce1"
      },
      "execution_count": 65,
      "outputs": [
        {
          "output_type": "stream",
          "name": "stdout",
          "text": [
            "Model: \"model\"\n",
            "_________________________________________________________________\n",
            " Layer (type)                Output Shape              Param #   \n",
            "=================================================================\n",
            " input_3 (InputLayer)        [(None, 1)]               0         \n",
            "                                                                 \n",
            " text_vectorization_1 (TextV  (None, 15)               0         \n",
            " ectorization)                                                   \n",
            "                                                                 \n",
            " embedding (Embedding)       (None, 15, 128)           1280000   \n",
            "                                                                 \n",
            " gru (GRU)                   (None, 64)                37248     \n",
            "                                                                 \n",
            " mdoel_3_output_layer (Dense  (None, 1)                65        \n",
            " )                                                               \n",
            "                                                                 \n",
            "=================================================================\n",
            "Total params: 1,317,313\n",
            "Trainable params: 1,317,313\n",
            "Non-trainable params: 0\n",
            "_________________________________________________________________\n"
          ]
        }
      ]
    },
    {
      "cell_type": "code",
      "source": [
        "model_3.compile(loss=\"binary_crossentropy\",\n",
        "                optimizer=tf.keras.optimizers.Adam(),\n",
        "                metrics=[\"accuracy\"])"
      ],
      "metadata": {
        "id": "6Jrn-StZzzJ1"
      },
      "execution_count": 66,
      "outputs": []
    },
    {
      "cell_type": "code",
      "source": [
        "model_3_history = model_3.fit(train_sentences,\n",
        "                              train_labels,\n",
        "                              validation_data=(val_sentences, val_labels),\n",
        "                              epochs=5,\n",
        "                              callbacks=[create_tensorboard_callback(LOG_DIR,\n",
        "                                                                     \"model_3_GRU\")])"
      ],
      "metadata": {
        "colab": {
          "base_uri": "https://localhost:8080/"
        },
        "id": "jzXzypXOz8yj",
        "outputId": "1e9c11c3-7318-4ace-cf72-cd59219397fd"
      },
      "execution_count": 67,
      "outputs": [
        {
          "output_type": "stream",
          "name": "stdout",
          "text": [
            "Saving TensorBoard log files to: model_logs/model_3_GRU/20220905-185747\n",
            "Epoch 1/5\n",
            "215/215 [==============================] - 3s 8ms/step - loss: 0.1574 - accuracy: 0.9384 - val_loss: 0.8000 - val_accuracy: 0.7861\n",
            "Epoch 2/5\n",
            "215/215 [==============================] - 1s 7ms/step - loss: 0.0868 - accuracy: 0.9685 - val_loss: 0.8110 - val_accuracy: 0.7795\n",
            "Epoch 3/5\n",
            "215/215 [==============================] - 1s 7ms/step - loss: 0.0713 - accuracy: 0.9731 - val_loss: 1.0760 - val_accuracy: 0.7822\n",
            "Epoch 4/5\n",
            "215/215 [==============================] - 1s 6ms/step - loss: 0.0647 - accuracy: 0.9747 - val_loss: 1.0294 - val_accuracy: 0.7769\n",
            "Epoch 5/5\n",
            "215/215 [==============================] - 1s 6ms/step - loss: 0.0561 - accuracy: 0.9766 - val_loss: 1.1280 - val_accuracy: 0.7756\n"
          ]
        }
      ]
    },
    {
      "cell_type": "code",
      "source": [
        "model_3_pred_probs = model_3.predict(val_sentences)\n",
        "model_3_pred_probs"
      ],
      "metadata": {
        "id": "nQ1Qd8oP4w8y",
        "colab": {
          "base_uri": "https://localhost:8080/"
        },
        "outputId": "8fcc9529-69f4-4175-d3a5-e808a7cbb3df"
      },
      "execution_count": 68,
      "outputs": [
        {
          "output_type": "execute_result",
          "data": {
            "text/plain": [
              "array([[9.57536104e-04],\n",
              "       [7.86058366e-01],\n",
              "       [9.99816477e-01],\n",
              "       [1.04687354e-02],\n",
              "       [1.42940029e-04],\n",
              "       [9.99589264e-01],\n",
              "       [7.69439936e-01],\n",
              "       [9.99942183e-01],\n",
              "       [9.99885321e-01],\n",
              "       [8.15035760e-01],\n",
              "       [3.27714864e-04],\n",
              "       [8.58596742e-01],\n",
              "       [4.75658162e-04],\n",
              "       [1.19535372e-01],\n",
              "       [1.17099313e-04],\n",
              "       [2.18323898e-03],\n",
              "       [6.01909007e-04],\n",
              "       [3.65486165e-04],\n",
              "       [2.79641291e-03],\n",
              "       [9.99774039e-01],\n",
              "       [9.99861002e-01],\n",
              "       [7.74478758e-05],\n",
              "       [9.99762475e-01],\n",
              "       [1.42120349e-03],\n",
              "       [9.99884129e-01],\n",
              "       [9.99896884e-01],\n",
              "       [6.57482888e-04],\n",
              "       [7.99952890e-04],\n",
              "       [2.39482644e-04],\n",
              "       [8.43921304e-02],\n",
              "       [9.87942874e-01],\n",
              "       [8.26400938e-04],\n",
              "       [1.69403449e-01],\n",
              "       [1.49813911e-03],\n",
              "       [7.05983043e-01],\n",
              "       [6.32544607e-02],\n",
              "       [9.99769270e-01],\n",
              "       [5.06225601e-02],\n",
              "       [1.71510484e-02],\n",
              "       [9.99890327e-01],\n",
              "       [1.20087408e-01],\n",
              "       [9.02204920e-05],\n",
              "       [2.92227510e-02],\n",
              "       [2.27578901e-04],\n",
              "       [8.17762375e-01],\n",
              "       [9.99736488e-01],\n",
              "       [9.98548687e-01],\n",
              "       [9.44268107e-01],\n",
              "       [1.59787433e-03],\n",
              "       [1.80929363e-01],\n",
              "       [6.01242343e-03],\n",
              "       [4.14573580e-01],\n",
              "       [3.15456558e-03],\n",
              "       [3.07204854e-03],\n",
              "       [6.16723537e-01],\n",
              "       [2.28499901e-03],\n",
              "       [1.62047031e-03],\n",
              "       [9.99864101e-01],\n",
              "       [3.56062665e-04],\n",
              "       [9.13542055e-04],\n",
              "       [4.80129197e-03],\n",
              "       [9.99809086e-01],\n",
              "       [9.97372150e-01],\n",
              "       [4.14322643e-03],\n",
              "       [9.99930501e-01],\n",
              "       [9.99949336e-01],\n",
              "       [9.90305901e-01],\n",
              "       [2.00335961e-02],\n",
              "       [9.80211377e-01],\n",
              "       [2.06632875e-02],\n",
              "       [3.17899287e-02],\n",
              "       [7.67053058e-03],\n",
              "       [9.99809325e-01],\n",
              "       [8.06288037e-04],\n",
              "       [6.50257230e-01],\n",
              "       [9.96702850e-01],\n",
              "       [7.20178522e-03],\n",
              "       [9.99403596e-01],\n",
              "       [5.65409698e-02],\n",
              "       [3.28327090e-01],\n",
              "       [1.28187379e-03],\n",
              "       [2.60843281e-02],\n",
              "       [9.99899030e-01],\n",
              "       [9.06285946e-04],\n",
              "       [7.93850166e-04],\n",
              "       [3.91487544e-03],\n",
              "       [4.16136929e-04],\n",
              "       [1.58928335e-03],\n",
              "       [1.49628578e-03],\n",
              "       [9.99744833e-01],\n",
              "       [9.99785006e-01],\n",
              "       [9.26287321e-05],\n",
              "       [9.93996143e-01],\n",
              "       [2.06132565e-04],\n",
              "       [9.99895692e-01],\n",
              "       [7.71142185e-01],\n",
              "       [8.49714637e-01],\n",
              "       [9.99951959e-01],\n",
              "       [9.99441445e-01],\n",
              "       [9.98935759e-01],\n",
              "       [9.99967694e-01],\n",
              "       [5.54695493e-03],\n",
              "       [1.35586190e-04],\n",
              "       [9.95327950e-01],\n",
              "       [9.99610245e-01],\n",
              "       [4.04155143e-02],\n",
              "       [9.96287107e-01],\n",
              "       [9.95310009e-01],\n",
              "       [7.83416792e-04],\n",
              "       [9.99714673e-01],\n",
              "       [9.96678591e-01],\n",
              "       [2.49161472e-04],\n",
              "       [2.27826297e-01],\n",
              "       [7.39018084e-04],\n",
              "       [2.80557142e-04],\n",
              "       [2.52785571e-02],\n",
              "       [4.50014353e-01],\n",
              "       [9.99697208e-01],\n",
              "       [7.61047751e-03],\n",
              "       [5.49958611e-04],\n",
              "       [9.99945164e-01],\n",
              "       [1.93078726e-04],\n",
              "       [1.02589009e-04],\n",
              "       [9.65657175e-01],\n",
              "       [2.86672381e-03],\n",
              "       [7.68936763e-04],\n",
              "       [9.99828458e-01],\n",
              "       [1.30089858e-04],\n",
              "       [8.32328049e-04],\n",
              "       [9.97974813e-01],\n",
              "       [7.34881265e-04],\n",
              "       [9.99945164e-01],\n",
              "       [9.99955297e-01],\n",
              "       [9.99896884e-01],\n",
              "       [9.99782264e-01],\n",
              "       [7.10631139e-04],\n",
              "       [9.99792755e-01],\n",
              "       [1.27155378e-01],\n",
              "       [1.66043872e-03],\n",
              "       [4.02302248e-04],\n",
              "       [9.99945998e-01],\n",
              "       [7.62539148e-01],\n",
              "       [1.19535372e-01],\n",
              "       [9.99312282e-01],\n",
              "       [2.29221825e-02],\n",
              "       [6.35237340e-03],\n",
              "       [2.12584899e-04],\n",
              "       [7.80971022e-05],\n",
              "       [1.15855470e-01],\n",
              "       [9.99808967e-01],\n",
              "       [5.91201591e-04],\n",
              "       [3.34159308e-03],\n",
              "       [3.79362842e-03],\n",
              "       [6.54456438e-04],\n",
              "       [3.82578088e-04],\n",
              "       [9.99582827e-01],\n",
              "       [9.89324033e-01],\n",
              "       [3.41034355e-03],\n",
              "       [9.98450637e-01],\n",
              "       [2.36244363e-04],\n",
              "       [9.99638915e-01],\n",
              "       [1.12337188e-03],\n",
              "       [6.37969226e-02],\n",
              "       [9.98600781e-01],\n",
              "       [9.69468709e-03],\n",
              "       [1.27696330e-04],\n",
              "       [9.99888062e-01],\n",
              "       [1.11926394e-02],\n",
              "       [9.99830723e-01],\n",
              "       [7.74781585e-01],\n",
              "       [9.99870539e-01],\n",
              "       [9.98511255e-01],\n",
              "       [9.99549329e-01],\n",
              "       [3.11766373e-04],\n",
              "       [9.99974728e-01],\n",
              "       [6.34299533e-04],\n",
              "       [7.42843747e-02],\n",
              "       [3.90803302e-03],\n",
              "       [7.96780646e-01],\n",
              "       [9.99872208e-01],\n",
              "       [9.73023067e-04],\n",
              "       [9.81999040e-01],\n",
              "       [9.99845862e-01],\n",
              "       [9.99889374e-01],\n",
              "       [9.99921203e-01],\n",
              "       [5.47033327e-04],\n",
              "       [4.03236045e-04],\n",
              "       [9.99970078e-01],\n",
              "       [1.37305920e-04],\n",
              "       [1.27341147e-04],\n",
              "       [4.05208534e-03],\n",
              "       [9.99512076e-01],\n",
              "       [9.83643811e-04],\n",
              "       [3.99632525e-04],\n",
              "       [2.69638229e-04],\n",
              "       [5.75154729e-04],\n",
              "       [3.93280236e-04],\n",
              "       [2.46061571e-03],\n",
              "       [9.99518871e-01],\n",
              "       [2.11758190e-03],\n",
              "       [1.20397042e-02],\n",
              "       [9.99869108e-01],\n",
              "       [9.99819100e-01],\n",
              "       [4.65875026e-03],\n",
              "       [2.77530402e-04],\n",
              "       [9.99878049e-01],\n",
              "       [9.99659181e-01],\n",
              "       [9.99689698e-01],\n",
              "       [7.85636604e-01],\n",
              "       [9.91173327e-01],\n",
              "       [7.33605698e-02],\n",
              "       [9.99779880e-01],\n",
              "       [2.65536451e-04],\n",
              "       [1.46303966e-03],\n",
              "       [2.44064286e-04],\n",
              "       [1.41848242e-04],\n",
              "       [9.99875903e-01],\n",
              "       [9.86429214e-01],\n",
              "       [9.97005403e-01],\n",
              "       [1.22198381e-01],\n",
              "       [1.19843915e-01],\n",
              "       [1.64996530e-03],\n",
              "       [3.22497869e-03],\n",
              "       [1.62117858e-03],\n",
              "       [9.99777496e-01],\n",
              "       [7.09923506e-02],\n",
              "       [2.20126193e-02],\n",
              "       [9.99963880e-01],\n",
              "       [9.81063247e-01],\n",
              "       [4.61270988e-01],\n",
              "       [3.04318062e-04],\n",
              "       [2.17156205e-03],\n",
              "       [9.98898387e-01],\n",
              "       [1.29258752e-01],\n",
              "       [2.06641734e-01],\n",
              "       [5.28814923e-03],\n",
              "       [1.59711599e-01],\n",
              "       [1.03395090e-01],\n",
              "       [7.93774088e-04],\n",
              "       [6.90969697e-04],\n",
              "       [9.99315739e-01],\n",
              "       [4.32473514e-03],\n",
              "       [9.99829054e-01],\n",
              "       [9.99729574e-01],\n",
              "       [5.17912849e-04],\n",
              "       [1.43505153e-04],\n",
              "       [9.99707282e-01],\n",
              "       [2.16490778e-04],\n",
              "       [2.91002053e-03],\n",
              "       [6.50493205e-02],\n",
              "       [3.84558691e-04],\n",
              "       [9.99124110e-01],\n",
              "       [1.04404302e-04],\n",
              "       [3.07134027e-03],\n",
              "       [9.99669075e-01],\n",
              "       [1.97244100e-02],\n",
              "       [9.99797046e-01],\n",
              "       [9.99962091e-01],\n",
              "       [1.14489764e-01],\n",
              "       [3.11219657e-04],\n",
              "       [4.48140362e-03],\n",
              "       [7.36932911e-04],\n",
              "       [4.91014143e-05],\n",
              "       [9.99535441e-01],\n",
              "       [9.99875307e-01],\n",
              "       [1.49548035e-02],\n",
              "       [9.99609053e-01],\n",
              "       [8.23550799e-04],\n",
              "       [9.19695664e-03],\n",
              "       [2.68481323e-04],\n",
              "       [3.40328435e-04],\n",
              "       [3.57981771e-04],\n",
              "       [9.99742806e-01],\n",
              "       [2.74772919e-03],\n",
              "       [1.92541178e-04],\n",
              "       [9.99648690e-01],\n",
              "       [5.72922698e-04],\n",
              "       [4.87398094e-04],\n",
              "       [9.99614358e-01],\n",
              "       [3.06241331e-04],\n",
              "       [1.95074938e-02],\n",
              "       [1.35072085e-04],\n",
              "       [9.99770582e-01],\n",
              "       [8.46651793e-01],\n",
              "       [7.10696161e-01],\n",
              "       [4.47650477e-02],\n",
              "       [9.98781860e-01],\n",
              "       [2.64886743e-03],\n",
              "       [9.99826729e-01],\n",
              "       [1.50917033e-02],\n",
              "       [9.85729814e-01],\n",
              "       [9.43974018e-01],\n",
              "       [9.28914428e-01],\n",
              "       [4.30986613e-01],\n",
              "       [1.23589044e-03],\n",
              "       [6.07954562e-01],\n",
              "       [1.46376975e-02],\n",
              "       [2.11732695e-03],\n",
              "       [2.18842109e-03],\n",
              "       [2.30775960e-02],\n",
              "       [6.48355999e-05],\n",
              "       [4.17607458e-04],\n",
              "       [4.63608606e-03],\n",
              "       [9.99860883e-01],\n",
              "       [4.44025703e-04],\n",
              "       [2.52333656e-03],\n",
              "       [5.12833670e-02],\n",
              "       [2.29784139e-02],\n",
              "       [2.29332913e-02],\n",
              "       [5.26426942e-04],\n",
              "       [2.76941777e-04],\n",
              "       [9.99528646e-01],\n",
              "       [3.42991203e-02],\n",
              "       [1.95903808e-01],\n",
              "       [9.99967456e-01],\n",
              "       [3.52202158e-04],\n",
              "       [9.10369337e-01],\n",
              "       [1.10127134e-02],\n",
              "       [3.26616038e-03],\n",
              "       [7.05780461e-03],\n",
              "       [5.23791416e-04],\n",
              "       [2.89855781e-03],\n",
              "       [9.97322381e-01],\n",
              "       [2.57585552e-02],\n",
              "       [9.99799788e-01],\n",
              "       [1.83900580e-01],\n",
              "       [2.75093102e-04],\n",
              "       [9.99846816e-01],\n",
              "       [5.31570171e-04],\n",
              "       [9.99874115e-01],\n",
              "       [3.18943756e-03],\n",
              "       [5.03730087e-04],\n",
              "       [9.99809206e-01],\n",
              "       [3.87004373e-04],\n",
              "       [4.24282101e-04],\n",
              "       [9.99648333e-01],\n",
              "       [2.80310633e-04],\n",
              "       [2.51983316e-03],\n",
              "       [9.71615076e-01],\n",
              "       [9.98599708e-01],\n",
              "       [1.43878366e-04],\n",
              "       [3.53038474e-03],\n",
              "       [9.99715626e-01],\n",
              "       [9.99878764e-01],\n",
              "       [9.98847008e-01],\n",
              "       [2.37720553e-02],\n",
              "       [9.88787234e-01],\n",
              "       [9.96311247e-01],\n",
              "       [1.00947579e-03],\n",
              "       [3.58140678e-04],\n",
              "       [3.65052791e-03],\n",
              "       [3.79534997e-02],\n",
              "       [2.06080687e-04],\n",
              "       [1.37779266e-01],\n",
              "       [1.01604052e-01],\n",
              "       [2.86822353e-04],\n",
              "       [9.99659538e-01],\n",
              "       [9.99896884e-01],\n",
              "       [9.99915838e-01],\n",
              "       [1.75235176e-03],\n",
              "       [1.08251080e-01],\n",
              "       [2.64212303e-02],\n",
              "       [9.07612592e-02],\n",
              "       [9.78871644e-01],\n",
              "       [2.18791097e-01],\n",
              "       [2.27412966e-04],\n",
              "       [3.76205484e-04],\n",
              "       [4.83991578e-04],\n",
              "       [9.99327064e-01],\n",
              "       [9.52912378e-04],\n",
              "       [1.93255045e-03],\n",
              "       [3.42491723e-04],\n",
              "       [5.12492144e-04],\n",
              "       [3.51341330e-02],\n",
              "       [9.50495541e-01],\n",
              "       [1.28004272e-02],\n",
              "       [4.35895403e-04],\n",
              "       [5.31400181e-03],\n",
              "       [1.26006745e-03],\n",
              "       [9.99923587e-01],\n",
              "       [9.99409199e-01],\n",
              "       [3.17515373e-01],\n",
              "       [8.38003635e-01],\n",
              "       [1.60010299e-04],\n",
              "       [9.10541236e-01],\n",
              "       [9.99883533e-01],\n",
              "       [9.43161309e-01],\n",
              "       [1.13595240e-02],\n",
              "       [9.99666810e-01],\n",
              "       [8.94258451e-03],\n",
              "       [9.99888062e-01],\n",
              "       [4.49701510e-02],\n",
              "       [1.22647651e-03],\n",
              "       [1.90374583e-01],\n",
              "       [6.84770569e-02],\n",
              "       [9.99684095e-01],\n",
              "       [2.81033553e-02],\n",
              "       [9.34830896e-05],\n",
              "       [4.36367438e-04],\n",
              "       [2.18791097e-01],\n",
              "       [9.99979377e-01],\n",
              "       [1.05965169e-04],\n",
              "       [7.83578306e-02],\n",
              "       [9.99949813e-01],\n",
              "       [7.81571580e-05],\n",
              "       [9.99945164e-01],\n",
              "       [6.82176440e-04],\n",
              "       [7.65470963e-04],\n",
              "       [4.61249379e-04],\n",
              "       [9.99649525e-01],\n",
              "       [9.99633908e-01],\n",
              "       [1.02994626e-03],\n",
              "       [2.55247491e-04],\n",
              "       [9.98934567e-01],\n",
              "       [9.99857903e-01],\n",
              "       [7.49346137e-01],\n",
              "       [3.60452192e-04],\n",
              "       [6.51724217e-03],\n",
              "       [5.41960895e-01],\n",
              "       [3.73419665e-04],\n",
              "       [9.99924541e-01],\n",
              "       [2.38018289e-01],\n",
              "       [9.99918222e-01],\n",
              "       [9.99799788e-01],\n",
              "       [1.31977219e-02],\n",
              "       [3.10556024e-01],\n",
              "       [4.83705400e-04],\n",
              "       [9.99717653e-01],\n",
              "       [9.95010853e-01],\n",
              "       [6.73703372e-01],\n",
              "       [1.69555203e-03],\n",
              "       [2.95297918e-03],\n",
              "       [1.25498220e-03],\n",
              "       [1.77115944e-04],\n",
              "       [1.94733679e-01],\n",
              "       [5.93498051e-02],\n",
              "       [9.78821397e-01],\n",
              "       [1.37381046e-03],\n",
              "       [9.99954343e-01],\n",
              "       [9.99907732e-01],\n",
              "       [1.39728305e-03],\n",
              "       [7.86058366e-01],\n",
              "       [1.16885239e-02],\n",
              "       [3.04099958e-04],\n",
              "       [1.27584562e-01],\n",
              "       [9.96145129e-01],\n",
              "       [3.14154546e-03],\n",
              "       [1.00407731e-02],\n",
              "       [1.86596357e-04],\n",
              "       [3.88123258e-03],\n",
              "       [4.32806773e-05],\n",
              "       [9.99891043e-01],\n",
              "       [9.98909950e-01],\n",
              "       [9.99860764e-01],\n",
              "       [9.82401311e-01],\n",
              "       [9.11641598e-01],\n",
              "       [1.43074442e-03],\n",
              "       [1.27749183e-04],\n",
              "       [5.65206647e-01],\n",
              "       [9.98640954e-01],\n",
              "       [9.99848485e-01],\n",
              "       [3.63270257e-04],\n",
              "       [1.92368729e-03],\n",
              "       [4.81474417e-04],\n",
              "       [9.99873042e-01],\n",
              "       [9.99849439e-01],\n",
              "       [5.32525650e-04],\n",
              "       [1.01565234e-01],\n",
              "       [9.99946833e-01],\n",
              "       [8.55371996e-04],\n",
              "       [6.40318170e-03],\n",
              "       [9.96705949e-01],\n",
              "       [4.08183405e-04],\n",
              "       [6.51619979e-04],\n",
              "       [9.95675981e-01],\n",
              "       [7.17932060e-02],\n",
              "       [5.74231818e-02],\n",
              "       [9.99965787e-01],\n",
              "       [2.24046074e-04],\n",
              "       [2.16605165e-03],\n",
              "       [8.98688741e-05],\n",
              "       [1.85586396e-04],\n",
              "       [1.78726355e-03],\n",
              "       [9.99835610e-01],\n",
              "       [3.24665743e-04],\n",
              "       [3.88403624e-01],\n",
              "       [9.46968853e-01],\n",
              "       [5.42541454e-03],\n",
              "       [3.26512605e-02],\n",
              "       [1.37083262e-04],\n",
              "       [1.39925920e-03],\n",
              "       [9.99942183e-01],\n",
              "       [9.99658465e-01],\n",
              "       [6.66170754e-03],\n",
              "       [4.22773766e-04],\n",
              "       [7.54045206e-04],\n",
              "       [3.72775394e-04],\n",
              "       [9.99353230e-01],\n",
              "       [5.27969853e-04],\n",
              "       [9.99382734e-01],\n",
              "       [9.97721136e-01],\n",
              "       [8.58048201e-01],\n",
              "       [9.84486282e-01],\n",
              "       [4.86827083e-02],\n",
              "       [6.28326274e-03],\n",
              "       [7.51245127e-04],\n",
              "       [5.67340404e-02],\n",
              "       [7.10875750e-01],\n",
              "       [1.92562863e-01],\n",
              "       [1.36818187e-02],\n",
              "       [1.92564749e-03],\n",
              "       [7.82368734e-05],\n",
              "       [4.32643050e-04],\n",
              "       [2.96531338e-02],\n",
              "       [3.18759531e-02],\n",
              "       [7.23634334e-03],\n",
              "       [9.99942064e-01],\n",
              "       [9.99482393e-01],\n",
              "       [7.71142185e-01],\n",
              "       [9.99848723e-01],\n",
              "       [1.02176061e-02],\n",
              "       [5.88680326e-04],\n",
              "       [9.99598920e-01],\n",
              "       [6.31084740e-02],\n",
              "       [8.01859715e-04],\n",
              "       [1.89188525e-01],\n",
              "       [9.44284499e-01],\n",
              "       [8.90107040e-05],\n",
              "       [8.37580502e-01],\n",
              "       [9.83841240e-01],\n",
              "       [9.99265373e-01],\n",
              "       [9.99704421e-01],\n",
              "       [1.53439713e-03],\n",
              "       [3.87575896e-03],\n",
              "       [9.10730243e-01],\n",
              "       [1.72596076e-04],\n",
              "       [6.43076235e-03],\n",
              "       [5.63446097e-02],\n",
              "       [9.98730123e-01],\n",
              "       [9.89165604e-01],\n",
              "       [2.80525233e-03],\n",
              "       [9.53091192e-04],\n",
              "       [5.30235589e-01],\n",
              "       [8.98273487e-04],\n",
              "       [1.20738696e-03],\n",
              "       [1.29732725e-04],\n",
              "       [3.37811232e-01],\n",
              "       [9.99927402e-01],\n",
              "       [9.98902202e-01],\n",
              "       [1.37974147e-03],\n",
              "       [9.99810398e-01],\n",
              "       [9.99881387e-01],\n",
              "       [1.03936451e-04],\n",
              "       [9.99777973e-01],\n",
              "       [5.14238849e-02],\n",
              "       [9.83434618e-01],\n",
              "       [2.19208188e-02],\n",
              "       [1.23513083e-03],\n",
              "       [2.91956239e-04],\n",
              "       [2.83296627e-04],\n",
              "       [1.41391414e-03],\n",
              "       [2.38444612e-04],\n",
              "       [1.03491336e-01],\n",
              "       [7.25875725e-04],\n",
              "       [9.99839902e-01],\n",
              "       [6.23946486e-04],\n",
              "       [9.92829621e-01],\n",
              "       [7.16660082e-01],\n",
              "       [2.97561288e-04],\n",
              "       [5.92806900e-04],\n",
              "       [9.99962330e-01],\n",
              "       [3.83985066e-03],\n",
              "       [9.99818861e-01],\n",
              "       [3.04564923e-01],\n",
              "       [9.70656425e-03],\n",
              "       [9.93286893e-02],\n",
              "       [1.18899799e-03],\n",
              "       [1.09414337e-02],\n",
              "       [9.99881387e-01],\n",
              "       [1.45105965e-04],\n",
              "       [5.68959164e-04],\n",
              "       [3.99161838e-02],\n",
              "       [9.99873400e-01],\n",
              "       [1.59446523e-02],\n",
              "       [5.38390363e-04],\n",
              "       [9.98264015e-01],\n",
              "       [1.25564315e-04],\n",
              "       [7.96460081e-04],\n",
              "       [5.33859711e-04],\n",
              "       [3.44267897e-02],\n",
              "       [2.76987324e-03],\n",
              "       [2.47308642e-01],\n",
              "       [5.33227846e-02],\n",
              "       [1.24259796e-02],\n",
              "       [1.76903792e-04],\n",
              "       [7.16532208e-03],\n",
              "       [1.30004293e-04],\n",
              "       [9.99604523e-01],\n",
              "       [9.95196879e-01],\n",
              "       [1.93388369e-02],\n",
              "       [1.89037382e-04],\n",
              "       [1.54743670e-03],\n",
              "       [9.99929547e-01],\n",
              "       [8.59908760e-01],\n",
              "       [9.99959826e-01],\n",
              "       [1.58344908e-03],\n",
              "       [9.99182284e-01],\n",
              "       [4.13888163e-04],\n",
              "       [9.95751739e-01],\n",
              "       [9.78755474e-01],\n",
              "       [1.61588614e-04],\n",
              "       [9.99935269e-01],\n",
              "       [1.57242466e-03],\n",
              "       [9.94870305e-01],\n",
              "       [9.99963403e-01],\n",
              "       [3.06960801e-03],\n",
              "       [4.31988767e-04],\n",
              "       [2.37473100e-01],\n",
              "       [2.58008629e-04],\n",
              "       [1.12062637e-02],\n",
              "       [9.99878049e-01],\n",
              "       [1.92912355e-01],\n",
              "       [9.99454796e-01],\n",
              "       [1.22883944e-02],\n",
              "       [9.99736011e-01],\n",
              "       [9.63183403e-01],\n",
              "       [3.89101356e-03],\n",
              "       [2.15610562e-04],\n",
              "       [9.93580818e-01],\n",
              "       [2.05919234e-04],\n",
              "       [6.74671009e-02],\n",
              "       [9.99890327e-01],\n",
              "       [9.99026537e-01],\n",
              "       [9.99930143e-01],\n",
              "       [9.99733746e-01],\n",
              "       [5.48631027e-02],\n",
              "       [9.42176700e-01],\n",
              "       [1.31210589e-04],\n",
              "       [5.65599918e-01],\n",
              "       [9.95641708e-01],\n",
              "       [9.99507427e-01],\n",
              "       [1.03011006e-03],\n",
              "       [9.99164939e-01],\n",
              "       [9.99838114e-01],\n",
              "       [1.59704546e-03],\n",
              "       [1.61691161e-03],\n",
              "       [1.36818187e-02],\n",
              "       [8.87074391e-04],\n",
              "       [7.71487296e-01],\n",
              "       [9.97417688e-01],\n",
              "       [9.99858737e-01],\n",
              "       [7.83411961e-04],\n",
              "       [1.79086521e-04],\n",
              "       [2.58804881e-04],\n",
              "       [2.71989033e-02],\n",
              "       [1.09228678e-03],\n",
              "       [5.22443047e-03],\n",
              "       [9.77620661e-01],\n",
              "       [1.78486778e-04],\n",
              "       [2.98029333e-01],\n",
              "       [1.86309591e-02],\n",
              "       [1.78918056e-02],\n",
              "       [9.99726713e-01],\n",
              "       [1.71428162e-03],\n",
              "       [9.99021173e-01],\n",
              "       [2.71379016e-03],\n",
              "       [9.77361851e-05],\n",
              "       [7.99345202e-04],\n",
              "       [9.99914050e-01],\n",
              "       [3.92785549e-01],\n",
              "       [2.33782717e-04],\n",
              "       [2.36998461e-02],\n",
              "       [1.47894859e-01],\n",
              "       [2.01057454e-04],\n",
              "       [9.99754131e-01],\n",
              "       [1.85371935e-03],\n",
              "       [9.81124341e-01],\n",
              "       [8.13750565e-01],\n",
              "       [6.00947766e-04],\n",
              "       [3.40968728e-01],\n",
              "       [1.39953988e-02],\n",
              "       [6.14635600e-03],\n",
              "       [9.99907017e-01],\n",
              "       [7.99164921e-03],\n",
              "       [4.03917074e-01],\n",
              "       [9.99811232e-01],\n",
              "       [4.23944443e-01],\n",
              "       [2.75764074e-02],\n",
              "       [8.90107040e-05],\n",
              "       [6.55782968e-02],\n",
              "       [7.45143145e-02],\n",
              "       [9.99945164e-01],\n",
              "       [9.83319581e-01],\n",
              "       [5.21386229e-03],\n",
              "       [9.99882936e-01],\n",
              "       [8.93654600e-02],\n",
              "       [9.99128282e-01],\n",
              "       [8.93654600e-02],\n",
              "       [9.99911070e-01],\n",
              "       [7.91965576e-05],\n",
              "       [5.18635614e-03],\n",
              "       [1.73041990e-04],\n",
              "       [9.99935865e-01],\n",
              "       [2.79189157e-03],\n",
              "       [4.32013208e-03],\n",
              "       [4.67508013e-04],\n",
              "       [4.22554184e-03],\n",
              "       [5.19487017e-04],\n",
              "       [8.51022080e-04],\n",
              "       [1.96948228e-03],\n",
              "       [1.52522477e-03],\n",
              "       [2.43251468e-03],\n",
              "       [9.73063350e-01],\n",
              "       [9.49314330e-04],\n",
              "       [1.86470954e-03],\n",
              "       [5.15125692e-04],\n",
              "       [1.39180120e-04],\n",
              "       [2.65307389e-02],\n",
              "       [9.98055816e-01],\n",
              "       [3.09426617e-03],\n",
              "       [4.42424901e-02],\n",
              "       [2.80139060e-03],\n",
              "       [9.97467041e-01],\n",
              "       [9.99754727e-01],\n",
              "       [3.26992071e-04],\n",
              "       [2.51953112e-04],\n",
              "       [4.98944719e-04],\n",
              "       [5.52163438e-05],\n",
              "       [9.99833822e-01],\n",
              "       [1.39180120e-04],\n",
              "       [2.33359784e-02],\n",
              "       [9.99521017e-01],\n",
              "       [9.99846697e-01],\n",
              "       [9.99861717e-01],\n",
              "       [9.99956727e-01],\n",
              "       [9.99989748e-01],\n",
              "       [3.88014887e-04],\n",
              "       [1.42665929e-04],\n",
              "       [3.63647401e-01],\n",
              "       [9.97980177e-01],\n",
              "       [9.99906301e-01],\n",
              "       [9.46824253e-01],\n",
              "       [1.05208228e-03],\n",
              "       [9.99174654e-01],\n",
              "       [8.05876851e-01],\n",
              "       [1.11399764e-04],\n",
              "       [2.05713557e-04],\n",
              "       [1.93094718e-03],\n",
              "       [7.86493998e-03],\n",
              "       [1.64256853e-04],\n",
              "       [1.34277868e-03],\n",
              "       [9.84519362e-01],\n",
              "       [9.99963045e-01],\n",
              "       [3.62258026e-04],\n",
              "       [9.99820173e-01],\n",
              "       [9.35815156e-01],\n",
              "       [6.84110774e-03],\n",
              "       [1.63217131e-02],\n",
              "       [1.54018942e-02],\n",
              "       [7.45027184e-01],\n",
              "       [9.11278371e-03],\n",
              "       [1.96102614e-04]], dtype=float32)"
            ]
          },
          "metadata": {},
          "execution_count": 68
        }
      ]
    },
    {
      "cell_type": "code",
      "source": [
        "model_3_preds = tf.squeeze(tf.round(model_3_pred_probs))"
      ],
      "metadata": {
        "id": "6vtnFpbl0MKy"
      },
      "execution_count": 69,
      "outputs": []
    },
    {
      "cell_type": "code",
      "source": [
        "model_3_results = calculate_results(val_labels,\n",
        "                                    model_3_preds)\n",
        "model_3_results"
      ],
      "metadata": {
        "colab": {
          "base_uri": "https://localhost:8080/"
        },
        "id": "incoYO_D49h7",
        "outputId": "a1de9d79-89e8-4cab-cabb-6c9f8510dfaa"
      },
      "execution_count": 70,
      "outputs": [
        {
          "output_type": "execute_result",
          "data": {
            "text/plain": [
              "{'accuracy': 77.55905511811024,\n",
              " 'precision': 0.7790436087799748,\n",
              " 'recall': 0.7755905511811023,\n",
              " 'f1': 0.7728084240126466}"
            ]
          },
          "metadata": {},
          "execution_count": 70
        }
      ]
    },
    {
      "cell_type": "markdown",
      "source": [
        "### Model 4 building"
      ],
      "metadata": {
        "id": "eRD5xU255Dzo"
      }
    },
    {
      "cell_type": "code",
      "source": [
        "inputs = layers.Input(shape=(1,), dtype=tf.string)\n",
        "x = text_vectorizer(inputs)\n",
        "x = embedding(x)\n",
        "# x = layers.Bidirectional(layers.LSTM(64, return_sequences=True))(x)\n",
        "x = layers.Bidirectional(layers.LSTM(64))(x)\n",
        "outputs = layers.Dense(1, activation=\"sigmoid\")(x)\n",
        "model_4 = tf.keras.Model(inputs ,outputs, name=\"model_4_bidirectinal\")"
      ],
      "metadata": {
        "id": "XAXJaOFW5vBL"
      },
      "execution_count": 71,
      "outputs": []
    },
    {
      "cell_type": "code",
      "source": [
        "model_4.summary()"
      ],
      "metadata": {
        "colab": {
          "base_uri": "https://localhost:8080/"
        },
        "id": "tJH8Dua8AFyg",
        "outputId": "73c1c975-3787-406c-9294-ccec8d3b408d"
      },
      "execution_count": 72,
      "outputs": [
        {
          "output_type": "stream",
          "name": "stdout",
          "text": [
            "Model: \"model_4_bidirectinal\"\n",
            "_________________________________________________________________\n",
            " Layer (type)                Output Shape              Param #   \n",
            "=================================================================\n",
            " input_4 (InputLayer)        [(None, 1)]               0         \n",
            "                                                                 \n",
            " text_vectorization_1 (TextV  (None, 15)               0         \n",
            " ectorization)                                                   \n",
            "                                                                 \n",
            " embedding (Embedding)       (None, 15, 128)           1280000   \n",
            "                                                                 \n",
            " bidirectional (Bidirectiona  (None, 128)              98816     \n",
            " l)                                                              \n",
            "                                                                 \n",
            " dense_2 (Dense)             (None, 1)                 129       \n",
            "                                                                 \n",
            "=================================================================\n",
            "Total params: 1,378,945\n",
            "Trainable params: 1,378,945\n",
            "Non-trainable params: 0\n",
            "_________________________________________________________________\n"
          ]
        }
      ]
    },
    {
      "cell_type": "code",
      "source": [
        "model_4.compile(loss=\"binary_crossentropy\",\n",
        "                optimizer=tf.keras.optimizers.Adam(),\n",
        "                metrics=[\"accuracy\"])"
      ],
      "metadata": {
        "id": "4RDEvBLcAIiS"
      },
      "execution_count": 73,
      "outputs": []
    },
    {
      "cell_type": "code",
      "source": [
        "model_4_history = model_4.fit(train_sentences,\n",
        "                              train_labels,\n",
        "                              epochs=5,\n",
        "                              validation_data=(val_sentences, val_labels),\n",
        "                              callbacks=[create_tensorboard_callback(LOG_DIR,\n",
        "                                                                     \"model_4_bidirectional\")])"
      ],
      "metadata": {
        "colab": {
          "base_uri": "https://localhost:8080/"
        },
        "id": "AVMa1d8FBeLp",
        "outputId": "039cde97-1bb2-4a3b-9401-86419a1e1d08"
      },
      "execution_count": 75,
      "outputs": [
        {
          "output_type": "stream",
          "name": "stdout",
          "text": [
            "Saving TensorBoard log files to: model_logs/model_4_bidirectional/20220905-190044\n",
            "Epoch 1/5\n",
            "215/215 [==============================] - 6s 12ms/step - loss: 0.1109 - accuracy: 0.9693 - val_loss: 0.9015 - val_accuracy: 0.7677\n",
            "Epoch 2/5\n",
            "215/215 [==============================] - 2s 8ms/step - loss: 0.0552 - accuracy: 0.9761 - val_loss: 1.2488 - val_accuracy: 0.7677\n",
            "Epoch 3/5\n",
            "215/215 [==============================] - 2s 9ms/step - loss: 0.0467 - accuracy: 0.9794 - val_loss: 1.3006 - val_accuracy: 0.7717\n",
            "Epoch 4/5\n",
            "215/215 [==============================] - 2s 8ms/step - loss: 0.0424 - accuracy: 0.9810 - val_loss: 1.3057 - val_accuracy: 0.7638\n",
            "Epoch 5/5\n",
            "215/215 [==============================] - 2s 9ms/step - loss: 0.0396 - accuracy: 0.9809 - val_loss: 1.5847 - val_accuracy: 0.7690\n"
          ]
        }
      ]
    },
    {
      "cell_type": "code",
      "source": [
        "model_4_pred_probs = model_4.predict(val_sentences)"
      ],
      "metadata": {
        "id": "_mqtZ5uZBgZI"
      },
      "execution_count": 76,
      "outputs": []
    },
    {
      "cell_type": "code",
      "source": [
        "model_4_preds = tf.squeeze(tf.round(model_4_pred_probs))"
      ],
      "metadata": {
        "id": "PakOZl2HBzkJ"
      },
      "execution_count": 77,
      "outputs": []
    },
    {
      "cell_type": "code",
      "source": [
        "model_4_results = calculate_results(val_labels,\n",
        "                                    model_4_preds)"
      ],
      "metadata": {
        "id": "P1xKM9e5CGJp"
      },
      "execution_count": 78,
      "outputs": []
    },
    {
      "cell_type": "code",
      "source": [
        "model_4_results, baseline_results"
      ],
      "metadata": {
        "colab": {
          "base_uri": "https://localhost:8080/"
        },
        "id": "21xg4MsnCJ8g",
        "outputId": "ad328fef-5191-4a17-9bf8-5210e29aaa06"
      },
      "execution_count": 79,
      "outputs": [
        {
          "output_type": "execute_result",
          "data": {
            "text/plain": [
              "({'accuracy': 76.9028871391076,\n",
              "  'precision': 0.7692529451017919,\n",
              "  'recall': 0.7690288713910761,\n",
              "  'f1': 0.7677604393034507},\n",
              " {'accuracy': 79.26509186351706,\n",
              "  'precision': 0.8111390004213173,\n",
              "  'recall': 0.7926509186351706,\n",
              "  'f1': 0.7862189758049549})"
            ]
          },
          "metadata": {},
          "execution_count": 79
        }
      ]
    },
    {
      "cell_type": "markdown",
      "source": [
        "### Model 5 building"
      ],
      "metadata": {
        "id": "12mDYbNXCMS-"
      }
    },
    {
      "cell_type": "code",
      "source": [
        "embedding_test = embedding(text_vectorizer([\"this is test\"]))\n",
        "conv1d = layers.Conv1D(filters=32,\n",
        "                       kernel_size=5,\n",
        "                       strides=1,\n",
        "                       activation=\"relu\",\n",
        "                       padding=\"same\")\n",
        "output = conv1d(embedding_test)\n",
        "max_pool = layers.GlobalMaxPool1D()\n",
        "max_pool_output = max_pool(output)\n",
        "\n",
        "embedding_test.shape, output.shape, max_pool_output.shape"
      ],
      "metadata": {
        "colab": {
          "base_uri": "https://localhost:8080/"
        },
        "id": "TRMRZie2ETz6",
        "outputId": "3332168f-f6c9-4ab3-8395-7076cf57849b"
      },
      "execution_count": 86,
      "outputs": [
        {
          "output_type": "execute_result",
          "data": {
            "text/plain": [
              "(TensorShape([1, 15, 128]), TensorShape([1, 15, 32]), TensorShape([1, 32]))"
            ]
          },
          "metadata": {},
          "execution_count": 86
        }
      ]
    },
    {
      "cell_type": "code",
      "source": [
        "inputs = layers.Input(shape=(1, ), dtype=tf.string)\n",
        "x = text_vectorizer(inputs)\n",
        "x = embedding(x)\n",
        "x = layers.Conv1D(filters=64,\n",
        "                  kernel_size=5,\n",
        "                  activation=\"relu\")(x)\n",
        "x = layers.GlobalMaxPool1D()(x)\n",
        "outputs = layers.Dense(1, activation=\"sigmoid\")(x)\n",
        "print(outputs.shape)\n",
        "model_5 = tf.keras.Model(inputs, outputs)"
      ],
      "metadata": {
        "colab": {
          "base_uri": "https://localhost:8080/"
        },
        "id": "YwhRyvC-DBwW",
        "outputId": "e60515ee-4d5d-492a-920c-fe5911ab8418"
      },
      "execution_count": 95,
      "outputs": [
        {
          "output_type": "stream",
          "name": "stdout",
          "text": [
            "(None, 1)\n"
          ]
        }
      ]
    },
    {
      "cell_type": "code",
      "source": [
        "model_5.compile(loss=\"binary_crossentropy\",\n",
        "                optimizer=tf.keras.optimizers.Adam(),\n",
        "                metrics=[\"accuracy\"])"
      ],
      "metadata": {
        "id": "anyWFMjGDYZV"
      },
      "execution_count": 96,
      "outputs": []
    },
    {
      "cell_type": "code",
      "source": [
        "model_5.summary()"
      ],
      "metadata": {
        "colab": {
          "base_uri": "https://localhost:8080/"
        },
        "id": "cBes5OWcIxd0",
        "outputId": "18006525-ecdb-4f75-99af-f75fdc323ff6"
      },
      "execution_count": 98,
      "outputs": [
        {
          "output_type": "stream",
          "name": "stdout",
          "text": [
            "Model: \"model_3\"\n",
            "_________________________________________________________________\n",
            " Layer (type)                Output Shape              Param #   \n",
            "=================================================================\n",
            " input_12 (InputLayer)       [(None, 1)]               0         \n",
            "                                                                 \n",
            " text_vectorization_1 (TextV  (None, 15)               0         \n",
            " ectorization)                                                   \n",
            "                                                                 \n",
            " embedding (Embedding)       (None, 15, 128)           1280000   \n",
            "                                                                 \n",
            " conv1d_9 (Conv1D)           (None, 11, 64)            41024     \n",
            "                                                                 \n",
            " global_max_pooling1d_7 (Glo  (None, 64)               0         \n",
            " balMaxPooling1D)                                                \n",
            "                                                                 \n",
            " dense_6 (Dense)             (None, 1)                 65        \n",
            "                                                                 \n",
            "=================================================================\n",
            "Total params: 1,321,089\n",
            "Trainable params: 1,321,089\n",
            "Non-trainable params: 0\n",
            "_________________________________________________________________\n"
          ]
        }
      ]
    },
    {
      "cell_type": "code",
      "source": [
        "model_5_history = model_5.fit(train_sentences,\n",
        "                              train_labels,\n",
        "                              epochs=5,\n",
        "                              validation_data=(val_sentences, val_labels),\n",
        "                              callbacks=[create_tensorboard_callback(LOG_DIR,\n",
        "                                                                     \"model_5_Conv1D\")])"
      ],
      "metadata": {
        "colab": {
          "base_uri": "https://localhost:8080/"
        },
        "id": "8OdebDx9IAqa",
        "outputId": "e1a6a4b5-b55a-437f-caf9-fa673c663fd6"
      },
      "execution_count": 97,
      "outputs": [
        {
          "output_type": "stream",
          "name": "stdout",
          "text": [
            "Saving TensorBoard log files to: model_logs/model_5_Conv1D/20220905-193046\n",
            "Epoch 1/5\n",
            "215/215 [==============================] - 2s 6ms/step - loss: 0.0881 - accuracy: 0.9740 - val_loss: 1.0586 - val_accuracy: 0.7651\n",
            "Epoch 2/5\n",
            "215/215 [==============================] - 1s 5ms/step - loss: 0.0527 - accuracy: 0.9797 - val_loss: 1.1327 - val_accuracy: 0.7585\n",
            "Epoch 3/5\n",
            "215/215 [==============================] - 1s 5ms/step - loss: 0.0489 - accuracy: 0.9797 - val_loss: 1.1961 - val_accuracy: 0.7559\n",
            "Epoch 4/5\n",
            "215/215 [==============================] - 1s 5ms/step - loss: 0.0452 - accuracy: 0.9806 - val_loss: 1.2422 - val_accuracy: 0.7533\n",
            "Epoch 5/5\n",
            "215/215 [==============================] - 1s 5ms/step - loss: 0.0452 - accuracy: 0.9796 - val_loss: 1.2352 - val_accuracy: 0.7520\n"
          ]
        }
      ]
    },
    {
      "cell_type": "code",
      "source": [
        "model_5_pred_probs = model_5.predict(val_sentences)\n",
        "model_5_preds = tf.squeeze(tf.round(model_5_pred_probs))"
      ],
      "metadata": {
        "id": "BZ5Uyw5lIIK-"
      },
      "execution_count": 99,
      "outputs": []
    },
    {
      "cell_type": "code",
      "source": [
        "model_5_results = calculate_results(val_labels,\n",
        "                                    model_5_preds)"
      ],
      "metadata": {
        "id": "YWQIxi6-I-WX"
      },
      "execution_count": 100,
      "outputs": []
    },
    {
      "cell_type": "code",
      "source": [
        "model_5_results"
      ],
      "metadata": {
        "colab": {
          "base_uri": "https://localhost:8080/"
        },
        "id": "vMJnvnUVJDJ1",
        "outputId": "3ba115f9-d961-4d37-eee3-58bdbdc055a4"
      },
      "execution_count": 101,
      "outputs": [
        {
          "output_type": "execute_result",
          "data": {
            "text/plain": [
              "{'accuracy': 75.19685039370079,\n",
              " 'precision': 0.7515527438106716,\n",
              " 'recall': 0.7519685039370079,\n",
              " 'f1': 0.7516029615774639}"
            ]
          },
          "metadata": {},
          "execution_count": 101
        }
      ]
    },
    {
      "cell_type": "markdown",
      "source": [
        "## Model 6 building"
      ],
      "metadata": {
        "id": "Rp4chVaSJEb6"
      }
    },
    {
      "cell_type": "code",
      "source": [
        "import tensorflow_hub as hub\n",
        "embed = hub.load(\"https://tfhub.dev/google/universal-sentence-encoder/4\")"
      ],
      "metadata": {
        "id": "R1y-GqpTNw36"
      },
      "execution_count": 108,
      "outputs": []
    },
    {
      "cell_type": "code",
      "source": [
        "sample_sentence = \"There is a flood in my street!\""
      ],
      "metadata": {
        "id": "UDYxizRpQl--"
      },
      "execution_count": 111,
      "outputs": []
    },
    {
      "cell_type": "code",
      "source": [
        "embed_samples = embed([sample_sentence,\n",
        "                      \"When you can the universal sentence encoder on a sentence, it turns it into numbers.\"])"
      ],
      "metadata": {
        "id": "hzDvH0cSQCeo"
      },
      "execution_count": 112,
      "outputs": []
    },
    {
      "cell_type": "code",
      "source": [
        "print(embed_samples.shape)"
      ],
      "metadata": {
        "colab": {
          "base_uri": "https://localhost:8080/"
        },
        "id": "Yu0oFUlAQecy",
        "outputId": "776a94a0-3504-4150-c719-3e7818e7eead"
      },
      "execution_count": 115,
      "outputs": [
        {
          "output_type": "stream",
          "name": "stdout",
          "text": [
            "(2, 512)\n"
          ]
        }
      ]
    },
    {
      "cell_type": "code",
      "source": [
        "print(embed_samples[0][:50])"
      ],
      "metadata": {
        "colab": {
          "base_uri": "https://localhost:8080/"
        },
        "id": "FgxCiSPKQ0G1",
        "outputId": "a4ce5295-98ff-4f0b-e1b4-29df2ef0a640"
      },
      "execution_count": 116,
      "outputs": [
        {
          "output_type": "stream",
          "name": "stdout",
          "text": [
            "tf.Tensor(\n",
            "[-0.01602836  0.01068853  0.02425464 -0.01405769  0.01434427  0.08292627\n",
            "  0.0196337   0.06160139 -0.00352701 -0.01216416  0.00978647 -0.01248499\n",
            "  0.01232347  0.09748451  0.06141113 -0.03728353  0.01860887 -0.04669852\n",
            "  0.00413913 -0.06363907 -0.02469897  0.02713692  0.02284444 -0.00210029\n",
            " -0.00630592 -0.03964961  0.02220407  0.00115074 -0.03132182  0.00119528\n",
            " -0.0401255   0.04561896 -0.01530598 -0.00175914  0.02173134 -0.08450425\n",
            "  0.03340027  0.04604555 -0.02480251 -0.08681663  0.00702696 -0.00770477\n",
            " -0.01434537  0.07814164 -0.10676058 -0.05152996 -0.00858158 -0.0323223\n",
            " -0.03871096  0.02581472], shape=(50,), dtype=float32)\n"
          ]
        }
      ]
    },
    {
      "cell_type": "code",
      "source": [
        "sentence_encoder_layer = hub.KerasLayer(\"https://tfhub.dev/google/universal-sentence-encoder/4\",\n",
        "                                        input_shape=[],\n",
        "                                        dtype=tf.string,\n",
        "                                        trainable=False,\n",
        "                                        name=\"USE\")"
      ],
      "metadata": {
        "id": "CldUV5_OQ6WK"
      },
      "execution_count": 117,
      "outputs": []
    },
    {
      "cell_type": "code",
      "source": [
        "model_6 = tf.keras.Sequential([\n",
        "    sentence_encoder_layer,\n",
        "    #layers.Dense(128, activation=\"relu\"),\n",
        "    layers.Dense(64, activation=\"relu\"),\n",
        "    layers.Dense(1, activation=\"sigmoid\", name=\"model_6_USE\")\n",
        "])"
      ],
      "metadata": {
        "id": "xI8ciIbJRupg"
      },
      "execution_count": 170,
      "outputs": []
    },
    {
      "cell_type": "code",
      "source": [
        "model_6.compile(loss=\"binary_crossentropy\",\n",
        "                optimizer=tf.keras.optimizers.Adam(learning_rate=0.001),\n",
        "                metrics=[\"accuracy\"])"
      ],
      "metadata": {
        "id": "FCyYA-owR_EB"
      },
      "execution_count": 171,
      "outputs": []
    },
    {
      "cell_type": "code",
      "source": [
        "model_6.summary()"
      ],
      "metadata": {
        "colab": {
          "base_uri": "https://localhost:8080/"
        },
        "id": "WRbxmeCJSGNy",
        "outputId": "f73d7c1d-2056-43cf-f615-b2db826d1753"
      },
      "execution_count": 172,
      "outputs": [
        {
          "output_type": "stream",
          "name": "stdout",
          "text": [
            "Model: \"sequential_6\"\n",
            "_________________________________________________________________\n",
            " Layer (type)                Output Shape              Param #   \n",
            "=================================================================\n",
            " USE (KerasLayer)            (None, 512)               256797824 \n",
            "                                                                 \n",
            " dense_13 (Dense)            (None, 64)                32832     \n",
            "                                                                 \n",
            " model_6_USE (Dense)         (None, 1)                 65        \n",
            "                                                                 \n",
            "=================================================================\n",
            "Total params: 256,830,721\n",
            "Trainable params: 32,897\n",
            "Non-trainable params: 256,797,824\n",
            "_________________________________________________________________\n"
          ]
        }
      ]
    },
    {
      "cell_type": "code",
      "source": [
        "model_6_history = model_6_history = model_6.fit(train_sentences,\n",
        "                                                train_labels,\n",
        "                                                epochs=5,\n",
        "                                                validation_data=(val_sentences, val_labels),\n",
        "                                                callbacks=[create_tensorboard_callback(LOG_DIR,\n",
        "                                                                                      \"model_6_USE\")])"
      ],
      "metadata": {
        "colab": {
          "base_uri": "https://localhost:8080/"
        },
        "id": "4xw_KY-KSDxZ",
        "outputId": "52db44a3-5916-4363-a7bb-88368c9f4473"
      },
      "execution_count": 173,
      "outputs": [
        {
          "output_type": "stream",
          "name": "stdout",
          "text": [
            "Saving TensorBoard log files to: model_logs/model_6_USE/20220905-203022\n",
            "Epoch 1/5\n",
            "215/215 [==============================] - 5s 20ms/step - loss: 0.5111 - accuracy: 0.7809 - val_loss: 0.4482 - val_accuracy: 0.7940\n",
            "Epoch 2/5\n",
            "215/215 [==============================] - 4s 21ms/step - loss: 0.4164 - accuracy: 0.8107 - val_loss: 0.4389 - val_accuracy: 0.8071\n",
            "Epoch 3/5\n",
            "215/215 [==============================] - 4s 20ms/step - loss: 0.4015 - accuracy: 0.8225 - val_loss: 0.4332 - val_accuracy: 0.8084\n",
            "Epoch 4/5\n",
            "215/215 [==============================] - 3s 15ms/step - loss: 0.3924 - accuracy: 0.8278 - val_loss: 0.4305 - val_accuracy: 0.8150\n",
            "Epoch 5/5\n",
            "215/215 [==============================] - 4s 17ms/step - loss: 0.3852 - accuracy: 0.8291 - val_loss: 0.4263 - val_accuracy: 0.8150\n"
          ]
        }
      ]
    },
    {
      "cell_type": "code",
      "source": [
        "model_6_pred_probs = model_6.predict(val_sentences)"
      ],
      "metadata": {
        "id": "IqnalOT5SLyu"
      },
      "execution_count": 238,
      "outputs": []
    },
    {
      "cell_type": "code",
      "source": [
        "model_6_preds = tf.squeeze(tf.round(model_6_pred_probs))"
      ],
      "metadata": {
        "id": "4itnj1ltSXTo"
      },
      "execution_count": 239,
      "outputs": []
    },
    {
      "cell_type": "code",
      "source": [
        "model_6_results = calculate_results(val_labels,\n",
        "                                    model_6_preds)\n",
        "model_6_results, baseline_results"
      ],
      "metadata": {
        "colab": {
          "base_uri": "https://localhost:8080/"
        },
        "id": "6YP77C2EScbi",
        "outputId": "be025963-c3cd-4a97-bd87-84ce4ea565c8"
      },
      "execution_count": 240,
      "outputs": [
        {
          "output_type": "execute_result",
          "data": {
            "text/plain": [
              "({'accuracy': 81.49606299212599,\n",
              "  'precision': 0.8161852632862286,\n",
              "  'recall': 0.8149606299212598,\n",
              "  'f1': 0.8138139523860313},\n",
              " {'accuracy': 79.26509186351706,\n",
              "  'precision': 0.8111390004213173,\n",
              "  'recall': 0.7926509186351706,\n",
              "  'f1': 0.7862189758049549})"
            ]
          },
          "metadata": {},
          "execution_count": 240
        }
      ]
    },
    {
      "cell_type": "markdown",
      "source": [
        "### Model 7 building"
      ],
      "metadata": {
        "id": "MzB3OVndU17R"
      }
    },
    {
      "cell_type": "code",
      "source": [
        "train_10 = train_df_shuffled[[\"text\",\"target\"]].sample(frac=0.1, random_state=42)\n",
        "train_sentences_10 = train_10[\"text\"].to_list()\n",
        "train_labels_10 = train_10[\"target\"].to_list()\n",
        "len(train_labels_10), len(train_sentences_10)"
      ],
      "metadata": {
        "colab": {
          "base_uri": "https://localhost:8080/"
        },
        "id": "zhfKD6dDU4-G",
        "outputId": "f30061e7-29c2-4406-c0d8-c6cf1911a7e3"
      },
      "execution_count": 228,
      "outputs": [
        {
          "output_type": "execute_result",
          "data": {
            "text/plain": [
              "(761, 761)"
            ]
          },
          "metadata": {},
          "execution_count": 228
        }
      ]
    },
    {
      "cell_type": "code",
      "source": [
        "model_7 = tf.keras.Sequential([\n",
        "    sentence_encoder_layer,\n",
        "    #layers.Dense(128, activation=\"relu\"),\n",
        "    layers.Dense(64, activation=\"relu\"),\n",
        "    layers.Dense(1, activation=\"sigmoid\", name=\"model_6_USE\")\n",
        "])\n",
        "model_7.compile(loss=\"binary_crossentropy\",\n",
        "                optimizer=tf.keras.optimizers.Adam(),\n",
        "                metrics=[\"accuracy\"])\n",
        "model_7_history = model_7.fit(train_sentences_10,\n",
        "                              train_labels_10,\n",
        "                              validation_data=(val_sentences, val_labels),\n",
        "                              epochs=5,\n",
        "                              callbacks=[create_tensorboard_callback(LOG_DIR,\n",
        "                                                                     \"model_7_10_percent\")])"
      ],
      "metadata": {
        "colab": {
          "base_uri": "https://localhost:8080/"
        },
        "id": "ipbSqHPiVhV5",
        "outputId": "eb2af1bd-ff9e-4d77-f50e-5959e2fde2d5"
      },
      "execution_count": 229,
      "outputs": [
        {
          "output_type": "stream",
          "name": "stdout",
          "text": [
            "Saving TensorBoard log files to: model_logs/model_7_10_percent/20220905-212842\n",
            "Epoch 1/5\n",
            "24/24 [==============================] - 2s 41ms/step - loss: 0.6718 - accuracy: 0.6781 - val_loss: 0.6335 - val_accuracy: 0.7992\n",
            "Epoch 2/5\n",
            "24/24 [==============================] - 1s 24ms/step - loss: 0.5999 - accuracy: 0.7989 - val_loss: 0.5545 - val_accuracy: 0.8097\n",
            "Epoch 3/5\n",
            "24/24 [==============================] - 1s 25ms/step - loss: 0.5242 - accuracy: 0.8042 - val_loss: 0.4871 - val_accuracy: 0.8097\n",
            "Epoch 4/5\n",
            "24/24 [==============================] - 1s 25ms/step - loss: 0.4696 - accuracy: 0.8081 - val_loss: 0.4405 - val_accuracy: 0.8189\n",
            "Epoch 5/5\n",
            "24/24 [==============================] - 1s 24ms/step - loss: 0.4321 - accuracy: 0.8200 - val_loss: 0.4105 - val_accuracy: 0.8255\n"
          ]
        }
      ]
    },
    {
      "cell_type": "code",
      "source": [
        "from sklearn.metrics import precision_score"
      ],
      "metadata": {
        "id": "F0FkNhvqjKAh"
      },
      "execution_count": 224,
      "outputs": []
    },
    {
      "cell_type": "code",
      "source": [
        "model_7_pred_probs = model_7.predict(val_sentences)\n",
        "model_7_preds = tf.squeeze(tf.round(model_7_pred_probs))\n",
        "model_7_results = calculate_results(val_labels,\n",
        "                                    model_7_preds)\n",
        "model_7_results"
      ],
      "metadata": {
        "colab": {
          "base_uri": "https://localhost:8080/"
        },
        "id": "zsuJA-daWg-M",
        "outputId": "d3bafddc-141b-48b6-9fe6-050ff28e0003"
      },
      "execution_count": 241,
      "outputs": [
        {
          "output_type": "execute_result",
          "data": {
            "text/plain": [
              "{'accuracy': 82.54593175853019,\n",
              " 'precision': 0.8256179935749094,\n",
              " 'recall': 0.8254593175853019,\n",
              " 'f1': 0.8249028706511805}"
            ]
          },
          "metadata": {},
          "execution_count": 241
        }
      ]
    },
    {
      "cell_type": "code",
      "source": [
        "precision_score(val_labels, model_7_preds)"
      ],
      "metadata": {
        "colab": {
          "base_uri": "https://localhost:8080/"
        },
        "id": "8iL6GzCtjMzn",
        "outputId": "85664467-3dc7-4e1f-8605-ddc595855e81"
      },
      "execution_count": 231,
      "outputs": [
        {
          "output_type": "execute_result",
          "data": {
            "text/plain": [
              "0.8287461773700305"
            ]
          },
          "metadata": {},
          "execution_count": 231
        }
      ]
    },
    {
      "cell_type": "code",
      "source": [
        "model_7_results"
      ],
      "metadata": {
        "colab": {
          "base_uri": "https://localhost:8080/"
        },
        "id": "77SsbpTUbRT6",
        "outputId": "079dc8d2-c623-4319-d750-817e25710c3c"
      },
      "execution_count": 189,
      "outputs": [
        {
          "output_type": "execute_result",
          "data": {
            "text/plain": [
              "{'accuracy': 82.67716535433071,\n",
              " 'precision': 0.8269995599202095,\n",
              " 'recall': 0.8267716535433071,\n",
              " 'f1': 0.8261862632854258}"
            ]
          },
          "metadata": {},
          "execution_count": 189
        }
      ]
    },
    {
      "cell_type": "code",
      "source": [
        "model_6_results"
      ],
      "metadata": {
        "colab": {
          "base_uri": "https://localhost:8080/"
        },
        "id": "N9aQCg7kWzcG",
        "outputId": "19769b5c-660a-4be0-8b0e-3ff6817ed7d6"
      },
      "execution_count": 176,
      "outputs": [
        {
          "output_type": "execute_result",
          "data": {
            "text/plain": [
              "{'accuracy': 81.75853018372703,\n",
              " 'precision': 0.8196403099324437,\n",
              " 'recall': 0.8175853018372703,\n",
              " 'f1': 0.8161793631328899}"
            ]
          },
          "metadata": {},
          "execution_count": 176
        }
      ]
    },
    {
      "cell_type": "markdown",
      "source": [
        "#### So up there while creating 10 percent data splits there is something called \"data leakage\".\n",
        "While creating splits we also included validation data somehow so we have to fix that"
      ],
      "metadata": {
        "id": "DUIvEKsaYTYt"
      }
    },
    {
      "cell_type": "code",
      "source": [
        "import numpy as np"
      ],
      "metadata": {
        "id": "45s1UrBWhlTU"
      },
      "execution_count": 209,
      "outputs": []
    },
    {
      "cell_type": "code",
      "source": [
        "train_10_split = int(0.1 * len(train_sentences))\n",
        "train_sentences_10_fixed = train_sentences[:train_10_split]\n",
        "train_labels_10_fixed = train_labels[:train_10_split]"
      ],
      "metadata": {
        "id": "Hc1q8GclZLEm"
      },
      "execution_count": 196,
      "outputs": []
    },
    {
      "cell_type": "code",
      "source": [
        "train_sentences_90_percent, train_sentences_10_percent, train_labels_90_percent, train_labels_10_percent = train_test_split(np.array(train_sentences),\n",
        "                                                                                                                            train_labels,\n",
        "                                                                                                                            test_size=0.1,\n",
        "                                                                                                                            random_state=42)"
      ],
      "metadata": {
        "id": "NZQ7XnpjhiLZ"
      },
      "execution_count": 210,
      "outputs": []
    },
    {
      "cell_type": "code",
      "source": [
        "model_8 = tf.keras.Sequential([\n",
        "    sentence_encoder_layer,\n",
        "    #layers.Dense(128, activation=\"relu\"),\n",
        "    layers.Dense(64, activation=\"relu\"),\n",
        "    layers.Dense(1, activation=\"sigmoid\", name=\"model_8_USE\")\n",
        "])\n",
        "model_8.compile(loss=\"binary_crossentropy\",\n",
        "                optimizer=tf.keras.optimizers.Adam(),\n",
        "                metrics=[\"accuracy\"])\n",
        "model_8_history = model_8.fit(train_sentences_10_percent,\n",
        "                              train_labels_10_percent,\n",
        "                              validation_data=(val_sentences, val_labels),\n",
        "                              epochs=5,\n",
        "                              callbacks=[create_tensorboard_callback(LOG_DIR,\n",
        "                                                                     \"model_8_10_percent_fixed_split\")])"
      ],
      "metadata": {
        "colab": {
          "base_uri": "https://localhost:8080/"
        },
        "id": "ikS4F26YZ0Jk",
        "outputId": "90f2b6ab-12db-4c0b-9540-c302189348d6"
      },
      "execution_count": 213,
      "outputs": [
        {
          "output_type": "stream",
          "name": "stdout",
          "text": [
            "Saving TensorBoard log files to: model_logs/model_8_10_percent_fixed_split/20220905-212110\n",
            "Epoch 1/5\n",
            "22/22 [==============================] - 2s 41ms/step - loss: 0.6703 - accuracy: 0.7055 - val_loss: 0.6504 - val_accuracy: 0.7100\n",
            "Epoch 2/5\n",
            "22/22 [==============================] - 1s 26ms/step - loss: 0.5992 - accuracy: 0.8120 - val_loss: 0.5938 - val_accuracy: 0.7402\n",
            "Epoch 3/5\n",
            "22/22 [==============================] - 1s 26ms/step - loss: 0.5202 - accuracy: 0.8047 - val_loss: 0.5410 - val_accuracy: 0.7585\n",
            "Epoch 4/5\n",
            "22/22 [==============================] - 1s 27ms/step - loss: 0.4555 - accuracy: 0.8236 - val_loss: 0.5062 - val_accuracy: 0.7703\n",
            "Epoch 5/5\n",
            "22/22 [==============================] - 0s 22ms/step - loss: 0.4099 - accuracy: 0.8382 - val_loss: 0.4908 - val_accuracy: 0.7730\n"
          ]
        }
      ]
    },
    {
      "cell_type": "code",
      "source": [
        "model_8_pred_probs = model_8.predict(val_sentences)\n",
        "model_8_preds = tf.squeeze(tf.round(model_8_pred_probs))\n",
        "model_8_results = calculate_results(y_true=val_labels,\n",
        "                                    y_pred=model_8_preds)\n",
        "model_8_results"
      ],
      "metadata": {
        "colab": {
          "base_uri": "https://localhost:8080/"
        },
        "id": "4tb4tfupaO2C",
        "outputId": "bf5b82cc-538e-466d-f010-32dd87f440fa"
      },
      "execution_count": 242,
      "outputs": [
        {
          "output_type": "execute_result",
          "data": {
            "text/plain": [
              "{'accuracy': 77.29658792650919,\n",
              " 'precision': 0.7770640736660165,\n",
              " 'recall': 0.7729658792650919,\n",
              " 'f1': 0.7698502254147366}"
            ]
          },
          "metadata": {},
          "execution_count": 242
        }
      ]
    },
    {
      "cell_type": "markdown",
      "source": [
        "why model_8 calculation is so low ???"
      ],
      "metadata": {
        "id": "plbSTIPZbhr7"
      }
    },
    {
      "cell_type": "code",
      "source": [
        "all_model_results = pd.DataFrame({\"baseline\": baseline_results,\n",
        "                                  \"model_1\": model_1_results,\n",
        "                                  \"model_2\": model_2_results,\n",
        "                                  \"model_3\": model_3_results,\n",
        "                                  \"model_4\":model_4_results,\n",
        "                                  \"model_5\":model_5_results,\n",
        "                                  \"model_6\":model_6_results,\n",
        "                                  \"model_8\":model_8_results})"
      ],
      "metadata": {
        "id": "ksxBDurhbZhm"
      },
      "execution_count": 246,
      "outputs": []
    },
    {
      "cell_type": "code",
      "source": [
        "all_model_results = all_model_results.transpose()"
      ],
      "metadata": {
        "id": "AESZSzzBiiHm"
      },
      "execution_count": 249,
      "outputs": []
    },
    {
      "cell_type": "code",
      "source": [
        "all_model_results[\"accuracy\"] = all_model_results[\"accuracy\"] / 100\n",
        "all_model_results"
      ],
      "metadata": {
        "colab": {
          "base_uri": "https://localhost:8080/",
          "height": 300
        },
        "id": "BWhCV9qQijWr",
        "outputId": "7742fd82-e88b-490f-ec93-dd783ce7b200"
      },
      "execution_count": 250,
      "outputs": [
        {
          "output_type": "execute_result",
          "data": {
            "text/plain": [
              "          accuracy  precision    recall        f1\n",
              "baseline  0.792651   0.811139  0.792651  0.786219\n",
              "model_1   0.787402   0.792322  0.787402  0.784411\n",
              "model_2   0.772966   0.774516  0.772966  0.770970\n",
              "model_3   0.775591   0.779044  0.775591  0.772808\n",
              "model_4   0.769029   0.769253  0.769029  0.767760\n",
              "model_5   0.751969   0.751553  0.751969  0.751603\n",
              "model_6   0.814961   0.816185  0.814961  0.813814\n",
              "model_8   0.772966   0.777064  0.772966  0.769850"
            ],
            "text/html": [
              "\n",
              "  <div id=\"df-87da3d69-6d4d-447b-9d31-0928d0d336f8\">\n",
              "    <div class=\"colab-df-container\">\n",
              "      <div>\n",
              "<style scoped>\n",
              "    .dataframe tbody tr th:only-of-type {\n",
              "        vertical-align: middle;\n",
              "    }\n",
              "\n",
              "    .dataframe tbody tr th {\n",
              "        vertical-align: top;\n",
              "    }\n",
              "\n",
              "    .dataframe thead th {\n",
              "        text-align: right;\n",
              "    }\n",
              "</style>\n",
              "<table border=\"1\" class=\"dataframe\">\n",
              "  <thead>\n",
              "    <tr style=\"text-align: right;\">\n",
              "      <th></th>\n",
              "      <th>accuracy</th>\n",
              "      <th>precision</th>\n",
              "      <th>recall</th>\n",
              "      <th>f1</th>\n",
              "    </tr>\n",
              "  </thead>\n",
              "  <tbody>\n",
              "    <tr>\n",
              "      <th>baseline</th>\n",
              "      <td>0.792651</td>\n",
              "      <td>0.811139</td>\n",
              "      <td>0.792651</td>\n",
              "      <td>0.786219</td>\n",
              "    </tr>\n",
              "    <tr>\n",
              "      <th>model_1</th>\n",
              "      <td>0.787402</td>\n",
              "      <td>0.792322</td>\n",
              "      <td>0.787402</td>\n",
              "      <td>0.784411</td>\n",
              "    </tr>\n",
              "    <tr>\n",
              "      <th>model_2</th>\n",
              "      <td>0.772966</td>\n",
              "      <td>0.774516</td>\n",
              "      <td>0.772966</td>\n",
              "      <td>0.770970</td>\n",
              "    </tr>\n",
              "    <tr>\n",
              "      <th>model_3</th>\n",
              "      <td>0.775591</td>\n",
              "      <td>0.779044</td>\n",
              "      <td>0.775591</td>\n",
              "      <td>0.772808</td>\n",
              "    </tr>\n",
              "    <tr>\n",
              "      <th>model_4</th>\n",
              "      <td>0.769029</td>\n",
              "      <td>0.769253</td>\n",
              "      <td>0.769029</td>\n",
              "      <td>0.767760</td>\n",
              "    </tr>\n",
              "    <tr>\n",
              "      <th>model_5</th>\n",
              "      <td>0.751969</td>\n",
              "      <td>0.751553</td>\n",
              "      <td>0.751969</td>\n",
              "      <td>0.751603</td>\n",
              "    </tr>\n",
              "    <tr>\n",
              "      <th>model_6</th>\n",
              "      <td>0.814961</td>\n",
              "      <td>0.816185</td>\n",
              "      <td>0.814961</td>\n",
              "      <td>0.813814</td>\n",
              "    </tr>\n",
              "    <tr>\n",
              "      <th>model_8</th>\n",
              "      <td>0.772966</td>\n",
              "      <td>0.777064</td>\n",
              "      <td>0.772966</td>\n",
              "      <td>0.769850</td>\n",
              "    </tr>\n",
              "  </tbody>\n",
              "</table>\n",
              "</div>\n",
              "      <button class=\"colab-df-convert\" onclick=\"convertToInteractive('df-87da3d69-6d4d-447b-9d31-0928d0d336f8')\"\n",
              "              title=\"Convert this dataframe to an interactive table.\"\n",
              "              style=\"display:none;\">\n",
              "        \n",
              "  <svg xmlns=\"http://www.w3.org/2000/svg\" height=\"24px\"viewBox=\"0 0 24 24\"\n",
              "       width=\"24px\">\n",
              "    <path d=\"M0 0h24v24H0V0z\" fill=\"none\"/>\n",
              "    <path d=\"M18.56 5.44l.94 2.06.94-2.06 2.06-.94-2.06-.94-.94-2.06-.94 2.06-2.06.94zm-11 1L8.5 8.5l.94-2.06 2.06-.94-2.06-.94L8.5 2.5l-.94 2.06-2.06.94zm10 10l.94 2.06.94-2.06 2.06-.94-2.06-.94-.94-2.06-.94 2.06-2.06.94z\"/><path d=\"M17.41 7.96l-1.37-1.37c-.4-.4-.92-.59-1.43-.59-.52 0-1.04.2-1.43.59L10.3 9.45l-7.72 7.72c-.78.78-.78 2.05 0 2.83L4 21.41c.39.39.9.59 1.41.59.51 0 1.02-.2 1.41-.59l7.78-7.78 2.81-2.81c.8-.78.8-2.07 0-2.86zM5.41 20L4 18.59l7.72-7.72 1.47 1.35L5.41 20z\"/>\n",
              "  </svg>\n",
              "      </button>\n",
              "      \n",
              "  <style>\n",
              "    .colab-df-container {\n",
              "      display:flex;\n",
              "      flex-wrap:wrap;\n",
              "      gap: 12px;\n",
              "    }\n",
              "\n",
              "    .colab-df-convert {\n",
              "      background-color: #E8F0FE;\n",
              "      border: none;\n",
              "      border-radius: 50%;\n",
              "      cursor: pointer;\n",
              "      display: none;\n",
              "      fill: #1967D2;\n",
              "      height: 32px;\n",
              "      padding: 0 0 0 0;\n",
              "      width: 32px;\n",
              "    }\n",
              "\n",
              "    .colab-df-convert:hover {\n",
              "      background-color: #E2EBFA;\n",
              "      box-shadow: 0px 1px 2px rgba(60, 64, 67, 0.3), 0px 1px 3px 1px rgba(60, 64, 67, 0.15);\n",
              "      fill: #174EA6;\n",
              "    }\n",
              "\n",
              "    [theme=dark] .colab-df-convert {\n",
              "      background-color: #3B4455;\n",
              "      fill: #D2E3FC;\n",
              "    }\n",
              "\n",
              "    [theme=dark] .colab-df-convert:hover {\n",
              "      background-color: #434B5C;\n",
              "      box-shadow: 0px 1px 3px 1px rgba(0, 0, 0, 0.15);\n",
              "      filter: drop-shadow(0px 1px 2px rgba(0, 0, 0, 0.3));\n",
              "      fill: #FFFFFF;\n",
              "    }\n",
              "  </style>\n",
              "\n",
              "      <script>\n",
              "        const buttonEl =\n",
              "          document.querySelector('#df-87da3d69-6d4d-447b-9d31-0928d0d336f8 button.colab-df-convert');\n",
              "        buttonEl.style.display =\n",
              "          google.colab.kernel.accessAllowed ? 'block' : 'none';\n",
              "\n",
              "        async function convertToInteractive(key) {\n",
              "          const element = document.querySelector('#df-87da3d69-6d4d-447b-9d31-0928d0d336f8');\n",
              "          const dataTable =\n",
              "            await google.colab.kernel.invokeFunction('convertToInteractive',\n",
              "                                                     [key], {});\n",
              "          if (!dataTable) return;\n",
              "\n",
              "          const docLinkHtml = 'Like what you see? Visit the ' +\n",
              "            '<a target=\"_blank\" href=https://colab.research.google.com/notebooks/data_table.ipynb>data table notebook</a>'\n",
              "            + ' to learn more about interactive tables.';\n",
              "          element.innerHTML = '';\n",
              "          dataTable['output_type'] = 'display_data';\n",
              "          await google.colab.output.renderOutput(dataTable, element);\n",
              "          const docLink = document.createElement('div');\n",
              "          docLink.innerHTML = docLinkHtml;\n",
              "          element.appendChild(docLink);\n",
              "        }\n",
              "      </script>\n",
              "    </div>\n",
              "  </div>\n",
              "  "
            ]
          },
          "metadata": {},
          "execution_count": 250
        }
      ]
    },
    {
      "cell_type": "code",
      "source": [
        "all_model_results.plot(kind=\"bar\",\n",
        "                       figsize=(10, 7)).legend(bbox_to_anchor=(1.0, 1.0));"
      ],
      "metadata": {
        "colab": {
          "base_uri": "https://localhost:8080/",
          "height": 461
        },
        "id": "BsmMzpEJkbge",
        "outputId": "f293316a-86fb-45ae-88aa-8b22ea5f7d4e"
      },
      "execution_count": 251,
      "outputs": [
        {
          "output_type": "display_data",
          "data": {
            "text/plain": [
              "<Figure size 720x504 with 1 Axes>"
            ],
            "image/png": "[encoded data removed]"
          },
          "metadata": {
            "needs_background": "light"
          }
        }
      ]
    },
    {
      "cell_type": "code",
      "source": [],
      "metadata": {
        "id": "Dhw1jnPfkstp"
      },
      "execution_count": null,
      "outputs": []
    }
  ]
}