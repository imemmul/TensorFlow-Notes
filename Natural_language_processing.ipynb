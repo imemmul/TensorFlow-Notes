{
  "nbformat": 4,
  "nbformat_minor": 0,
  "metadata": {
    "colab": {
      "provenance": [],
      "include_colab_link": true
    },
    "kernelspec": {
      "name": "python3",
      "display_name": "Python 3"
    },
    "language_info": {
      "name": "python"
    },
    "gpuClass": "standard",
    "accelerator": "GPU"
  },
  "cells": [
    {
      "cell_type": "markdown",
      "metadata": {
        "id": "view-in-github",
        "colab_type": "text"
      },
      "source": [
        "<a href=\"https://colab.research.google.com/github/imemmul/TensorFlow-Notes/blob/main/Natural_language_processing.ipynb\" target=\"_parent\"><img src=\"https://colab.research.google.com/assets/colab-badge.svg\" alt=\"Open In Colab\"/></a>"
      ]
    },
    {
      "cell_type": "code",
      "execution_count": 1,
      "metadata": {
        "colab": {
          "base_uri": "https://localhost:8080/"
        },
        "id": "Mx-OiuY1EIWP",
        "outputId": "a8752487-90df-4ea5-8122-97a8bf7e96ec"
      },
      "outputs": [
        {
          "output_type": "stream",
          "name": "stdout",
          "text": [
            "NVIDIA-SMI has failed because it couldn't communicate with the NVIDIA driver. Make sure that the latest NVIDIA driver is installed and running.\n",
            "\n"
          ]
        }
      ],
      "source": [
        "!nvidia-smi -L"
      ]
    },
    {
      "cell_type": "code",
      "source": [
        "!wget https://raw.githubusercontent.com/mrdbourke/tensorflow-deep-learning/main/extras/helper_functions.py\n",
        "\n",
        "from helper_functions import unzip_data, create_tensorboard_callback, plot_loss_curves, compare_historys"
      ],
      "metadata": {
        "colab": {
          "base_uri": "https://localhost:8080/"
        },
        "id": "nm8fLGiFLlJr",
        "outputId": "13d83526-ec73-4172-f791-aebc1ce93e9b"
      },
      "execution_count": 2,
      "outputs": [
        {
          "output_type": "stream",
          "name": "stdout",
          "text": [
            "--2022-09-05 21:38:47--  https://raw.githubusercontent.com/mrdbourke/tensorflow-deep-learning/main/extras/helper_functions.py\n",
            "Resolving raw.githubusercontent.com (raw.githubusercontent.com)... 185.199.108.133, 185.199.110.133, 185.199.111.133, ...\n",
            "Connecting to raw.githubusercontent.com (raw.githubusercontent.com)|185.199.108.133|:443... connected.\n",
            "HTTP request sent, awaiting response... 200 OK\n",
            "Length: 10246 (10K) [text/plain]\n",
            "Saving to: ‘helper_functions.py’\n",
            "\n",
            "helper_functions.py 100%[===================>]  10.01K  --.-KB/s    in 0s      \n",
            "\n",
            "2022-09-05 21:38:47 (76.2 MB/s) - ‘helper_functions.py’ saved [10246/10246]\n",
            "\n"
          ]
        }
      ]
    },
    {
      "cell_type": "code",
      "source": [
        "!wget https://storage.googleapis.com/ztm_tf_course/nlp_getting_started.zip"
      ],
      "metadata": {
        "colab": {
          "base_uri": "https://localhost:8080/"
        },
        "id": "-sJg_IoYL-KN",
        "outputId": "d7f8bb50-2f31-4f28-eea9-dff1bce47e54"
      },
      "execution_count": 3,
      "outputs": [
        {
          "output_type": "stream",
          "name": "stdout",
          "text": [
            "--2022-09-05 21:38:52--  https://storage.googleapis.com/ztm_tf_course/nlp_getting_started.zip\n",
            "Resolving storage.googleapis.com (storage.googleapis.com)... 173.194.213.128, 173.194.214.128, 173.194.215.128, ...\n",
            "Connecting to storage.googleapis.com (storage.googleapis.com)|173.194.213.128|:443... connected.\n",
            "HTTP request sent, awaiting response... 200 OK\n",
            "Length: 607343 (593K) [application/zip]\n",
            "Saving to: ‘nlp_getting_started.zip’\n",
            "\n",
            "\rnlp_getting_started   0%[                    ]       0  --.-KB/s               \rnlp_getting_started 100%[===================>] 593.11K  --.-KB/s    in 0.007s  \n",
            "\n",
            "2022-09-05 21:38:52 (84.7 MB/s) - ‘nlp_getting_started.zip’ saved [607343/607343]\n",
            "\n"
          ]
        }
      ]
    },
    {
      "cell_type": "code",
      "source": [
        "unzip_data(\"nlp_getting_started.zip\")"
      ],
      "metadata": {
        "id": "HE_isNHCMh4j"
      },
      "execution_count": 4,
      "outputs": []
    },
    {
      "cell_type": "markdown",
      "source": [
        "### Visualizing a text dataset"
      ],
      "metadata": {
        "id": "RV2eSOZYMzN4"
      }
    },
    {
      "cell_type": "code",
      "source": [
        "import pandas as pd"
      ],
      "metadata": {
        "id": "tQokP-QYMkMr"
      },
      "execution_count": 5,
      "outputs": []
    },
    {
      "cell_type": "code",
      "source": [
        "train_df = pd.read_csv(\"train.csv\")\n",
        "test_df = pd.read_csv(\"test.csv\")\n",
        "train_df.head()"
      ],
      "metadata": {
        "colab": {
          "base_uri": "https://localhost:8080/",
          "height": 206
        },
        "id": "U_UfLbInNTbl",
        "outputId": "c07a4310-a441-460c-e1db-3547c50121b8"
      },
      "execution_count": 6,
      "outputs": [
        {
          "output_type": "execute_result",
          "data": {
            "text/plain": [
              "   id keyword location                                               text  \\\n",
              "0   1     NaN      NaN  Our Deeds are the Reason of this #earthquake M...   \n",
              "1   4     NaN      NaN             Forest fire near La Ronge Sask. Canada   \n",
              "2   5     NaN      NaN  All residents asked to 'shelter in place' are ...   \n",
              "3   6     NaN      NaN  13,000 people receive #wildfires evacuation or...   \n",
              "4   7     NaN      NaN  Just got sent this photo from Ruby #Alaska as ...   \n",
              "\n",
              "   target  \n",
              "0       1  \n",
              "1       1  \n",
              "2       1  \n",
              "3       1  \n",
              "4       1  "
            ],
            "text/html": [
              "\n",
              "  <div id=\"df-b8ecca31-9b5e-4181-86d3-9804c7f01704\">\n",
              "    <div class=\"colab-df-container\">\n",
              "      <div>\n",
              "<style scoped>\n",
              "    .dataframe tbody tr th:only-of-type {\n",
              "        vertical-align: middle;\n",
              "    }\n",
              "\n",
              "    .dataframe tbody tr th {\n",
              "        vertical-align: top;\n",
              "    }\n",
              "\n",
              "    .dataframe thead th {\n",
              "        text-align: right;\n",
              "    }\n",
              "</style>\n",
              "<table border=\"1\" class=\"dataframe\">\n",
              "  <thead>\n",
              "    <tr style=\"text-align: right;\">\n",
              "      <th></th>\n",
              "      <th>id</th>\n",
              "      <th>keyword</th>\n",
              "      <th>location</th>\n",
              "      <th>text</th>\n",
              "      <th>target</th>\n",
              "    </tr>\n",
              "  </thead>\n",
              "  <tbody>\n",
              "    <tr>\n",
              "      <th>0</th>\n",
              "      <td>1</td>\n",
              "      <td>NaN</td>\n",
              "      <td>NaN</td>\n",
              "      <td>Our Deeds are the Reason of this #earthquake M...</td>\n",
              "      <td>1</td>\n",
              "    </tr>\n",
              "    <tr>\n",
              "      <th>1</th>\n",
              "      <td>4</td>\n",
              "      <td>NaN</td>\n",
              "      <td>NaN</td>\n",
              "      <td>Forest fire near La Ronge Sask. Canada</td>\n",
              "      <td>1</td>\n",
              "    </tr>\n",
              "    <tr>\n",
              "      <th>2</th>\n",
              "      <td>5</td>\n",
              "      <td>NaN</td>\n",
              "      <td>NaN</td>\n",
              "      <td>All residents asked to 'shelter in place' are ...</td>\n",
              "      <td>1</td>\n",
              "    </tr>\n",
              "    <tr>\n",
              "      <th>3</th>\n",
              "      <td>6</td>\n",
              "      <td>NaN</td>\n",
              "      <td>NaN</td>\n",
              "      <td>13,000 people receive #wildfires evacuation or...</td>\n",
              "      <td>1</td>\n",
              "    </tr>\n",
              "    <tr>\n",
              "      <th>4</th>\n",
              "      <td>7</td>\n",
              "      <td>NaN</td>\n",
              "      <td>NaN</td>\n",
              "      <td>Just got sent this photo from Ruby #Alaska as ...</td>\n",
              "      <td>1</td>\n",
              "    </tr>\n",
              "  </tbody>\n",
              "</table>\n",
              "</div>\n",
              "      <button class=\"colab-df-convert\" onclick=\"convertToInteractive('df-b8ecca31-9b5e-4181-86d3-9804c7f01704')\"\n",
              "              title=\"Convert this dataframe to an interactive table.\"\n",
              "              style=\"display:none;\">\n",
              "        \n",
              "  <svg xmlns=\"http://www.w3.org/2000/svg\" height=\"24px\"viewBox=\"0 0 24 24\"\n",
              "       width=\"24px\">\n",
              "    <path d=\"M0 0h24v24H0V0z\" fill=\"none\"/>\n",
              "    <path d=\"M18.56 5.44l.94 2.06.94-2.06 2.06-.94-2.06-.94-.94-2.06-.94 2.06-2.06.94zm-11 1L8.5 8.5l.94-2.06 2.06-.94-2.06-.94L8.5 2.5l-.94 2.06-2.06.94zm10 10l.94 2.06.94-2.06 2.06-.94-2.06-.94-.94-2.06-.94 2.06-2.06.94z\"/><path d=\"M17.41 7.96l-1.37-1.37c-.4-.4-.92-.59-1.43-.59-.52 0-1.04.2-1.43.59L10.3 9.45l-7.72 7.72c-.78.78-.78 2.05 0 2.83L4 21.41c.39.39.9.59 1.41.59.51 0 1.02-.2 1.41-.59l7.78-7.78 2.81-2.81c.8-.78.8-2.07 0-2.86zM5.41 20L4 18.59l7.72-7.72 1.47 1.35L5.41 20z\"/>\n",
              "  </svg>\n",
              "      </button>\n",
              "      \n",
              "  <style>\n",
              "    .colab-df-container {\n",
              "      display:flex;\n",
              "      flex-wrap:wrap;\n",
              "      gap: 12px;\n",
              "    }\n",
              "\n",
              "    .colab-df-convert {\n",
              "      background-color: #E8F0FE;\n",
              "      border: none;\n",
              "      border-radius: 50%;\n",
              "      cursor: pointer;\n",
              "      display: none;\n",
              "      fill: #1967D2;\n",
              "      height: 32px;\n",
              "      padding: 0 0 0 0;\n",
              "      width: 32px;\n",
              "    }\n",
              "\n",
              "    .colab-df-convert:hover {\n",
              "      background-color: #E2EBFA;\n",
              "      box-shadow: 0px 1px 2px rgba(60, 64, 67, 0.3), 0px 1px 3px 1px rgba(60, 64, 67, 0.15);\n",
              "      fill: #174EA6;\n",
              "    }\n",
              "\n",
              "    [theme=dark] .colab-df-convert {\n",
              "      background-color: #3B4455;\n",
              "      fill: #D2E3FC;\n",
              "    }\n",
              "\n",
              "    [theme=dark] .colab-df-convert:hover {\n",
              "      background-color: #434B5C;\n",
              "      box-shadow: 0px 1px 3px 1px rgba(0, 0, 0, 0.15);\n",
              "      filter: drop-shadow(0px 1px 2px rgba(0, 0, 0, 0.3));\n",
              "      fill: #FFFFFF;\n",
              "    }\n",
              "  </style>\n",
              "\n",
              "      <script>\n",
              "        const buttonEl =\n",
              "          document.querySelector('#df-b8ecca31-9b5e-4181-86d3-9804c7f01704 button.colab-df-convert');\n",
              "        buttonEl.style.display =\n",
              "          google.colab.kernel.accessAllowed ? 'block' : 'none';\n",
              "\n",
              "        async function convertToInteractive(key) {\n",
              "          const element = document.querySelector('#df-b8ecca31-9b5e-4181-86d3-9804c7f01704');\n",
              "          const dataTable =\n",
              "            await google.colab.kernel.invokeFunction('convertToInteractive',\n",
              "                                                     [key], {});\n",
              "          if (!dataTable) return;\n",
              "\n",
              "          const docLinkHtml = 'Like what you see? Visit the ' +\n",
              "            '<a target=\"_blank\" href=https://colab.research.google.com/notebooks/data_table.ipynb>data table notebook</a>'\n",
              "            + ' to learn more about interactive tables.';\n",
              "          element.innerHTML = '';\n",
              "          dataTable['output_type'] = 'display_data';\n",
              "          await google.colab.output.renderOutput(dataTable, element);\n",
              "          const docLink = document.createElement('div');\n",
              "          docLink.innerHTML = docLinkHtml;\n",
              "          element.appendChild(docLink);\n",
              "        }\n",
              "      </script>\n",
              "    </div>\n",
              "  </div>\n",
              "  "
            ]
          },
          "metadata": {},
          "execution_count": 6
        }
      ]
    },
    {
      "cell_type": "code",
      "source": [
        "train_df_shuffled = train_df.sample(frac=1, random_state=42)\n",
        "train_df_shuffled.head()"
      ],
      "metadata": {
        "colab": {
          "base_uri": "https://localhost:8080/",
          "height": 319
        },
        "id": "FKzsUro-NZC8",
        "outputId": "4e39a15b-3113-4e04-9741-9797f8e54300"
      },
      "execution_count": 7,
      "outputs": [
        {
          "output_type": "execute_result",
          "data": {
            "text/plain": [
              "        id      keyword               location  \\\n",
              "2644  3796  destruction                    NaN   \n",
              "2227  3185       deluge                    NaN   \n",
              "5448  7769       police                     UK   \n",
              "132    191   aftershock                    NaN   \n",
              "6845  9810       trauma  Montgomery County, MD   \n",
              "\n",
              "                                                   text  target  \n",
              "2644  So you have a new weapon that can cause un-ima...       1  \n",
              "2227  The f$&amp;@ing things I do for #GISHWHES Just...       0  \n",
              "5448  DT @georgegalloway: RT @Galloway4Mayor: ÛÏThe...       1  \n",
              "132   Aftershock back to school kick off was great. ...       0  \n",
              "6845  in response to trauma Children of Addicts deve...       0  "
            ],
            "text/html": [
              "\n",
              "  <div id=\"df-2231daee-01ea-4b48-ad49-190f37d99fad\">\n",
              "    <div class=\"colab-df-container\">\n",
              "      <div>\n",
              "<style scoped>\n",
              "    .dataframe tbody tr th:only-of-type {\n",
              "        vertical-align: middle;\n",
              "    }\n",
              "\n",
              "    .dataframe tbody tr th {\n",
              "        vertical-align: top;\n",
              "    }\n",
              "\n",
              "    .dataframe thead th {\n",
              "        text-align: right;\n",
              "    }\n",
              "</style>\n",
              "<table border=\"1\" class=\"dataframe\">\n",
              "  <thead>\n",
              "    <tr style=\"text-align: right;\">\n",
              "      <th></th>\n",
              "      <th>id</th>\n",
              "      <th>keyword</th>\n",
              "      <th>location</th>\n",
              "      <th>text</th>\n",
              "      <th>target</th>\n",
              "    </tr>\n",
              "  </thead>\n",
              "  <tbody>\n",
              "    <tr>\n",
              "      <th>2644</th>\n",
              "      <td>3796</td>\n",
              "      <td>destruction</td>\n",
              "      <td>NaN</td>\n",
              "      <td>So you have a new weapon that can cause un-ima...</td>\n",
              "      <td>1</td>\n",
              "    </tr>\n",
              "    <tr>\n",
              "      <th>2227</th>\n",
              "      <td>3185</td>\n",
              "      <td>deluge</td>\n",
              "      <td>NaN</td>\n",
              "      <td>The f$&amp;amp;@ing things I do for #GISHWHES Just...</td>\n",
              "      <td>0</td>\n",
              "    </tr>\n",
              "    <tr>\n",
              "      <th>5448</th>\n",
              "      <td>7769</td>\n",
              "      <td>police</td>\n",
              "      <td>UK</td>\n",
              "      <td>DT @georgegalloway: RT @Galloway4Mayor: ÛÏThe...</td>\n",
              "      <td>1</td>\n",
              "    </tr>\n",
              "    <tr>\n",
              "      <th>132</th>\n",
              "      <td>191</td>\n",
              "      <td>aftershock</td>\n",
              "      <td>NaN</td>\n",
              "      <td>Aftershock back to school kick off was great. ...</td>\n",
              "      <td>0</td>\n",
              "    </tr>\n",
              "    <tr>\n",
              "      <th>6845</th>\n",
              "      <td>9810</td>\n",
              "      <td>trauma</td>\n",
              "      <td>Montgomery County, MD</td>\n",
              "      <td>in response to trauma Children of Addicts deve...</td>\n",
              "      <td>0</td>\n",
              "    </tr>\n",
              "  </tbody>\n",
              "</table>\n",
              "</div>\n",
              "      <button class=\"colab-df-convert\" onclick=\"convertToInteractive('df-2231daee-01ea-4b48-ad49-190f37d99fad')\"\n",
              "              title=\"Convert this dataframe to an interactive table.\"\n",
              "              style=\"display:none;\">\n",
              "        \n",
              "  <svg xmlns=\"http://www.w3.org/2000/svg\" height=\"24px\"viewBox=\"0 0 24 24\"\n",
              "       width=\"24px\">\n",
              "    <path d=\"M0 0h24v24H0V0z\" fill=\"none\"/>\n",
              "    <path d=\"M18.56 5.44l.94 2.06.94-2.06 2.06-.94-2.06-.94-.94-2.06-.94 2.06-2.06.94zm-11 1L8.5 8.5l.94-2.06 2.06-.94-2.06-.94L8.5 2.5l-.94 2.06-2.06.94zm10 10l.94 2.06.94-2.06 2.06-.94-2.06-.94-.94-2.06-.94 2.06-2.06.94z\"/><path d=\"M17.41 7.96l-1.37-1.37c-.4-.4-.92-.59-1.43-.59-.52 0-1.04.2-1.43.59L10.3 9.45l-7.72 7.72c-.78.78-.78 2.05 0 2.83L4 21.41c.39.39.9.59 1.41.59.51 0 1.02-.2 1.41-.59l7.78-7.78 2.81-2.81c.8-.78.8-2.07 0-2.86zM5.41 20L4 18.59l7.72-7.72 1.47 1.35L5.41 20z\"/>\n",
              "  </svg>\n",
              "      </button>\n",
              "      \n",
              "  <style>\n",
              "    .colab-df-container {\n",
              "      display:flex;\n",
              "      flex-wrap:wrap;\n",
              "      gap: 12px;\n",
              "    }\n",
              "\n",
              "    .colab-df-convert {\n",
              "      background-color: #E8F0FE;\n",
              "      border: none;\n",
              "      border-radius: 50%;\n",
              "      cursor: pointer;\n",
              "      display: none;\n",
              "      fill: #1967D2;\n",
              "      height: 32px;\n",
              "      padding: 0 0 0 0;\n",
              "      width: 32px;\n",
              "    }\n",
              "\n",
              "    .colab-df-convert:hover {\n",
              "      background-color: #E2EBFA;\n",
              "      box-shadow: 0px 1px 2px rgba(60, 64, 67, 0.3), 0px 1px 3px 1px rgba(60, 64, 67, 0.15);\n",
              "      fill: #174EA6;\n",
              "    }\n",
              "\n",
              "    [theme=dark] .colab-df-convert {\n",
              "      background-color: #3B4455;\n",
              "      fill: #D2E3FC;\n",
              "    }\n",
              "\n",
              "    [theme=dark] .colab-df-convert:hover {\n",
              "      background-color: #434B5C;\n",
              "      box-shadow: 0px 1px 3px 1px rgba(0, 0, 0, 0.15);\n",
              "      filter: drop-shadow(0px 1px 2px rgba(0, 0, 0, 0.3));\n",
              "      fill: #FFFFFF;\n",
              "    }\n",
              "  </style>\n",
              "\n",
              "      <script>\n",
              "        const buttonEl =\n",
              "          document.querySelector('#df-2231daee-01ea-4b48-ad49-190f37d99fad button.colab-df-convert');\n",
              "        buttonEl.style.display =\n",
              "          google.colab.kernel.accessAllowed ? 'block' : 'none';\n",
              "\n",
              "        async function convertToInteractive(key) {\n",
              "          const element = document.querySelector('#df-2231daee-01ea-4b48-ad49-190f37d99fad');\n",
              "          const dataTable =\n",
              "            await google.colab.kernel.invokeFunction('convertToInteractive',\n",
              "                                                     [key], {});\n",
              "          if (!dataTable) return;\n",
              "\n",
              "          const docLinkHtml = 'Like what you see? Visit the ' +\n",
              "            '<a target=\"_blank\" href=https://colab.research.google.com/notebooks/data_table.ipynb>data table notebook</a>'\n",
              "            + ' to learn more about interactive tables.';\n",
              "          element.innerHTML = '';\n",
              "          dataTable['output_type'] = 'display_data';\n",
              "          await google.colab.output.renderOutput(dataTable, element);\n",
              "          const docLink = document.createElement('div');\n",
              "          docLink.innerHTML = docLinkHtml;\n",
              "          element.appendChild(docLink);\n",
              "        }\n",
              "      </script>\n",
              "    </div>\n",
              "  </div>\n",
              "  "
            ]
          },
          "metadata": {},
          "execution_count": 7
        }
      ]
    },
    {
      "cell_type": "code",
      "source": [
        "train_df.target.value_counts()"
      ],
      "metadata": {
        "colab": {
          "base_uri": "https://localhost:8080/"
        },
        "id": "0o1QzUDLNv-1",
        "outputId": "32849639-ac75-480f-ba64-b89469fe554b"
      },
      "execution_count": 8,
      "outputs": [
        {
          "output_type": "execute_result",
          "data": {
            "text/plain": [
              "0    4342\n",
              "1    3271\n",
              "Name: target, dtype: int64"
            ]
          },
          "metadata": {},
          "execution_count": 8
        }
      ]
    },
    {
      "cell_type": "code",
      "source": [
        "len(train_df)"
      ],
      "metadata": {
        "colab": {
          "base_uri": "https://localhost:8080/"
        },
        "id": "63NCnqzEN6Pl",
        "outputId": "9f72ed5a-4168-44bf-b4be-a5b4bc611241"
      },
      "execution_count": 9,
      "outputs": [
        {
          "output_type": "execute_result",
          "data": {
            "text/plain": [
              "7613"
            ]
          },
          "metadata": {},
          "execution_count": 9
        }
      ]
    },
    {
      "cell_type": "code",
      "source": [
        "import random\n",
        "random_index = random.randint(0, len(train_df)-5)\n",
        "for row in train_df_shuffled[[\"text\", \"target\"]][random_index:random_index+5].itertuples():\n",
        "  _, text, target = row\n",
        "  print(f\"Target: {target}\", \"(real_disaster)\" if target > 0 else \"(not_real_disaster\")\n",
        "  print(f\"Text: \\n{text}\\n\")\n",
        "  print(\"---\\n\")"
      ],
      "metadata": {
        "colab": {
          "base_uri": "https://localhost:8080/"
        },
        "id": "ee7X8lGfORoS",
        "outputId": "a8195684-fbde-4762-ecd5-88bb581a3467"
      },
      "execution_count": 10,
      "outputs": [
        {
          "output_type": "stream",
          "name": "stdout",
          "text": [
            "Target: 1 (real_disaster)\n",
            "Text: \n",
            "Cop pulls drunk driver to safety SECONDS before his car is hit by train. http://t.co/F1BAkpNyn6åÊ http://t.co/lZXwoAyE4x via @ViralSpell\n",
            "\n",
            "---\n",
            "\n",
            "Target: 1 (real_disaster)\n",
            "Text: \n",
            "8/6/2015@2:09 PM: TRAFFIC ACCIDENT NO INJURY at 2781 WILLIS FOREMAN RD http://t.co/VCkIT6EDEv\n",
            "\n",
            "---\n",
            "\n",
            "Target: 0 (not_real_disaster\n",
            "Text: \n",
            "#Eyewitness media is actively embraced by #UK audiences. Read the report by @emhub on the impact of #UGC in news: http://t.co/6mBPvwiTxf\n",
            "\n",
            "---\n",
            "\n",
            "Target: 0 (not_real_disaster\n",
            "Text: \n",
            "@newyorkcity for the #international emergency medicine conference w/ Lennox Hill hospital and #drjustinmazur\n",
            "\n",
            "---\n",
            "\n",
            "Target: 0 (not_real_disaster\n",
            "Text: \n",
            "@KamKasteIIano @BluntedJayt FUCKING SCREAMING !\n",
            "\n",
            "---\n",
            "\n"
          ]
        }
      ]
    },
    {
      "cell_type": "markdown",
      "source": [
        "### Splitting data into and validation sets"
      ],
      "metadata": {
        "id": "WzVdevVUPKKU"
      }
    },
    {
      "cell_type": "code",
      "source": [
        "from sklearn.model_selection import train_test_split"
      ],
      "metadata": {
        "id": "TBu4bpcyP5LZ"
      },
      "execution_count": 11,
      "outputs": []
    },
    {
      "cell_type": "code",
      "source": [
        "train_sentences, val_sentences, train_labels, val_labels = train_test_split(train_df_shuffled[\"text\"].to_numpy(),\n",
        "                                                                            train_df_shuffled[\"target\"].to_numpy(),\n",
        "                                                                            test_size=0.1,\n",
        "                                                                            random_state=42)"
      ],
      "metadata": {
        "id": "IL0JfJLcP8TC"
      },
      "execution_count": 12,
      "outputs": []
    },
    {
      "cell_type": "code",
      "source": [
        "len(train_sentences), len(train_labels), len(val_sentences)"
      ],
      "metadata": {
        "colab": {
          "base_uri": "https://localhost:8080/"
        },
        "id": "hF2kxlGOQbTf",
        "outputId": "c11d700f-8662-4299-b049-88568cb47215"
      },
      "execution_count": 13,
      "outputs": [
        {
          "output_type": "execute_result",
          "data": {
            "text/plain": [
              "(6851, 6851, 762)"
            ]
          },
          "metadata": {},
          "execution_count": 13
        }
      ]
    },
    {
      "cell_type": "code",
      "source": [
        "train_sentences[:10], train_labels[:10]"
      ],
      "metadata": {
        "colab": {
          "base_uri": "https://localhost:8080/"
        },
        "id": "qjidbvUdQdtA",
        "outputId": "8cea1baf-588b-4e57-ad51-b6fcdc64d126"
      },
      "execution_count": 14,
      "outputs": [
        {
          "output_type": "execute_result",
          "data": {
            "text/plain": [
              "(array(['@mogacola @zamtriossu i screamed after hitting tweet',\n",
              "        'Imagine getting flattened by Kurt Zouma',\n",
              "        '@Gurmeetramrahim #MSGDoing111WelfareWorks Green S welfare force ke appx 65000 members har time disaster victim ki help ke liye tyar hai....',\n",
              "        \"@shakjn @C7 @Magnums im shaking in fear he's gonna hack the planet\",\n",
              "        'Somehow find you and I collide http://t.co/Ee8RpOahPk',\n",
              "        '@EvaHanderek @MarleyKnysh great times until the bus driver held us hostage in the mall parking lot lmfao',\n",
              "        'destroy the free fandom honestly',\n",
              "        'Weapons stolen from National Guard Armory in New Albany still missing #Gunsense http://t.co/lKNU8902JE',\n",
              "        '@wfaaweather Pete when will the heat wave pass? Is it really going to be mid month? Frisco Boy Scouts have a canoe trip in Okla.',\n",
              "        'Patient-reported outcomes in long-term survivors of metastatic colorectal cancer - British Journal of Surgery http://t.co/5Yl4DC1Tqt'],\n",
              "       dtype=object), array([0, 0, 1, 0, 0, 1, 1, 0, 1, 1]))"
            ]
          },
          "metadata": {},
          "execution_count": 14
        }
      ]
    },
    {
      "cell_type": "code",
      "source": [
        "max = 0\n",
        "index = 0\n",
        "for i in range(len(train_sentences)):\n",
        "  if len(train_sentences[i].split()) > max:\n",
        "    max = len(train_sentences[i].split())\n",
        "    index = i\n",
        "max, index"
      ],
      "metadata": {
        "colab": {
          "base_uri": "https://localhost:8080/"
        },
        "id": "tNq2wAzzhyGi",
        "outputId": "dfc527dc-2734-4aeb-ace7-325e52af80c5"
      },
      "execution_count": 15,
      "outputs": [
        {
          "output_type": "execute_result",
          "data": {
            "text/plain": [
              "(31, 318)"
            ]
          },
          "metadata": {},
          "execution_count": 15
        }
      ]
    },
    {
      "cell_type": "code",
      "source": [
        "len(train_sentences[318].split())"
      ],
      "metadata": {
        "colab": {
          "base_uri": "https://localhost:8080/"
        },
        "id": "qh-FqAXrjJ99",
        "outputId": "76b50e3c-83a9-40c8-eb6e-6054fd0af684"
      },
      "execution_count": 16,
      "outputs": [
        {
          "output_type": "execute_result",
          "data": {
            "text/plain": [
              "31"
            ]
          },
          "metadata": {},
          "execution_count": 16
        }
      ]
    },
    {
      "cell_type": "markdown",
      "source": [
        "### Text Vectorization(tokenization)"
      ],
      "metadata": {
        "id": "5B1k3AKfQo9C"
      }
    },
    {
      "cell_type": "code",
      "source": [
        "import tensorflow as tf\n",
        "from tensorflow.keras.layers import TextVectorization"
      ],
      "metadata": {
        "id": "HVuQ2baaehha"
      },
      "execution_count": 17,
      "outputs": []
    },
    {
      "cell_type": "code",
      "source": [
        "text_vectorizer = TextVectorization(max_tokens=10000,\n",
        "                                    standardize=\"lower_and_strip_punctuation\",\n",
        "                                    split=\"whitespace\",\n",
        "                                    ngrams=None,\n",
        "                                    output_mode=\"int\",\n",
        "                                    output_sequence_length=None,\n",
        "                                    pad_to_max_tokens=True)"
      ],
      "metadata": {
        "id": "mN2m3iT0ejo3"
      },
      "execution_count": 18,
      "outputs": []
    },
    {
      "cell_type": "code",
      "source": [
        "round(sum([len(i.split()) for i in train_sentences])/len(train_sentences))"
      ],
      "metadata": {
        "colab": {
          "base_uri": "https://localhost:8080/"
        },
        "id": "WV-tAK9QhCGM",
        "outputId": "fb25163d-75a0-4236-f890-02e567988c79"
      },
      "execution_count": 19,
      "outputs": [
        {
          "output_type": "execute_result",
          "data": {
            "text/plain": [
              "15"
            ]
          },
          "metadata": {},
          "execution_count": 19
        }
      ]
    },
    {
      "cell_type": "code",
      "source": [
        "max_vocab_length = 10000\n",
        "max_length = 15\n",
        "\n",
        "text_vectorizer = TextVectorization(max_tokens=max_vocab_length,\n",
        "                                    output_mode=\"int\",\n",
        "                                    output_sequence_length=max_length)"
      ],
      "metadata": {
        "id": "hzRXVCsbjik2"
      },
      "execution_count": 20,
      "outputs": []
    },
    {
      "cell_type": "code",
      "source": [
        "# Fitting the text vectorizer\n",
        "\n",
        "text_vectorizer.adapt(train_sentences)"
      ],
      "metadata": {
        "id": "n7OwNqCBj5qR"
      },
      "execution_count": 21,
      "outputs": []
    },
    {
      "cell_type": "code",
      "source": [
        "sample_sent = \"I a fire in next building!\"\n",
        "text_vectorizer([sample_sent])"
      ],
      "metadata": {
        "colab": {
          "base_uri": "https://localhost:8080/"
        },
        "id": "c6kb0BDAkX5b",
        "outputId": "0d0fb2eb-7c89-418c-ebfa-4a36bd36bdaf"
      },
      "execution_count": 22,
      "outputs": [
        {
          "output_type": "execute_result",
          "data": {
            "text/plain": [
              "<tf.Tensor: shape=(1, 15), dtype=int64, numpy=\n",
              "array([[  8,   3,  42,   4, 274, 630,   0,   0,   0,   0,   0,   0,   0,\n",
              "          0,   0]])>"
            ]
          },
          "metadata": {},
          "execution_count": 22
        }
      ]
    },
    {
      "cell_type": "code",
      "source": [
        "# Choose a random sentence from the training dataset and tokenize it\n",
        "random_sentence = random.choice(train_sentences)\n",
        "print(f\"org text : \\n {random_sentence} \\\n",
        "\\n\\n Vectorized:\\n\")\n",
        "text_vectorizer([random_sentence])"
      ],
      "metadata": {
        "colab": {
          "base_uri": "https://localhost:8080/"
        },
        "id": "gWGrLkP_kkkN",
        "outputId": "46d7ab3a-a980-4186-9777-066dac100116"
      },
      "execution_count": 23,
      "outputs": [
        {
          "output_type": "stream",
          "name": "stdout",
          "text": [
            "org text : \n",
            " my dad said I look thinner than usual but really im over here like http://t.co/bnwyGx6luh \n",
            "\n",
            " Vectorized:\n",
            "\n"
          ]
        },
        {
          "output_type": "execute_result",
          "data": {
            "text/plain": [
              "<tf.Tensor: shape=(1, 15), dtype=int64, numpy=\n",
              "array([[  13, 1419,  205,    8,  173, 7613,   76, 2238,   30,  169,   32,\n",
              "          60,  140,   25,    1]])>"
            ]
          },
          "metadata": {},
          "execution_count": 23
        }
      ]
    },
    {
      "cell_type": "code",
      "source": [
        "words_in_vocabs = text_vectorizer.get_vocabulary()\n",
        "top_5_words = words_in_vocabs[:5]\n",
        "bottom_5_words = words_in_vocabs[-5:]\n",
        "print(f\"top 5: \\n {top_5_words}\")\n",
        "print(f\"bottom5: \\n {bottom_5_words}\")"
      ],
      "metadata": {
        "colab": {
          "base_uri": "https://localhost:8080/"
        },
        "id": "1qVwHqtdlOAJ",
        "outputId": "1f755575-ec95-4054-c5f2-79ca05bff8f9"
      },
      "execution_count": 24,
      "outputs": [
        {
          "output_type": "stream",
          "name": "stdout",
          "text": [
            "top 5: \n",
            " ['', '[UNK]', 'the', 'a', 'in']\n",
            "bottom5: \n",
            " ['pages', 'paeds', 'pads', 'padres', 'paddytomlinson1']\n"
          ]
        }
      ]
    },
    {
      "cell_type": "markdown",
      "source": [
        "### Creating and embedding using embedding layer"
      ],
      "metadata": {
        "id": "TEdDR5Jal9Bg"
      }
    },
    {
      "cell_type": "code",
      "source": [
        "from tensorflow.keras import layers\n",
        "\n",
        "embedding = layers.Embedding(input_dim=max_vocab_length,\n",
        "                             output_dim=128,\n",
        "                             input_length=max_length)\n",
        "embedding"
      ],
      "metadata": {
        "colab": {
          "base_uri": "https://localhost:8080/"
        },
        "id": "o6zvULnXmcti",
        "outputId": "f7011309-cc4c-4a64-9cad-50c5cbdf75a2"
      },
      "execution_count": 25,
      "outputs": [
        {
          "output_type": "execute_result",
          "data": {
            "text/plain": [
              "<keras.layers.embeddings.Embedding at 0x7f3df081f1d0>"
            ]
          },
          "metadata": {},
          "execution_count": 25
        }
      ]
    },
    {
      "cell_type": "code",
      "source": [
        "embedding.weights"
      ],
      "metadata": {
        "colab": {
          "base_uri": "https://localhost:8080/"
        },
        "id": "GAqQnwytnY-g",
        "outputId": "653a3efa-c8a2-42b4-e63a-32b66844fede"
      },
      "execution_count": 26,
      "outputs": [
        {
          "output_type": "execute_result",
          "data": {
            "text/plain": [
              "[]"
            ]
          },
          "metadata": {},
          "execution_count": 26
        }
      ]
    },
    {
      "cell_type": "code",
      "source": [
        "random_sentence = random.choice(train_sentences)\n",
        "print(f\"org text:\\n {random_sentence} \\n Embedded: \\n\")\n",
        "sample_embed = embedding(text_vectorizer([random_sentence]))\n",
        "sample_embed"
      ],
      "metadata": {
        "colab": {
          "base_uri": "https://localhost:8080/"
        },
        "id": "559NKjIknawj",
        "outputId": "ce30033e-d300-4328-9da9-345ee6c129a9"
      },
      "execution_count": 27,
      "outputs": [
        {
          "output_type": "stream",
          "name": "stdout",
          "text": [
            "org text:\n",
            " @Truly_Stings Yo Dm me \n",
            " Embedded: \n",
            "\n"
          ]
        },
        {
          "output_type": "execute_result",
          "data": {
            "text/plain": [
              "<tf.Tensor: shape=(1, 15, 128), dtype=float32, numpy=\n",
              "array([[[-0.02637935,  0.03076467, -0.00920336, ...,  0.02003722,\n",
              "          0.00780179,  0.03211835],\n",
              "        [-0.04255436, -0.01836196,  0.02294022, ...,  0.03188093,\n",
              "          0.03168019,  0.00072179],\n",
              "        [-0.03463379, -0.04038336,  0.03605736, ...,  0.04832533,\n",
              "         -0.03103378, -0.04695522],\n",
              "        ...,\n",
              "        [-0.01916022,  0.04979746, -0.04412174, ..., -0.00095732,\n",
              "         -0.03123637, -0.01043388],\n",
              "        [-0.01916022,  0.04979746, -0.04412174, ..., -0.00095732,\n",
              "         -0.03123637, -0.01043388],\n",
              "        [-0.01916022,  0.04979746, -0.04412174, ..., -0.00095732,\n",
              "         -0.03123637, -0.01043388]]], dtype=float32)>"
            ]
          },
          "metadata": {},
          "execution_count": 27
        }
      ]
    },
    {
      "cell_type": "code",
      "source": [
        "sample_embed[0][0], sample_embed[0][0].shape, random_sentence"
      ],
      "metadata": {
        "colab": {
          "base_uri": "https://localhost:8080/"
        },
        "id": "UpLKGjVin270",
        "outputId": "087be4c0-3b05-4f9e-9a1c-4cc06bcdf04a"
      },
      "execution_count": 28,
      "outputs": [
        {
          "output_type": "execute_result",
          "data": {
            "text/plain": [
              "(<tf.Tensor: shape=(128,), dtype=float32, numpy=\n",
              " array([-0.02637935,  0.03076467, -0.00920336,  0.01652369, -0.01008498,\n",
              "         0.03354618, -0.0076627 ,  0.03583753, -0.03020471,  0.01947698,\n",
              "        -0.03184444,  0.04416707, -0.04990773,  0.01507099,  0.0462938 ,\n",
              "         0.01306805, -0.02308927,  0.03624294,  0.03995099,  0.01229936,\n",
              "        -0.04459077,  0.0421536 ,  0.02875472,  0.01088806, -0.00825178,\n",
              "        -0.02115836, -0.02537465, -0.03496982,  0.03837098, -0.01173524,\n",
              "        -0.03887664, -0.01549481, -0.0409598 , -0.01033933, -0.0420014 ,\n",
              "         0.01739554, -0.00441007, -0.04058722,  0.00773937, -0.02184555,\n",
              "         0.00998273,  0.02994529, -0.02797326, -0.01984324,  0.03624148,\n",
              "         0.03553523, -0.0118397 , -0.02107129,  0.03493995,  0.00968755,\n",
              "         0.03347364,  0.0226307 ,  0.00716058, -0.04265112, -0.03628762,\n",
              "         0.0408986 , -0.00831884, -0.03784619,  0.03034535,  0.03949788,\n",
              "         0.0417452 ,  0.00045977, -0.04692046,  0.03927585, -0.0431823 ,\n",
              "         0.0286366 ,  0.0497761 , -0.04642807,  0.03264477, -0.03618931,\n",
              "         0.03813342, -0.02351378, -0.010728  , -0.04832088,  0.00952269,\n",
              "         0.02511504, -0.00204694,  0.02503251, -0.02789875, -0.01368447,\n",
              "        -0.01122682,  0.02060631,  0.0232578 ,  0.03823573,  0.01914755,\n",
              "         0.02286473,  0.01228424, -0.03825612,  0.02368351,  0.00525146,\n",
              "         0.00818211,  0.02963606,  0.00590155,  0.02181213,  0.03584068,\n",
              "         0.01898022, -0.01395447, -0.0382244 ,  0.03897642, -0.0166853 ,\n",
              "         0.04443056,  0.0414427 ,  0.00348572,  0.0190488 ,  0.00030993,\n",
              "         0.04585261, -0.04030164,  0.01505113,  0.04341916,  0.03555019,\n",
              "        -0.020448  , -0.027691  ,  0.01863441,  0.01920244, -0.00370288,\n",
              "        -0.04335257, -0.00304742,  0.03922561, -0.04273179,  0.03192015,\n",
              "         0.0058504 , -0.0091436 , -0.01029757, -0.0426832 , -0.02713311,\n",
              "         0.02003722,  0.00780179,  0.03211835], dtype=float32)>,\n",
              " TensorShape([128]),\n",
              " '@Truly_Stings Yo Dm me')"
            ]
          },
          "metadata": {},
          "execution_count": 28
        }
      ]
    },
    {
      "cell_type": "markdown",
      "source": [
        "### Modelling experiments and tutorial\n",
        "\n",
        "* Model 0 : Naive Bayes\n",
        "* Model 1 : Dense model\n",
        "* Model 2 : LSTM model\n",
        "* Model 3 : GRU model\n",
        "* Model 4 : Bidirectional-LTSM\n",
        "* Model 5 : 1D CNN\n",
        "* Model 6 : TF"
      ],
      "metadata": {
        "id": "fBgyYDqNoMrT"
      }
    },
    {
      "cell_type": "code",
      "source": [
        "from sklearn.feature_extraction.text import TfidfVectorizer\n",
        "from sklearn.naive_bayes import MultinomialNB\n",
        "from sklearn.pipeline import Pipeline"
      ],
      "metadata": {
        "id": "B3SBc4l0pk0L"
      },
      "execution_count": 29,
      "outputs": []
    },
    {
      "cell_type": "code",
      "source": [
        "model_0 = Pipeline([\n",
        "    (\"tfidf\", TfidfVectorizer()),\n",
        "    (\"clf\", MultinomialNB())\n",
        "])\n",
        "model_0.fit(train_sentences, train_labels)"
      ],
      "metadata": {
        "colab": {
          "base_uri": "https://localhost:8080/"
        },
        "id": "HT7C6Xh_yFFz",
        "outputId": "bd2d711b-963e-4cbe-fce5-ac9a0fbc2717"
      },
      "execution_count": 30,
      "outputs": [
        {
          "output_type": "execute_result",
          "data": {
            "text/plain": [
              "Pipeline(steps=[('tfidf', TfidfVectorizer()), ('clf', MultinomialNB())])"
            ]
          },
          "metadata": {},
          "execution_count": 30
        }
      ]
    },
    {
      "cell_type": "code",
      "source": [
        "baseline_score = model_0.score(val_sentences, val_labels)\n",
        "baseline_score * 100"
      ],
      "metadata": {
        "colab": {
          "base_uri": "https://localhost:8080/"
        },
        "id": "y-XQpGUtyhZF",
        "outputId": "5f46e38d-5ad2-49ed-c9b4-ea1c5b388587"
      },
      "execution_count": 31,
      "outputs": [
        {
          "output_type": "execute_result",
          "data": {
            "text/plain": [
              "79.26509186351706"
            ]
          },
          "metadata": {},
          "execution_count": 31
        }
      ]
    },
    {
      "cell_type": "code",
      "source": [
        "baseline_preds = model_0.predict(val_sentences)\n",
        "baseline_preds[:10]"
      ],
      "metadata": {
        "colab": {
          "base_uri": "https://localhost:8080/"
        },
        "id": "OO3TErHHyvXr",
        "outputId": "33784d49-e574-4244-9d83-c4d7b9f1b5de"
      },
      "execution_count": 32,
      "outputs": [
        {
          "output_type": "execute_result",
          "data": {
            "text/plain": [
              "array([1, 1, 1, 0, 0, 1, 1, 1, 1, 0])"
            ]
          },
          "metadata": {},
          "execution_count": 32
        }
      ]
    },
    {
      "cell_type": "code",
      "source": [
        "from sklearn.metrics import accuracy_score, precision_recall_fscore_support\n"
      ],
      "metadata": {
        "id": "VZp8ttdDy6sJ"
      },
      "execution_count": 33,
      "outputs": []
    },
    {
      "cell_type": "code",
      "source": [
        "def calculate_results(y_true, y_pred):\n",
        "  model_accuracy = accuracy_score(y_true, y_pred) * 100\n",
        "  model_precision, model_recall, model_f1, _ = precision_recall_fscore_support(y_true, y_pred, average=\"weighted\")\n",
        "  model_results = {\"accuracy\": model_accuracy,\n",
        "                   \"precision\": model_precision,\n",
        "                   \"recall\": model_recall,\n",
        "                   \"f1\": model_f1}\n",
        "  return model_results"
      ],
      "metadata": {
        "id": "tBcSCUTbz2Tv"
      },
      "execution_count": 34,
      "outputs": []
    },
    {
      "cell_type": "code",
      "source": [
        "baseline_results = calculate_results(val_labels, baseline_preds)"
      ],
      "metadata": {
        "id": "lqAQ2J2zz8CT"
      },
      "execution_count": 35,
      "outputs": []
    },
    {
      "cell_type": "markdown",
      "source": [
        "### Model 1 : Dense model"
      ],
      "metadata": {
        "id": "aL_EYtga1Yy1"
      }
    },
    {
      "cell_type": "code",
      "source": [
        "from helper_functions import create_tensorboard_callback\n",
        "LOG_DIR = \"model_logs\""
      ],
      "metadata": {
        "id": "Err0_lOc2fwH"
      },
      "execution_count": 36,
      "outputs": []
    },
    {
      "cell_type": "code",
      "source": [
        "from tensorflow.keras import layers\n",
        "inputs = layers.Input(shape=(1,), dtype=tf.string)\n",
        "x = text_vectorizer(inputs)\n",
        "x = embedding(x)\n",
        "x = layers.GlobalAveragePooling1D()(x)\n",
        "outputs = layers.Dense(1, activation=\"sigmoid\")(x)\n",
        "model_1 = tf.keras.Model(inputs, outputs, name=\"model_1_dense\")"
      ],
      "metadata": {
        "id": "PFS9UCmC2oyV"
      },
      "execution_count": 37,
      "outputs": []
    },
    {
      "cell_type": "code",
      "source": [
        "model_1.summary()"
      ],
      "metadata": {
        "colab": {
          "base_uri": "https://localhost:8080/"
        },
        "id": "ytPb4CL13LXJ",
        "outputId": "2118f370-1024-46a5-8a2d-38ce2b0df427"
      },
      "execution_count": 38,
      "outputs": [
        {
          "output_type": "stream",
          "name": "stdout",
          "text": [
            "Model: \"model_1_dense\"\n",
            "_________________________________________________________________\n",
            " Layer (type)                Output Shape              Param #   \n",
            "=================================================================\n",
            " input_1 (InputLayer)        [(None, 1)]               0         \n",
            "                                                                 \n",
            " text_vectorization_1 (TextV  (None, 15)               0         \n",
            " ectorization)                                                   \n",
            "                                                                 \n",
            " embedding (Embedding)       (None, 15, 128)           1280000   \n",
            "                                                                 \n",
            " global_average_pooling1d (G  (None, 128)              0         \n",
            " lobalAveragePooling1D)                                          \n",
            "                                                                 \n",
            " dense (Dense)               (None, 1)                 129       \n",
            "                                                                 \n",
            "=================================================================\n",
            "Total params: 1,280,129\n",
            "Trainable params: 1,280,129\n",
            "Non-trainable params: 0\n",
            "_________________________________________________________________\n"
          ]
        }
      ]
    },
    {
      "cell_type": "code",
      "source": [
        "model_1.compile(loss=\"binary_crossentropy\",\n",
        "                optimizer=tf.keras.optimizers.Adam(),\n",
        "                metrics=[\"accuracy\"])"
      ],
      "metadata": {
        "id": "Fd5noY5L3M04"
      },
      "execution_count": 39,
      "outputs": []
    },
    {
      "cell_type": "code",
      "source": [
        "model_1_history = model_1.fit(train_sentences,\n",
        "                              train_labels,\n",
        "                              epochs=5,\n",
        "                              validation_data=(val_sentences, val_labels),\n",
        "                              callbacks=[create_tensorboard_callback(dir_name=LOG_DIR,\n",
        "                                                                     experiment_name=\"model_1_dense\")])"
      ],
      "metadata": {
        "colab": {
          "base_uri": "https://localhost:8080/"
        },
        "id": "H72RjuvX3c04",
        "outputId": "8f25bd17-e7da-4b7f-8cc6-9241c02b45c3"
      },
      "execution_count": 40,
      "outputs": [
        {
          "output_type": "stream",
          "name": "stdout",
          "text": [
            "Saving TensorBoard log files to: model_logs/model_1_dense/20220905-213855\n",
            "Epoch 1/5\n",
            "215/215 [==============================] - 7s 24ms/step - loss: 0.6125 - accuracy: 0.6993 - val_loss: 0.5377 - val_accuracy: 0.7559\n",
            "Epoch 2/5\n",
            "215/215 [==============================] - 5s 22ms/step - loss: 0.4426 - accuracy: 0.8165 - val_loss: 0.4714 - val_accuracy: 0.7874\n",
            "Epoch 3/5\n",
            "215/215 [==============================] - 5s 22ms/step - loss: 0.3482 - accuracy: 0.8625 - val_loss: 0.4581 - val_accuracy: 0.7900\n",
            "Epoch 4/5\n",
            "215/215 [==============================] - 5s 24ms/step - loss: 0.2851 - accuracy: 0.8886 - val_loss: 0.4644 - val_accuracy: 0.7900\n",
            "Epoch 5/5\n",
            "215/215 [==============================] - 5s 21ms/step - loss: 0.2390 - accuracy: 0.9108 - val_loss: 0.4789 - val_accuracy: 0.7835\n"
          ]
        }
      ]
    },
    {
      "cell_type": "code",
      "source": [
        "model_1.evaluate(val_sentences, val_labels)"
      ],
      "metadata": {
        "colab": {
          "base_uri": "https://localhost:8080/"
        },
        "id": "-pt3KmWC3w01",
        "outputId": "01cd32d7-a360-4159-b097-b68ceb4b8c0b"
      },
      "execution_count": 41,
      "outputs": [
        {
          "output_type": "stream",
          "name": "stdout",
          "text": [
            "24/24 [==============================] - 0s 2ms/step - loss: 0.4789 - accuracy: 0.7835\n"
          ]
        },
        {
          "output_type": "execute_result",
          "data": {
            "text/plain": [
              "[0.4788845181465149, 0.7834645509719849]"
            ]
          },
          "metadata": {},
          "execution_count": 41
        }
      ]
    },
    {
      "cell_type": "code",
      "source": [
        "model_1_pred_probs = model_1.predict(val_sentences)"
      ],
      "metadata": {
        "id": "_Ju2LWa45sPq"
      },
      "execution_count": 42,
      "outputs": []
    },
    {
      "cell_type": "code",
      "source": [
        "model_1_pred_probs[:10]"
      ],
      "metadata": {
        "colab": {
          "base_uri": "https://localhost:8080/"
        },
        "id": "duGjlZUX50ss",
        "outputId": "f6b6d9d6-24a4-4e21-f631-3f3971c01d8a"
      },
      "execution_count": 43,
      "outputs": [
        {
          "output_type": "execute_result",
          "data": {
            "text/plain": [
              "array([[0.3698033 ],\n",
              "       [0.7723739 ],\n",
              "       [0.99734485],\n",
              "       [0.15383598],\n",
              "       [0.09724629],\n",
              "       [0.95130086],\n",
              "       [0.89650536],\n",
              "       [0.992517  ],\n",
              "       [0.9616878 ],\n",
              "       [0.33709744]], dtype=float32)"
            ]
          },
          "metadata": {},
          "execution_count": 43
        }
      ]
    },
    {
      "cell_type": "code",
      "source": [
        "model_1_preds = tf.squeeze(tf.round(model_1_pred_probs))"
      ],
      "metadata": {
        "id": "z-Z29b2u52RL"
      },
      "execution_count": 44,
      "outputs": []
    },
    {
      "cell_type": "code",
      "source": [
        "model_1_preds.shape"
      ],
      "metadata": {
        "colab": {
          "base_uri": "https://localhost:8080/"
        },
        "id": "QgTO0kbs6-De",
        "outputId": "20c0ed10-3b93-4ee5-d2b6-21b61034afaf"
      },
      "execution_count": 45,
      "outputs": [
        {
          "output_type": "execute_result",
          "data": {
            "text/plain": [
              "TensorShape([762])"
            ]
          },
          "metadata": {},
          "execution_count": 45
        }
      ]
    },
    {
      "cell_type": "code",
      "source": [
        "model_1_results = calculate_results(val_labels,\n",
        "                                    model_1_preds)\n",
        "model_1_results"
      ],
      "metadata": {
        "colab": {
          "base_uri": "https://localhost:8080/"
        },
        "id": "1AWa2vsp6_BI",
        "outputId": "301e3db4-abb6-4f31-e646-083a1e956d85"
      },
      "execution_count": 46,
      "outputs": [
        {
          "output_type": "execute_result",
          "data": {
            "text/plain": [
              "{'accuracy': 78.34645669291339,\n",
              " 'precision': 0.7872123378365872,\n",
              " 'recall': 0.7834645669291339,\n",
              " 'f1': 0.7807800582578167}"
            ]
          },
          "metadata": {},
          "execution_count": 46
        }
      ]
    },
    {
      "cell_type": "code",
      "source": [
        "baseline_results"
      ],
      "metadata": {
        "colab": {
          "base_uri": "https://localhost:8080/"
        },
        "id": "pG5_y5bo7KyM",
        "outputId": "62757566-479a-49ba-f215-5d1dd08d90ef"
      },
      "execution_count": 47,
      "outputs": [
        {
          "output_type": "execute_result",
          "data": {
            "text/plain": [
              "{'accuracy': 79.26509186351706,\n",
              " 'precision': 0.8111390004213173,\n",
              " 'recall': 0.7926509186351706,\n",
              " 'f1': 0.7862189758049549}"
            ]
          },
          "metadata": {},
          "execution_count": 47
        }
      ]
    },
    {
      "cell_type": "code",
      "source": [
        "words_in_vocabs"
      ],
      "metadata": {
        "colab": {
          "base_uri": "https://localhost:8080/"
        },
        "id": "_d0Hgepn7MfL",
        "outputId": "ded2a334-55ed-46cb-d378-8f35ea1b8012"
      },
      "execution_count": 48,
      "outputs": [
        {
          "output_type": "execute_result",
          "data": {
            "text/plain": [
              "['',\n",
              " '[UNK]',\n",
              " 'the',\n",
              " 'a',\n",
              " 'in',\n",
              " 'to',\n",
              " 'of',\n",
              " 'and',\n",
              " 'i',\n",
              " 'is',\n",
              " 'for',\n",
              " 'on',\n",
              " 'you',\n",
              " 'my',\n",
              " 'with',\n",
              " 'it',\n",
              " 'that',\n",
              " 'at',\n",
              " 'by',\n",
              " 'this',\n",
              " 'from',\n",
              " 'be',\n",
              " 'are',\n",
              " 'was',\n",
              " 'have',\n",
              " 'like',\n",
              " 'as',\n",
              " 'up',\n",
              " 'so',\n",
              " 'just',\n",
              " 'but',\n",
              " 'me',\n",
              " 'im',\n",
              " 'your',\n",
              " 'not',\n",
              " 'amp',\n",
              " 'out',\n",
              " 'its',\n",
              " 'will',\n",
              " 'an',\n",
              " 'no',\n",
              " 'has',\n",
              " 'fire',\n",
              " 'after',\n",
              " 'all',\n",
              " 'when',\n",
              " 'we',\n",
              " 'if',\n",
              " 'now',\n",
              " 'via',\n",
              " 'new',\n",
              " 'more',\n",
              " 'get',\n",
              " 'or',\n",
              " 'about',\n",
              " 'what',\n",
              " 'he',\n",
              " 'people',\n",
              " 'news',\n",
              " 'been',\n",
              " 'over',\n",
              " 'one',\n",
              " 'how',\n",
              " 'dont',\n",
              " 'they',\n",
              " 'who',\n",
              " 'into',\n",
              " 'were',\n",
              " 'do',\n",
              " 'us',\n",
              " '2',\n",
              " 'can',\n",
              " 'video',\n",
              " 'emergency',\n",
              " 'there',\n",
              " 'disaster',\n",
              " 'than',\n",
              " 'police',\n",
              " 'would',\n",
              " 'his',\n",
              " 'still',\n",
              " 'her',\n",
              " 'some',\n",
              " 'body',\n",
              " 'storm',\n",
              " 'crash',\n",
              " 'burning',\n",
              " 'suicide',\n",
              " 'back',\n",
              " 'man',\n",
              " 'california',\n",
              " 'why',\n",
              " 'time',\n",
              " 'them',\n",
              " 'had',\n",
              " 'buildings',\n",
              " 'rt',\n",
              " 'first',\n",
              " 'cant',\n",
              " 'see',\n",
              " 'got',\n",
              " 'day',\n",
              " 'off',\n",
              " 'our',\n",
              " 'going',\n",
              " 'nuclear',\n",
              " 'know',\n",
              " 'world',\n",
              " 'bomb',\n",
              " 'fires',\n",
              " 'love',\n",
              " 'killed',\n",
              " 'go',\n",
              " 'attack',\n",
              " 'youtube',\n",
              " 'dead',\n",
              " 'two',\n",
              " 'families',\n",
              " '3',\n",
              " 'train',\n",
              " 'full',\n",
              " 'being',\n",
              " 'war',\n",
              " 'many',\n",
              " 'today',\n",
              " 'think',\n",
              " 'only',\n",
              " 'car',\n",
              " 'accident',\n",
              " 'life',\n",
              " 'hiroshima',\n",
              " 'their',\n",
              " 'say',\n",
              " 'may',\n",
              " 'down',\n",
              " 'watch',\n",
              " 'good',\n",
              " 'could',\n",
              " 'want',\n",
              " 'last',\n",
              " 'here',\n",
              " 'years',\n",
              " 'u',\n",
              " 'then',\n",
              " 'make',\n",
              " 'did',\n",
              " 'wildfire',\n",
              " 'way',\n",
              " 'help',\n",
              " 'best',\n",
              " 'too',\n",
              " 'even',\n",
              " 'because',\n",
              " 'home',\n",
              " 'death',\n",
              " 'collapse',\n",
              " 'bombing',\n",
              " 'mass',\n",
              " 'him',\n",
              " 'black',\n",
              " 'am',\n",
              " 'those',\n",
              " 'need',\n",
              " 'fatal',\n",
              " 'army',\n",
              " 'another',\n",
              " 'work',\n",
              " 'take',\n",
              " 'should',\n",
              " 'really',\n",
              " 'please',\n",
              " 'mh370',\n",
              " 'youre',\n",
              " 'look',\n",
              " 'lol',\n",
              " 'hot',\n",
              " 'pm',\n",
              " 'legionnaires',\n",
              " '4',\n",
              " 'right',\n",
              " '5',\n",
              " 'let',\n",
              " 'city',\n",
              " 'year',\n",
              " 'wreck',\n",
              " 'school',\n",
              " 'northern',\n",
              " 'much',\n",
              " 'forest',\n",
              " 'bomber',\n",
              " 'water',\n",
              " 'she',\n",
              " 'never',\n",
              " 'read',\n",
              " 'latest',\n",
              " 'homes',\n",
              " 'great',\n",
              " 'every',\n",
              " '1',\n",
              " 'live',\n",
              " 'god',\n",
              " 'fear',\n",
              " 'any',\n",
              " '\\x89Û',\n",
              " 'under',\n",
              " 'said',\n",
              " 'old',\n",
              " 'floods',\n",
              " '2015',\n",
              " 'getting',\n",
              " 'atomic',\n",
              " 'while',\n",
              " 'top',\n",
              " 'obama',\n",
              " 'feel',\n",
              " 'thats',\n",
              " 'since',\n",
              " 'near',\n",
              " 'flames',\n",
              " 'ever',\n",
              " 'come',\n",
              " 'where',\n",
              " 'these',\n",
              " 'military',\n",
              " 'japan',\n",
              " 'found',\n",
              " 'content',\n",
              " 'ass',\n",
              " 'without',\n",
              " 'weather',\n",
              " 'most',\n",
              " 'flooding',\n",
              " 'flood',\n",
              " 'damage',\n",
              " 'which',\n",
              " 'shit',\n",
              " 's',\n",
              " 'hope',\n",
              " 'everyone',\n",
              " 'before',\n",
              " 'stop',\n",
              " 'plan',\n",
              " 'malaysia',\n",
              " 'injured',\n",
              " 'hit',\n",
              " 'evacuation',\n",
              " 'during',\n",
              " 'debris',\n",
              " 'cross',\n",
              " 'coming',\n",
              " 'wild',\n",
              " 'well',\n",
              " 'times',\n",
              " 'sinking',\n",
              " 'oil',\n",
              " 'fucking',\n",
              " 'check',\n",
              " 'cause',\n",
              " 'weapons',\n",
              " 'truck',\n",
              " 'food',\n",
              " 'bloody',\n",
              " 'always',\n",
              " 'weapon',\n",
              " 'theres',\n",
              " 'state',\n",
              " 'little',\n",
              " 'injuries',\n",
              " 'free',\n",
              " 'wounded',\n",
              " 'summer',\n",
              " 'smoke',\n",
              " 'severe',\n",
              " 'reddit',\n",
              " 'next',\n",
              " 'movie',\n",
              " 'ive',\n",
              " 'hes',\n",
              " 'fall',\n",
              " 'evacuate',\n",
              " 'confirmed',\n",
              " 'bad',\n",
              " 'again',\n",
              " 'thunderstorm',\n",
              " 'set',\n",
              " 'night',\n",
              " 'natural',\n",
              " 'looks',\n",
              " 'heat',\n",
              " 'face',\n",
              " 'earthquake',\n",
              " 'boy',\n",
              " 'whole',\n",
              " 'until',\n",
              " 'thunder',\n",
              " 'through',\n",
              " 'says',\n",
              " 'panic',\n",
              " 'outbreak',\n",
              " 'made',\n",
              " 'lightning',\n",
              " 'fatalities',\n",
              " 'family',\n",
              " 'explosion',\n",
              " 'end',\n",
              " 'destroy',\n",
              " 'derailment',\n",
              " 'air',\n",
              " 'w',\n",
              " 'terrorist',\n",
              " 'survive',\n",
              " 'screaming',\n",
              " 'saudi',\n",
              " 'refugees',\n",
              " 'rain',\n",
              " 'murder',\n",
              " 'loud',\n",
              " 'liked',\n",
              " 'house',\n",
              " 'gonna',\n",
              " 'failure',\n",
              " 'collided',\n",
              " 'bag',\n",
              " 'attacked',\n",
              " 'ambulance',\n",
              " '70',\n",
              " 'wind',\n",
              " 'services',\n",
              " 'save',\n",
              " 'report',\n",
              " 'migrants',\n",
              " 'head',\n",
              " 'explode',\n",
              " 'charged',\n",
              " 'change',\n",
              " 'big',\n",
              " 'also',\n",
              " 'wrecked',\n",
              " 'warning',\n",
              " 'update',\n",
              " 'run',\n",
              " 'rescuers',\n",
              " 'released',\n",
              " 'photo',\n",
              " 'massacre',\n",
              " 'injury',\n",
              " 'hurricane',\n",
              " 'high',\n",
              " 'hail',\n",
              " 'fuck',\n",
              " 'does',\n",
              " 'destroyed',\n",
              " 'bus',\n",
              " 'blood',\n",
              " '40',\n",
              " '\\x89ÛÒ',\n",
              " 'wreckage',\n",
              " 'violent',\n",
              " 'twister',\n",
              " 'trauma',\n",
              " 'tragedy',\n",
              " 'terrorism',\n",
              " 'survivors',\n",
              " 'survived',\n",
              " 'sinkhole',\n",
              " 'sandstorm',\n",
              " 'road',\n",
              " 'rioting',\n",
              " 'red',\n",
              " 'real',\n",
              " 'put',\n",
              " 'post',\n",
              " 'national',\n",
              " 'missing',\n",
              " 'landslide',\n",
              " 'keep',\n",
              " 'girl',\n",
              " 'drought',\n",
              " 'curfew',\n",
              " 'breaking',\n",
              " 'bags',\n",
              " 'white',\n",
              " 'twitter',\n",
              " 'tonight',\n",
              " 'structural',\n",
              " 'spill',\n",
              " 'service',\n",
              " 'screamed',\n",
              " 'rescued',\n",
              " 'rescue',\n",
              " 'phone',\n",
              " 'ok',\n",
              " 'oh',\n",
              " 'mosque',\n",
              " 'lives',\n",
              " 'horrible',\n",
              " 'harm',\n",
              " 'game',\n",
              " 'dust',\n",
              " 'destruction',\n",
              " 'deluge',\n",
              " 'deaths',\n",
              " 'crashed',\n",
              " 'cliff',\n",
              " 'catastrophe',\n",
              " 'boat',\n",
              " 'away',\n",
              " 'august',\n",
              " 'area',\n",
              " 'apocalypse',\n",
              " 'woman',\n",
              " 'whirlwind',\n",
              " 'traumatised',\n",
              " 'stock',\n",
              " 'saw',\n",
              " 'ruin',\n",
              " 'riot',\n",
              " 'quarantine',\n",
              " 'kills',\n",
              " 'island',\n",
              " 'investigators',\n",
              " 'ill',\n",
              " 'hostages',\n",
              " 'hazard',\n",
              " 'danger',\n",
              " 'call',\n",
              " '15',\n",
              " 'women',\n",
              " 'windstorm',\n",
              " 'things',\n",
              " 'suspect',\n",
              " 'show',\n",
              " 'reunion',\n",
              " 'quarantined',\n",
              " 'lava',\n",
              " 'heart',\n",
              " 'engulfed',\n",
              " 'detonate',\n",
              " 'crush',\n",
              " 'collapsed',\n",
              " 'came',\n",
              " 'better',\n",
              " 'battle',\n",
              " 'armageddon',\n",
              " 'airplane',\n",
              " 'against',\n",
              " 'affected',\n",
              " 'use',\n",
              " 'trapped',\n",
              " 'thank',\n",
              " 'sunk',\n",
              " 'story',\n",
              " 'send',\n",
              " 'part',\n",
              " 'other',\n",
              " 'must',\n",
              " 'mudslide',\n",
              " 'market',\n",
              " 'iran',\n",
              " 'famine',\n",
              " 'exploded',\n",
              " 'electrocuted',\n",
              " 'ebay',\n",
              " 'displaced',\n",
              " 'derailed',\n",
              " 'derail',\n",
              " 'burned',\n",
              " 'bombed',\n",
              " 'blown',\n",
              " 'baby',\n",
              " 'around',\n",
              " 'zone',\n",
              " 'wave',\n",
              " 'wanna',\n",
              " 'sure',\n",
              " 'someone',\n",
              " 'screams',\n",
              " 'razed',\n",
              " 'power',\n",
              " 'obliterated',\n",
              " 'long',\n",
              " 'land',\n",
              " 'hundreds',\n",
              " 'heard',\n",
              " 'group',\n",
              " 'flattened',\n",
              " 'drown',\n",
              " 'doing',\n",
              " 'care',\n",
              " 'bridge',\n",
              " 'bagging',\n",
              " '9',\n",
              " 'went',\n",
              " 'used',\n",
              " 'typhoon',\n",
              " 'trouble',\n",
              " 'tornado',\n",
              " 'thought',\n",
              " 'thing',\n",
              " 'river',\n",
              " 'responders',\n",
              " 'past',\n",
              " 'pandemonium',\n",
              " 'officials',\n",
              " 'meltdown',\n",
              " 'lot',\n",
              " 'least',\n",
              " 'inundated',\n",
              " 'id',\n",
              " 'hostage',\n",
              " 'hijacking',\n",
              " 'hazardous',\n",
              " 'goes',\n",
              " 'drowning',\n",
              " 'didnt',\n",
              " 'devastation',\n",
              " 'demolish',\n",
              " 'collide',\n",
              " 'casualties',\n",
              " 'calgary',\n",
              " 'bang',\n",
              " 'anniversary',\n",
              " 'yet',\n",
              " 'wounds',\n",
              " 'volcano',\n",
              " 'tsunami',\n",
              " 'sue',\n",
              " 'st',\n",
              " 'song',\n",
              " 'something',\n",
              " 'shoulder',\n",
              " 'security',\n",
              " 'prebreak',\n",
              " 'possible',\n",
              " 'pkk',\n",
              " 'panicking',\n",
              " 'obliteration',\n",
              " 'obliterate',\n",
              " 'murderer',\n",
              " 'minute',\n",
              " 'light',\n",
              " 'lets',\n",
              " 'kill',\n",
              " 'isis',\n",
              " 'india',\n",
              " 'hijacker',\n",
              " 'hellfire',\n",
              " 'government',\n",
              " 'few',\n",
              " 'evacuated',\n",
              " 'due',\n",
              " 'detonated',\n",
              " 'desolation',\n",
              " 'crushed',\n",
              " 'chemical',\n",
              " 'blew',\n",
              " 'blazing',\n",
              " 'blast',\n",
              " 'annihilated',\n",
              " 'airport',\n",
              " '6',\n",
              " 'week',\n",
              " 'upheaval',\n",
              " 'trying',\n",
              " 'three',\n",
              " 'thanks',\n",
              " 'sound',\n",
              " 'soon',\n",
              " 'sirens',\n",
              " 'rainstorm',\n",
              " 'plane',\n",
              " 'music',\n",
              " 'making',\n",
              " 'kids',\n",
              " 'issues',\n",
              " 'half',\n",
              " 'guys',\n",
              " 'fedex',\n",
              " 'done',\n",
              " 'died',\n",
              " 'detonation',\n",
              " 'days',\n",
              " 'cyclone',\n",
              " 'county',\n",
              " 'collision',\n",
              " 'caused',\n",
              " 'catastrophic',\n",
              " 'bleeding',\n",
              " 'beautiful',\n",
              " '8',\n",
              " 'words',\n",
              " 'very',\n",
              " 'traffic',\n",
              " 'south',\n",
              " 'remember',\n",
              " 'policy',\n",
              " 'place',\n",
              " 'nothing',\n",
              " 'north',\n",
              " 'mp',\n",
              " 'longer',\n",
              " 'left',\n",
              " 'israeli',\n",
              " 'hell',\n",
              " 'fun',\n",
              " 'drowned',\n",
              " 'demolished',\n",
              " 'cool',\n",
              " 'both',\n",
              " 'bioterror',\n",
              " 'believe',\n",
              " 'avalanche',\n",
              " 'arson',\n",
              " 'turkey',\n",
              " 'snowstorm',\n",
              " 'site',\n",
              " 'shot',\n",
              " 'shooting',\n",
              " 'pic',\n",
              " 'nowplaying',\n",
              " 'media',\n",
              " 'islam',\n",
              " 'inside',\n",
              " 'hijack',\n",
              " 'helicopter',\n",
              " 'fight',\n",
              " 'fatality',\n",
              " 'fan',\n",
              " 'electrocute',\n",
              " 'doesnt',\n",
              " 'building',\n",
              " 'brown',\n",
              " 'bc',\n",
              " 'actually',\n",
              " '16yr',\n",
              " 'yes',\n",
              " 'watching',\n",
              " 'wait',\n",
              " 'ur',\n",
              " 'tell',\n",
              " 'swallowed',\n",
              " 'seismic',\n",
              " 'second',\n",
              " 'rubble',\n",
              " 're\\x89Û',\n",
              " 'plans',\n",
              " 'men',\n",
              " 'memories',\n",
              " 'line',\n",
              " 'la',\n",
              " 'horror',\n",
              " 'health',\n",
              " 'having',\n",
              " 'find',\n",
              " 'eyewitness',\n",
              " 'deluged',\n",
              " 'children',\n",
              " 'bush',\n",
              " 'anything',\n",
              " 'already',\n",
              " 'almost',\n",
              " 'aircraft',\n",
              " 'yourself',\n",
              " 'yeah',\n",
              " 'whats',\n",
              " 'tomorrow',\n",
              " 'such',\n",
              " 'start',\n",
              " 'side',\n",
              " 'searching',\n",
              " 'saved',\n",
              " 'reactor',\n",
              " 'probably',\n",
              " 'play',\n",
              " 'person',\n",
              " 'peace',\n",
              " 'outside',\n",
              " 'officer',\n",
              " 'nearby',\n",
              " 'n',\n",
              " 'maybe',\n",
              " 'lost',\n",
              " 'literally',\n",
              " 'hours',\n",
              " 'hear',\n",
              " 'far',\n",
              " 'die',\n",
              " 'demolition',\n",
              " 'data',\n",
              " 'crews',\n",
              " 'conclusively',\n",
              " 'business',\n",
              " 'american',\n",
              " '20',\n",
              " '\\x89ÛÓ',\n",
              " 'west',\n",
              " 'waves',\n",
              " 'team',\n",
              " 'street',\n",
              " 'stay',\n",
              " 'soudelor',\n",
              " 'reuters',\n",
              " 'manslaughter',\n",
              " 'leather',\n",
              " 'job',\n",
              " 'history',\n",
              " 'hey',\n",
              " 'feeling',\n",
              " 'eyes',\n",
              " 'everything',\n",
              " 'declares',\n",
              " 'deal',\n",
              " 'casualty',\n",
              " 'bodies',\n",
              " 'amid',\n",
              " 'ablaze',\n",
              " '7',\n",
              " '50',\n",
              " '30',\n",
              " '12',\n",
              " 'youth',\n",
              " 'wont',\n",
              " 'wake',\n",
              " 'theyre',\n",
              " 'support',\n",
              " 'stretcher',\n",
              " 'same',\n",
              " 'rise',\n",
              " 'picking',\n",
              " 'photos',\n",
              " 'own',\n",
              " 'others',\n",
              " 'order',\n",
              " 'omg',\n",
              " 'okay',\n",
              " 'name',\n",
              " 'myself',\n",
              " 'money',\n",
              " 'makes',\n",
              " 'leave',\n",
              " 'lab',\n",
              " 'gt',\n",
              " 'gets',\n",
              " 'flag',\n",
              " 'desolate',\n",
              " 'crisis',\n",
              " 'center',\n",
              " 'book',\n",
              " 'blight',\n",
              " 'blaze',\n",
              " 'ago',\n",
              " 'abc',\n",
              " '11yearold',\n",
              " 'womens',\n",
              " 'typhoondevastated',\n",
              " 'tv',\n",
              " 'trench',\n",
              " 'trains',\n",
              " 'texas',\n",
              " 'space',\n",
              " 'siren',\n",
              " 'shes',\n",
              " 'self',\n",
              " 'saipan',\n",
              " 'reason',\n",
              " 'rd',\n",
              " 'pretty',\n",
              " 'pick',\n",
              " 'offensive',\n",
              " 'move',\n",
              " 'meek',\n",
              " 'major',\n",
              " 'm',\n",
              " 'low',\n",
              " 'lord',\n",
              " 'huge',\n",
              " 'hat',\n",
              " 'flash',\n",
              " 'feared',\n",
              " 'fast',\n",
              " 'effect',\n",
              " 'course',\n",
              " 'country',\n",
              " 'control',\n",
              " 'class',\n",
              " 'child',\n",
              " 'chance',\n",
              " 'caught',\n",
              " 'called',\n",
              " 'bioterrorism',\n",
              " 'bestnaijamade',\n",
              " 'become',\n",
              " 'bar',\n",
              " 'banned',\n",
              " 'ball',\n",
              " 'aug',\n",
              " 'annihilation',\n",
              " 'wrong',\n",
              " 'win',\n",
              " 'usa',\n",
              " 'united',\n",
              " 'town',\n",
              " 'totally',\n",
              " 'toddler',\n",
              " 'though',\n",
              " 'temple',\n",
              " 'taken',\n",
              " 'stand',\n",
              " 'spot',\n",
              " 'signs',\n",
              " 'ship',\n",
              " 'pakistan',\n",
              " 'online',\n",
              " 'level',\n",
              " 'ladies',\n",
              " 'jobs',\n",
              " 'isnt',\n",
              " 'happy',\n",
              " 'hailstorm',\n",
              " 'friends',\n",
              " 'disea',\n",
              " 'damn',\n",
              " 'couple',\n",
              " 'case',\n",
              " 'blue',\n",
              " 'bigger',\n",
              " 'america',\n",
              " 'across',\n",
              " '10',\n",
              " 'yours',\n",
              " 'village',\n",
              " 'try',\n",
              " 'transport',\n",
              " 'talk',\n",
              " 'seen',\n",
              " 'russian',\n",
              " 'radio',\n",
              " 'projected',\n",
              " 'once',\n",
              " 'official',\n",
              " 'needs',\n",
              " 'nearly',\n",
              " 'mount',\n",
              " 'might',\n",
              " 'mayhem',\n",
              " 'instead',\n",
              " 'hollywood',\n",
              " 'haha',\n",
              " 'guy',\n",
              " 'gun',\n",
              " 'green',\n",
              " 'front',\n",
              " 'finally',\n",
              " 'favorite',\n",
              " 'experts',\n",
              " 'entire',\n",
              " 'east',\n",
              " 'daily',\n",
              " 'crazy',\n",
              " 'computers',\n",
              " 'coaches',\n",
              " 'christian',\n",
              " 'china',\n",
              " 'blizzard',\n",
              " 'anyone',\n",
              " 'aint',\n",
              " 'action',\n",
              " '25',\n",
              " 'virgin',\n",
              " 'vehicle',\n",
              " 'truth',\n",
              " 'trust',\n",
              " 'takes',\n",
              " 't',\n",
              " 'star',\n",
              " 'sorry',\n",
              " 'running',\n",
              " 'refugio',\n",
              " 'reddits',\n",
              " 'poor',\n",
              " 'pain',\n",
              " 'mom',\n",
              " 'miners',\n",
              " 'marks',\n",
              " 'looking',\n",
              " 'knock',\n",
              " 'issued',\n",
              " 'insurance',\n",
              " 'ignition',\n",
              " 'houses',\n",
              " 'heavy',\n",
              " 'hate',\n",
              " 'hard',\n",
              " 'happened',\n",
              " 'global',\n",
              " 'giant',\n",
              " 'gbbo',\n",
              " 'flight',\n",
              " 'eye',\n",
              " 'emmerdale',\n",
              " 'driver',\n",
              " 'devastated',\n",
              " 'd',\n",
              " 'costlier',\n",
              " 'cnn',\n",
              " 'cars',\n",
              " 'camp',\n",
              " 'beach',\n",
              " 'arsonist',\n",
              " 'angry',\n",
              " 'alone',\n",
              " 'added',\n",
              " '05',\n",
              " 'york',\n",
              " 'wonder',\n",
              " 'uk',\n",
              " 'turn',\n",
              " 'taking',\n",
              " 'subreddits',\n",
              " 'sounds',\n",
              " 'scared',\n",
              " 'russia',\n",
              " 'rly',\n",
              " 'reports',\n",
              " 'ready',\n",
              " 'quiz',\n",
              " 'public',\n",
              " 'property',\n",
              " 'pradesh',\n",
              " 'ppl',\n",
              " 'playing',\n",
              " 'pay',\n",
              " 'parole',\n",
              " 'pamela',\n",
              " 'pakistani',\n",
              " 'outrage',\n",
              " 'niggas',\n",
              " 'nagasaki',\n",
              " 'myanmar',\n",
              " 'muslims',\n",
              " 'mop',\n",
              " 'madhya',\n",
              " 'mad',\n",
              " 'lmao',\n",
              " 'learn',\n",
              " 'large',\n",
              " 'govt',\n",
              " 'give',\n",
              " 'gems',\n",
              " 'gave',\n",
              " 'funtenna',\n",
              " 'fukushima',\n",
              " 'former',\n",
              " 'film',\n",
              " 'earth',\n",
              " 'drive',\n",
              " 'downtown',\n",
              " 'dog',\n",
              " 'comes',\n",
              " 'closed',\n",
              " 'cake',\n",
              " 'british',\n",
              " 'bring',\n",
              " 'bbc',\n",
              " 'b',\n",
              " 'appears',\n",
              " 'aftershock',\n",
              " '13',\n",
              " '11',\n",
              " 'young',\n",
              " 'wow',\n",
              " 'worst',\n",
              " 'waving',\n",
              " 'washington',\n",
              " 'wanted',\n",
              " 'vs',\n",
              " 'view',\n",
              " 'upon',\n",
              " 'tweet',\n",
              " 'tree',\n",
              " 'tote',\n",
              " 'thousands',\n",
              " 'thinking',\n",
              " 'theater',\n",
              " 'soul',\n",
              " 'sky',\n",
              " 'sign',\n",
              " 'shows',\n",
              " 'shift',\n",
              " 'seeing',\n",
              " 'sea',\n",
              " 'scene',\n",
              " 'safety',\n",
              " 'rules',\n",
              " 'rock',\n",
              " 'reported',\n",
              " 'r',\n",
              " 'pray',\n",
              " 'playlist',\n",
              " 'patience',\n",
              " ...]"
            ]
          },
          "metadata": {},
          "execution_count": 48
        }
      ]
    },
    {
      "cell_type": "code",
      "source": [
        "model_1.summary()"
      ],
      "metadata": {
        "colab": {
          "base_uri": "https://localhost:8080/"
        },
        "id": "-rYE2Y6B8w9R",
        "outputId": "27866619-fde2-46e0-ba13-f7b3e5ab7fc7"
      },
      "execution_count": 49,
      "outputs": [
        {
          "output_type": "stream",
          "name": "stdout",
          "text": [
            "Model: \"model_1_dense\"\n",
            "_________________________________________________________________\n",
            " Layer (type)                Output Shape              Param #   \n",
            "=================================================================\n",
            " input_1 (InputLayer)        [(None, 1)]               0         \n",
            "                                                                 \n",
            " text_vectorization_1 (TextV  (None, 15)               0         \n",
            " ectorization)                                                   \n",
            "                                                                 \n",
            " embedding (Embedding)       (None, 15, 128)           1280000   \n",
            "                                                                 \n",
            " global_average_pooling1d (G  (None, 128)              0         \n",
            " lobalAveragePooling1D)                                          \n",
            "                                                                 \n",
            " dense (Dense)               (None, 1)                 129       \n",
            "                                                                 \n",
            "=================================================================\n",
            "Total params: 1,280,129\n",
            "Trainable params: 1,280,129\n",
            "Non-trainable params: 0\n",
            "_________________________________________________________________\n"
          ]
        }
      ]
    },
    {
      "cell_type": "code",
      "source": [
        "embedd_weights = model_1.get_layer(name=\"embedding\")"
      ],
      "metadata": {
        "id": "9eIynktQ8Tv_"
      },
      "execution_count": 50,
      "outputs": []
    },
    {
      "cell_type": "code",
      "source": [
        "embed_weights = embedd_weights.get_weights()[0]\n"
      ],
      "metadata": {
        "id": "sRTBmtqx8vId"
      },
      "execution_count": 51,
      "outputs": []
    },
    {
      "cell_type": "code",
      "source": [
        "embed_weights.shape"
      ],
      "metadata": {
        "colab": {
          "base_uri": "https://localhost:8080/"
        },
        "id": "0tQe9s3B9OY-",
        "outputId": "dd2ced07-b07d-4ffe-decb-c9fe6840b62f"
      },
      "execution_count": 52,
      "outputs": [
        {
          "output_type": "execute_result",
          "data": {
            "text/plain": [
              "(10000, 128)"
            ]
          },
          "metadata": {},
          "execution_count": 52
        }
      ]
    },
    {
      "cell_type": "code",
      "source": [
        "import io\n",
        "out_v = io.open('vectors.tsv', 'w', encoding='utf-8')\n",
        "out_m = io.open('metadata.tsv', 'w', encoding='utf-8')\n",
        "\n",
        "for index, word in enumerate(words_in_vocabs):\n",
        "  if index == 0:\n",
        "    continue  # skip 0, it's padding.\n",
        "  vec = embed_weights[index]\n",
        "  out_v.write('\\t'.join([str(x) for x in vec]) + \"\\n\")\n",
        "  out_m.write(word + \"\\n\")\n",
        "out_v.close()\n",
        "out_m.close()"
      ],
      "metadata": {
        "id": "f0iroCvB9coE"
      },
      "execution_count": 53,
      "outputs": []
    },
    {
      "cell_type": "markdown",
      "source": [
        "\"LSTM = long short memory\""
      ],
      "metadata": {
        "id": "kr1OTG-1sfrA"
      }
    },
    {
      "cell_type": "markdown",
      "source": [
        "### Model 2 building"
      ],
      "metadata": {
        "id": "ViK29diCtX3u"
      }
    },
    {
      "cell_type": "code",
      "source": [
        "from tensorflow.keras import layers\n",
        "\n",
        "inputs = layers.Input(shape=(1,), dtype=tf.string)\n",
        "x = text_vectorizer(inputs)\n",
        "x = embedding(x)\n",
        "#print(x.shape)\n",
        "#x = layers.LSTM(units=64, return_sequences=True)(x)\n",
        "#print(x.shape)\n",
        "x = layers.LSTM(64)(x)\n",
        "# x = layers.GlobalAveragePooling1D()(x)\n",
        "#print(x.shape)\n",
        "#x = layers.Dense(64, activation=\"relu\")(x)\n",
        "# x = layers.GRU(64)(x)\n",
        "outputs = layers.Dense(1, activation=\"sigmoid\")(x)\n",
        "#print(outputs.shape)\n",
        "model_2 = tf.keras.Model(inputs, outputs, name=\"model_2_LSTM\")"
      ],
      "metadata": {
        "id": "l40ft1rKtTRN"
      },
      "execution_count": 54,
      "outputs": []
    },
    {
      "cell_type": "code",
      "source": [
        "model_2.summary()"
      ],
      "metadata": {
        "colab": {
          "base_uri": "https://localhost:8080/"
        },
        "id": "uN5ZMCb2uRCE",
        "outputId": "c13f2065-a71b-458d-8460-21112c45278d"
      },
      "execution_count": 55,
      "outputs": [
        {
          "output_type": "stream",
          "name": "stdout",
          "text": [
            "Model: \"model_2_LSTM\"\n",
            "_________________________________________________________________\n",
            " Layer (type)                Output Shape              Param #   \n",
            "=================================================================\n",
            " input_2 (InputLayer)        [(None, 1)]               0         \n",
            "                                                                 \n",
            " text_vectorization_1 (TextV  (None, 15)               0         \n",
            " ectorization)                                                   \n",
            "                                                                 \n",
            " embedding (Embedding)       (None, 15, 128)           1280000   \n",
            "                                                                 \n",
            " lstm (LSTM)                 (None, 64)                49408     \n",
            "                                                                 \n",
            " dense_1 (Dense)             (None, 1)                 65        \n",
            "                                                                 \n",
            "=================================================================\n",
            "Total params: 1,329,473\n",
            "Trainable params: 1,329,473\n",
            "Non-trainable params: 0\n",
            "_________________________________________________________________\n"
          ]
        }
      ]
    },
    {
      "cell_type": "code",
      "source": [
        "model_2.compile(loss=\"binary_crossentropy\",\n",
        "                optimizer=tf.keras.optimizers.Adam(),\n",
        "                metrics=[\"accuracy\"])"
      ],
      "metadata": {
        "id": "74GH5epnvzAi"
      },
      "execution_count": 56,
      "outputs": []
    },
    {
      "cell_type": "code",
      "source": [
        "model_2_history = model_2.fit(train_sentences,\n",
        "                              train_labels,\n",
        "                              epochs=5,\n",
        "                              validation_data=(val_sentences, val_labels),\n",
        "                              callbacks=[create_tensorboard_callback(dir_name=LOG_DIR,\n",
        "                                                                     experiment_name=\"model_2_LSTM\")])"
      ],
      "metadata": {
        "colab": {
          "base_uri": "https://localhost:8080/"
        },
        "id": "ehZu4SQtwevx",
        "outputId": "ddf26c8b-03f2-4c30-808e-d8514eb37893"
      },
      "execution_count": 57,
      "outputs": [
        {
          "output_type": "stream",
          "name": "stdout",
          "text": [
            "Saving TensorBoard log files to: model_logs/model_2_LSTM/20220905-213924\n",
            "Epoch 1/5\n",
            "215/215 [==============================] - 8s 27ms/step - loss: 0.2213 - accuracy: 0.9221 - val_loss: 0.5913 - val_accuracy: 0.7835\n",
            "Epoch 2/5\n",
            "215/215 [==============================] - 5s 25ms/step - loss: 0.1571 - accuracy: 0.9410 - val_loss: 0.6805 - val_accuracy: 0.7874\n",
            "Epoch 3/5\n",
            "215/215 [==============================] - 5s 25ms/step - loss: 0.1271 - accuracy: 0.9523 - val_loss: 0.7794 - val_accuracy: 0.7861\n",
            "Epoch 4/5\n",
            "215/215 [==============================] - 6s 26ms/step - loss: 0.1019 - accuracy: 0.9593 - val_loss: 0.7377 - val_accuracy: 0.7822\n",
            "Epoch 5/5\n",
            "215/215 [==============================] - 5s 25ms/step - loss: 0.0819 - accuracy: 0.9679 - val_loss: 0.9096 - val_accuracy: 0.7756\n"
          ]
        }
      ]
    },
    {
      "cell_type": "code",
      "source": [
        "model_2_pred_probs = model_2.predict(val_sentences)\n",
        "model_2_pred_probs[:10]"
      ],
      "metadata": {
        "colab": {
          "base_uri": "https://localhost:8080/"
        },
        "id": "VUX6wXwCwxy9",
        "outputId": "06cd5327-e872-4e75-cf73-675a0d1bc60f"
      },
      "execution_count": 58,
      "outputs": [
        {
          "output_type": "execute_result",
          "data": {
            "text/plain": [
              "array([[1.6006193e-01],\n",
              "       [8.2588732e-01],\n",
              "       [9.9963486e-01],\n",
              "       [7.8778863e-02],\n",
              "       [5.5959821e-04],\n",
              "       [9.9457783e-01],\n",
              "       [7.6504457e-01],\n",
              "       [9.9973035e-01],\n",
              "       [9.9944472e-01],\n",
              "       [3.6215478e-01]], dtype=float32)"
            ]
          },
          "metadata": {},
          "execution_count": 58
        }
      ]
    },
    {
      "cell_type": "code",
      "source": [
        "model_2_preds = tf.squeeze(tf.round(model_2_pred_probs))"
      ],
      "metadata": {
        "id": "egv9DOo9xEZd"
      },
      "execution_count": 59,
      "outputs": []
    },
    {
      "cell_type": "code",
      "source": [
        "model_2_results = calculate_results(val_labels,\n",
        "                                    model_2_preds)"
      ],
      "metadata": {
        "id": "kRXi5UC8xIf1"
      },
      "execution_count": 60,
      "outputs": []
    },
    {
      "cell_type": "code",
      "source": [
        "model_2_results"
      ],
      "metadata": {
        "colab": {
          "base_uri": "https://localhost:8080/"
        },
        "id": "MvZcpa_kxNxD",
        "outputId": "701c65e8-18e1-4e78-f87a-f2fb47d73d0b"
      },
      "execution_count": 61,
      "outputs": [
        {
          "output_type": "execute_result",
          "data": {
            "text/plain": [
              "{'accuracy': 77.55905511811024,\n",
              " 'precision': 0.7772070861555818,\n",
              " 'recall': 0.7755905511811023,\n",
              " 'f1': 0.7736182129212565}"
            ]
          },
          "metadata": {},
          "execution_count": 61
        }
      ]
    },
    {
      "cell_type": "code",
      "source": [
        "baseline_results"
      ],
      "metadata": {
        "colab": {
          "base_uri": "https://localhost:8080/"
        },
        "id": "2TdMYzuQxPEh",
        "outputId": "6a44ae1b-a331-4536-db6c-f35199c72225"
      },
      "execution_count": 62,
      "outputs": [
        {
          "output_type": "execute_result",
          "data": {
            "text/plain": [
              "{'accuracy': 79.26509186351706,\n",
              " 'precision': 0.8111390004213173,\n",
              " 'recall': 0.7926509186351706,\n",
              " 'f1': 0.7862189758049549}"
            ]
          },
          "metadata": {},
          "execution_count": 62
        }
      ]
    },
    {
      "cell_type": "markdown",
      "source": [
        "### Model 3 building\n",
        "Gonna use tf.keras.layers.GRU"
      ],
      "metadata": {
        "id": "Sds1P3VtxRCL"
      }
    },
    {
      "cell_type": "code",
      "source": [
        "inputs = layers.Input(shape=(1,), dtype=tf.string)\n",
        "x = text_vectorizer(inputs)\n",
        "x = embedding(x)\n",
        "x = layers.GRU(64)(x)\n",
        "# x = layers.LSTM(64)(x)\n",
        "# x = layers.GRU(64, return_sequences=True)(x)\n",
        "# x = layers.Dense(64, activation=\"relu\")(x)\n",
        "outputs = layers.Dense(1, activation=\"sigmoid\", name=\"mdoel_3_output_layer\")(x)\n",
        "model_3 = tf.keras.Model(inputs, outputs)"
      ],
      "metadata": {
        "id": "8bsRjtl3y-up"
      },
      "execution_count": 63,
      "outputs": []
    },
    {
      "cell_type": "code",
      "source": [
        "model_3.summary()"
      ],
      "metadata": {
        "colab": {
          "base_uri": "https://localhost:8080/"
        },
        "id": "Qgf0-cChzxdi",
        "outputId": "937cfd3e-b2ee-4824-cf28-7b3dce06860a"
      },
      "execution_count": 64,
      "outputs": [
        {
          "output_type": "stream",
          "name": "stdout",
          "text": [
            "Model: \"model\"\n",
            "_________________________________________________________________\n",
            " Layer (type)                Output Shape              Param #   \n",
            "=================================================================\n",
            " input_3 (InputLayer)        [(None, 1)]               0         \n",
            "                                                                 \n",
            " text_vectorization_1 (TextV  (None, 15)               0         \n",
            " ectorization)                                                   \n",
            "                                                                 \n",
            " embedding (Embedding)       (None, 15, 128)           1280000   \n",
            "                                                                 \n",
            " gru (GRU)                   (None, 64)                37248     \n",
            "                                                                 \n",
            " mdoel_3_output_layer (Dense  (None, 1)                65        \n",
            " )                                                               \n",
            "                                                                 \n",
            "=================================================================\n",
            "Total params: 1,317,313\n",
            "Trainable params: 1,317,313\n",
            "Non-trainable params: 0\n",
            "_________________________________________________________________\n"
          ]
        }
      ]
    },
    {
      "cell_type": "code",
      "source": [
        "model_3.compile(loss=\"binary_crossentropy\",\n",
        "                optimizer=tf.keras.optimizers.Adam(),\n",
        "                metrics=[\"accuracy\"])"
      ],
      "metadata": {
        "id": "6Jrn-StZzzJ1"
      },
      "execution_count": 65,
      "outputs": []
    },
    {
      "cell_type": "code",
      "source": [
        "model_3_history = model_3.fit(train_sentences,\n",
        "                              train_labels,\n",
        "                              validation_data=(val_sentences, val_labels),\n",
        "                              epochs=5,\n",
        "                              callbacks=[create_tensorboard_callback(LOG_DIR,\n",
        "                                                                     \"model_3_GRU\")])"
      ],
      "metadata": {
        "colab": {
          "base_uri": "https://localhost:8080/"
        },
        "id": "jzXzypXOz8yj",
        "outputId": "7c95df87-517f-4c32-905f-975e027f94b8"
      },
      "execution_count": 66,
      "outputs": [
        {
          "output_type": "stream",
          "name": "stdout",
          "text": [
            "Saving TensorBoard log files to: model_logs/model_3_GRU/20220905-214008\n",
            "Epoch 1/5\n",
            "215/215 [==============================] - 8s 27ms/step - loss: 0.1599 - accuracy: 0.9377 - val_loss: 0.7588 - val_accuracy: 0.7782\n",
            "Epoch 2/5\n",
            "215/215 [==============================] - 5s 25ms/step - loss: 0.0826 - accuracy: 0.9689 - val_loss: 0.7197 - val_accuracy: 0.7835\n",
            "Epoch 3/5\n",
            "215/215 [==============================] - 5s 25ms/step - loss: 0.0711 - accuracy: 0.9711 - val_loss: 0.9058 - val_accuracy: 0.7835\n",
            "Epoch 4/5\n",
            "215/215 [==============================] - 5s 24ms/step - loss: 0.0583 - accuracy: 0.9750 - val_loss: 1.1609 - val_accuracy: 0.7795\n",
            "Epoch 5/5\n",
            "215/215 [==============================] - 5s 24ms/step - loss: 0.0498 - accuracy: 0.9783 - val_loss: 1.2100 - val_accuracy: 0.7664\n"
          ]
        }
      ]
    },
    {
      "cell_type": "code",
      "source": [
        "model_3_pred_probs = model_3.predict(val_sentences)\n",
        "model_3_pred_probs"
      ],
      "metadata": {
        "id": "nQ1Qd8oP4w8y",
        "colab": {
          "base_uri": "https://localhost:8080/"
        },
        "outputId": "e6025801-fde3-4d38-da15-725780b4af08"
      },
      "execution_count": 67,
      "outputs": [
        {
          "output_type": "execute_result",
          "data": {
            "text/plain": [
              "array([[9.96530712e-01],\n",
              "       [7.25354731e-01],\n",
              "       [9.99792457e-01],\n",
              "       [1.48405015e-01],\n",
              "       [8.58483327e-05],\n",
              "       [9.99591827e-01],\n",
              "       [9.18027759e-01],\n",
              "       [9.99842525e-01],\n",
              "       [9.99796391e-01],\n",
              "       [8.32069099e-01],\n",
              "       [4.62681055e-04],\n",
              "       [9.84692574e-01],\n",
              "       [1.72197819e-04],\n",
              "       [2.55450010e-01],\n",
              "       [1.02780323e-04],\n",
              "       [1.20466948e-03],\n",
              "       [6.56843185e-04],\n",
              "       [2.81393528e-04],\n",
              "       [2.69589067e-01],\n",
              "       [9.99688327e-01],\n",
              "       [9.99965191e-01],\n",
              "       [6.34407988e-05],\n",
              "       [9.99647081e-01],\n",
              "       [3.97565961e-03],\n",
              "       [9.99865115e-01],\n",
              "       [9.99845862e-01],\n",
              "       [6.47097826e-04],\n",
              "       [1.31723285e-03],\n",
              "       [3.74996662e-03],\n",
              "       [2.42819995e-01],\n",
              "       [9.98262644e-01],\n",
              "       [5.76704741e-04],\n",
              "       [1.00296438e-02],\n",
              "       [2.93225050e-03],\n",
              "       [9.72097993e-01],\n",
              "       [1.48408026e-01],\n",
              "       [9.99504745e-01],\n",
              "       [3.99814337e-01],\n",
              "       [9.84314382e-02],\n",
              "       [9.99899805e-01],\n",
              "       [9.19041634e-01],\n",
              "       [7.91703496e-05],\n",
              "       [1.71163678e-02],\n",
              "       [2.39074230e-04],\n",
              "       [9.96877551e-01],\n",
              "       [9.99584794e-01],\n",
              "       [9.98681784e-01],\n",
              "       [9.76452947e-01],\n",
              "       [5.33100963e-03],\n",
              "       [9.35389936e-01],\n",
              "       [3.07373405e-02],\n",
              "       [5.11655509e-01],\n",
              "       [3.73341441e-02],\n",
              "       [4.25386429e-03],\n",
              "       [8.81496668e-01],\n",
              "       [1.90156996e-01],\n",
              "       [9.55820084e-04],\n",
              "       [9.99744534e-01],\n",
              "       [4.68462706e-04],\n",
              "       [9.74386930e-04],\n",
              "       [3.33645642e-02],\n",
              "       [9.99679923e-01],\n",
              "       [9.99630213e-01],\n",
              "       [9.95196044e-01],\n",
              "       [9.99842882e-01],\n",
              "       [9.99913216e-01],\n",
              "       [9.93373394e-01],\n",
              "       [8.66633058e-02],\n",
              "       [9.98681068e-01],\n",
              "       [7.49184072e-01],\n",
              "       [2.89815366e-02],\n",
              "       [3.09031606e-02],\n",
              "       [9.99878168e-01],\n",
              "       [3.56763601e-04],\n",
              "       [9.98278022e-01],\n",
              "       [9.99341369e-01],\n",
              "       [1.44843787e-01],\n",
              "       [9.98789430e-01],\n",
              "       [5.44490874e-01],\n",
              "       [2.09753811e-02],\n",
              "       [7.14272261e-04],\n",
              "       [1.68662786e-01],\n",
              "       [9.99821663e-01],\n",
              "       [4.30971384e-04],\n",
              "       [7.47978687e-04],\n",
              "       [5.73366880e-04],\n",
              "       [3.08156013e-04],\n",
              "       [2.70068645e-04],\n",
              "       [6.93864703e-01],\n",
              "       [9.99554515e-01],\n",
              "       [9.99571323e-01],\n",
              "       [1.79976225e-04],\n",
              "       [9.50117946e-01],\n",
              "       [1.80244446e-04],\n",
              "       [9.99852419e-01],\n",
              "       [7.12343872e-01],\n",
              "       [9.76021528e-01],\n",
              "       [9.99937296e-01],\n",
              "       [9.99460816e-01],\n",
              "       [9.89904284e-01],\n",
              "       [9.99938548e-01],\n",
              "       [4.00450826e-03],\n",
              "       [7.80318805e-05],\n",
              "       [9.96811271e-01],\n",
              "       [9.99556720e-01],\n",
              "       [4.05728281e-01],\n",
              "       [9.99735951e-01],\n",
              "       [9.94287252e-01],\n",
              "       [2.69770622e-04],\n",
              "       [9.99628901e-01],\n",
              "       [9.98150826e-01],\n",
              "       [2.02983618e-04],\n",
              "       [8.39645863e-01],\n",
              "       [4.82529402e-04],\n",
              "       [3.07619572e-04],\n",
              "       [5.21816015e-01],\n",
              "       [9.70158875e-01],\n",
              "       [9.99818861e-01],\n",
              "       [2.36524940e-02],\n",
              "       [2.24977732e-04],\n",
              "       [9.99885440e-01],\n",
              "       [9.15812052e-05],\n",
              "       [1.80512667e-04],\n",
              "       [9.84755754e-01],\n",
              "       [1.18237734e-01],\n",
              "       [4.36693430e-04],\n",
              "       [9.99685168e-01],\n",
              "       [1.35987997e-04],\n",
              "       [3.96460295e-04],\n",
              "       [9.97631192e-01],\n",
              "       [1.23637915e-03],\n",
              "       [9.99885440e-01],\n",
              "       [9.99906182e-01],\n",
              "       [9.99845862e-01],\n",
              "       [9.99617577e-01],\n",
              "       [1.87674165e-03],\n",
              "       [9.99678612e-01],\n",
              "       [5.04531562e-01],\n",
              "       [3.45665216e-03],\n",
              "       [1.50746107e-03],\n",
              "       [9.99892473e-01],\n",
              "       [9.93002951e-01],\n",
              "       [2.55450010e-01],\n",
              "       [9.98908877e-01],\n",
              "       [1.63732380e-01],\n",
              "       [2.34550238e-03],\n",
              "       [9.74486466e-05],\n",
              "       [9.95411829e-05],\n",
              "       [9.93461609e-01],\n",
              "       [9.99650717e-01],\n",
              "       [4.91559505e-04],\n",
              "       [8.24107826e-02],\n",
              "       [5.12495637e-03],\n",
              "       [1.61856413e-04],\n",
              "       [4.37140465e-04],\n",
              "       [9.99486566e-01],\n",
              "       [9.97986495e-01],\n",
              "       [4.68125939e-03],\n",
              "       [9.99426723e-01],\n",
              "       [1.18083917e-04],\n",
              "       [9.99763250e-01],\n",
              "       [1.04230642e-02],\n",
              "       [2.15480357e-01],\n",
              "       [9.96092916e-01],\n",
              "       [7.68919885e-02],\n",
              "       [1.20074394e-04],\n",
              "       [9.99777198e-01],\n",
              "       [4.81081009e-02],\n",
              "       [9.99826849e-01],\n",
              "       [9.85707581e-01],\n",
              "       [9.99854684e-01],\n",
              "       [9.99423027e-01],\n",
              "       [9.99698043e-01],\n",
              "       [2.26706266e-04],\n",
              "       [9.99939799e-01],\n",
              "       [7.74890184e-04],\n",
              "       [2.67338753e-03],\n",
              "       [1.83564723e-02],\n",
              "       [9.86554503e-01],\n",
              "       [9.99819279e-01],\n",
              "       [7.48991966e-04],\n",
              "       [9.85159636e-01],\n",
              "       [9.99847054e-01],\n",
              "       [9.99839067e-01],\n",
              "       [9.99865890e-01],\n",
              "       [9.46193933e-04],\n",
              "       [2.17020512e-04],\n",
              "       [9.99956429e-01],\n",
              "       [6.62700331e-05],\n",
              "       [7.89787300e-05],\n",
              "       [1.48509145e-02],\n",
              "       [9.99335527e-01],\n",
              "       [6.61283731e-04],\n",
              "       [2.37405300e-04],\n",
              "       [1.50471926e-04],\n",
              "       [2.26023793e-03],\n",
              "       [4.69982624e-04],\n",
              "       [2.26643682e-03],\n",
              "       [9.99663115e-01],\n",
              "       [2.23001838e-03],\n",
              "       [7.55634904e-03],\n",
              "       [9.99750376e-01],\n",
              "       [9.99815822e-01],\n",
              "       [4.97341156e-04],\n",
              "       [3.65823507e-04],\n",
              "       [9.99693155e-01],\n",
              "       [9.99681771e-01],\n",
              "       [9.99772787e-01],\n",
              "       [9.99482155e-01],\n",
              "       [9.94366169e-01],\n",
              "       [3.23164284e-01],\n",
              "       [9.99662161e-01],\n",
              "       [3.72231007e-04],\n",
              "       [2.34720111e-03],\n",
              "       [1.25914812e-04],\n",
              "       [7.90116537e-05],\n",
              "       [9.99810815e-01],\n",
              "       [9.97983098e-01],\n",
              "       [9.99217689e-01],\n",
              "       [2.73536414e-01],\n",
              "       [7.59271085e-02],\n",
              "       [1.18098259e-02],\n",
              "       [1.16109252e-02],\n",
              "       [6.14961684e-02],\n",
              "       [9.99623537e-01],\n",
              "       [1.41210109e-01],\n",
              "       [1.88914835e-02],\n",
              "       [9.99925911e-01],\n",
              "       [9.98796523e-01],\n",
              "       [9.59523380e-01],\n",
              "       [1.33365393e-04],\n",
              "       [1.17191851e-01],\n",
              "       [9.99215961e-01],\n",
              "       [5.28311133e-01],\n",
              "       [2.98327982e-01],\n",
              "       [4.14090753e-02],\n",
              "       [3.35698992e-01],\n",
              "       [9.61694777e-01],\n",
              "       [1.52882934e-03],\n",
              "       [4.53472137e-04],\n",
              "       [9.99340892e-01],\n",
              "       [9.96488690e-01],\n",
              "       [9.99705195e-01],\n",
              "       [9.99627769e-01],\n",
              "       [5.50031662e-04],\n",
              "       [2.18093395e-04],\n",
              "       [9.99554694e-01],\n",
              "       [2.20537186e-04],\n",
              "       [1.39087439e-03],\n",
              "       [9.60297346e-01],\n",
              "       [2.11566687e-04],\n",
              "       [9.99607146e-01],\n",
              "       [7.24842175e-05],\n",
              "       [6.70388341e-03],\n",
              "       [9.99529362e-01],\n",
              "       [1.52791888e-01],\n",
              "       [9.99709606e-01],\n",
              "       [9.99909759e-01],\n",
              "       [2.19707787e-02],\n",
              "       [1.94430351e-04],\n",
              "       [8.01861286e-04],\n",
              "       [4.60535288e-04],\n",
              "       [9.37516525e-05],\n",
              "       [9.99311268e-01],\n",
              "       [9.99844134e-01],\n",
              "       [9.77900684e-01],\n",
              "       [9.99350727e-01],\n",
              "       [2.31444836e-04],\n",
              "       [7.84069300e-04],\n",
              "       [1.75505877e-04],\n",
              "       [6.68495893e-04],\n",
              "       [3.66777182e-04],\n",
              "       [9.99600232e-01],\n",
              "       [9.23216343e-04],\n",
              "       [1.23590231e-04],\n",
              "       [9.99492288e-01],\n",
              "       [1.63912773e-04],\n",
              "       [2.45690346e-04],\n",
              "       [9.99532223e-01],\n",
              "       [2.89231539e-04],\n",
              "       [1.46416426e-02],\n",
              "       [2.17527151e-04],\n",
              "       [9.99590337e-01],\n",
              "       [9.44482207e-01],\n",
              "       [6.17853105e-01],\n",
              "       [6.48421049e-03],\n",
              "       [9.99593914e-01],\n",
              "       [1.54310465e-03],\n",
              "       [9.96771157e-01],\n",
              "       [1.55478716e-02],\n",
              "       [9.97096181e-01],\n",
              "       [9.87207353e-01],\n",
              "       [9.97983813e-01],\n",
              "       [9.90955830e-01],\n",
              "       [3.31914723e-02],\n",
              "       [4.24297363e-01],\n",
              "       [2.37707794e-02],\n",
              "       [2.90408731e-03],\n",
              "       [5.12182713e-04],\n",
              "       [3.58158439e-01],\n",
              "       [5.67395255e-05],\n",
              "       [1.53204799e-03],\n",
              "       [6.69766068e-01],\n",
              "       [9.99828517e-01],\n",
              "       [8.88109207e-04],\n",
              "       [4.38549817e-02],\n",
              "       [4.76804674e-02],\n",
              "       [2.83042938e-01],\n",
              "       [9.84369636e-01],\n",
              "       [2.34484673e-04],\n",
              "       [1.25586987e-04],\n",
              "       [9.98811424e-01],\n",
              "       [3.66804421e-01],\n",
              "       [4.57291871e-01],\n",
              "       [9.99931455e-01],\n",
              "       [5.47945499e-04],\n",
              "       [9.71729279e-01],\n",
              "       [2.80731499e-01],\n",
              "       [6.24227524e-03],\n",
              "       [1.08576775e-01],\n",
              "       [2.29448080e-04],\n",
              "       [1.46420896e-02],\n",
              "       [9.99478757e-01],\n",
              "       [8.92740667e-01],\n",
              "       [9.99666929e-01],\n",
              "       [2.71753669e-01],\n",
              "       [1.72644854e-04],\n",
              "       [9.99726415e-01],\n",
              "       [3.02791595e-04],\n",
              "       [9.99815464e-01],\n",
              "       [3.54999304e-03],\n",
              "       [5.54144382e-04],\n",
              "       [9.99707162e-01],\n",
              "       [4.53799963e-04],\n",
              "       [2.10821629e-04],\n",
              "       [9.99670744e-01],\n",
              "       [3.41475010e-04],\n",
              "       [1.72212720e-03],\n",
              "       [9.89464581e-01],\n",
              "       [9.99104023e-01],\n",
              "       [9.98328542e-05],\n",
              "       [2.11817026e-03],\n",
              "       [9.99656200e-01],\n",
              "       [9.99899626e-01],\n",
              "       [9.99572098e-01],\n",
              "       [1.50358558e-01],\n",
              "       [9.98313189e-01],\n",
              "       [9.98254538e-01],\n",
              "       [6.16312027e-03],\n",
              "       [4.03225422e-04],\n",
              "       [7.50688910e-02],\n",
              "       [1.18250251e-02],\n",
              "       [1.45792961e-04],\n",
              "       [1.83194280e-02],\n",
              "       [9.92518902e-01],\n",
              "       [1.20423480e-04],\n",
              "       [9.99461651e-01],\n",
              "       [9.99845862e-01],\n",
              "       [9.99856830e-01],\n",
              "       [4.52309847e-04],\n",
              "       [3.36862028e-01],\n",
              "       [4.48799133e-02],\n",
              "       [6.20372593e-02],\n",
              "       [9.92669880e-01],\n",
              "       [5.01267374e-01],\n",
              "       [1.92403793e-04],\n",
              "       [2.15947628e-04],\n",
              "       [4.77194786e-04],\n",
              "       [9.99548972e-01],\n",
              "       [4.96357679e-04],\n",
              "       [4.09075618e-03],\n",
              "       [3.41325998e-04],\n",
              "       [5.71668148e-04],\n",
              "       [1.97423577e-01],\n",
              "       [9.51935410e-01],\n",
              "       [1.41577005e-01],\n",
              "       [2.75224447e-04],\n",
              "       [1.82366371e-03],\n",
              "       [1.09300017e-03],\n",
              "       [9.99861240e-01],\n",
              "       [9.99400735e-01],\n",
              "       [8.77278924e-01],\n",
              "       [9.79181767e-01],\n",
              "       [1.23306512e-04],\n",
              "       [9.97461677e-01],\n",
              "       [9.99784708e-01],\n",
              "       [8.06001425e-01],\n",
              "       [9.39319134e-02],\n",
              "       [9.99164939e-01],\n",
              "       [2.31094658e-02],\n",
              "       [9.99822736e-01],\n",
              "       [9.90573525e-01],\n",
              "       [2.96843052e-03],\n",
              "       [5.69326401e-01],\n",
              "       [1.72141492e-02],\n",
              "       [9.99687195e-01],\n",
              "       [7.23891556e-02],\n",
              "       [2.01851130e-04],\n",
              "       [6.89506531e-04],\n",
              "       [5.01267374e-01],\n",
              "       [9.99965310e-01],\n",
              "       [1.14596769e-04],\n",
              "       [2.55740583e-01],\n",
              "       [9.99918699e-01],\n",
              "       [4.64327895e-05],\n",
              "       [9.99885440e-01],\n",
              "       [4.77820635e-04],\n",
              "       [1.59013271e-03],\n",
              "       [2.10285187e-04],\n",
              "       [9.99618351e-01],\n",
              "       [9.99771714e-01],\n",
              "       [3.48815322e-03],\n",
              "       [4.05639410e-04],\n",
              "       [9.99766469e-01],\n",
              "       [9.99769330e-01],\n",
              "       [6.84904814e-01],\n",
              "       [1.40905380e-04],\n",
              "       [5.20884991e-03],\n",
              "       [9.02611136e-01],\n",
              "       [5.51074743e-04],\n",
              "       [9.99863029e-01],\n",
              "       [9.99370515e-01],\n",
              "       [9.99861479e-01],\n",
              "       [9.99796271e-01],\n",
              "       [7.61619210e-03],\n",
              "       [9.25785184e-01],\n",
              "       [1.33606791e-03],\n",
              "       [9.99525189e-01],\n",
              "       [8.52725744e-01],\n",
              "       [9.96722460e-01],\n",
              "       [1.12992525e-03],\n",
              "       [9.92133975e-01],\n",
              "       [6.38157129e-04],\n",
              "       [1.27017498e-04],\n",
              "       [6.95422292e-03],\n",
              "       [1.61752105e-03],\n",
              "       [9.95475531e-01],\n",
              "       [3.55800986e-03],\n",
              "       [9.99905229e-01],\n",
              "       [9.99878645e-01],\n",
              "       [7.43982792e-02],\n",
              "       [7.25354731e-01],\n",
              "       [2.21130252e-03],\n",
              "       [7.66843557e-04],\n",
              "       [4.46691513e-01],\n",
              "       [9.99824047e-01],\n",
              "       [2.11957097e-03],\n",
              "       [5.58509409e-01],\n",
              "       [1.20032833e-04],\n",
              "       [4.32819724e-02],\n",
              "       [4.38942734e-05],\n",
              "       [9.99850869e-01],\n",
              "       [9.98336315e-01],\n",
              "       [9.99760926e-01],\n",
              "       [9.96213257e-01],\n",
              "       [9.91071701e-01],\n",
              "       [3.98892462e-02],\n",
              "       [1.22511454e-04],\n",
              "       [9.97125030e-01],\n",
              "       [9.99523222e-01],\n",
              "       [9.99724627e-01],\n",
              "       [6.80863857e-04],\n",
              "       [1.11941397e-02],\n",
              "       [2.72929668e-04],\n",
              "       [9.99764085e-01],\n",
              "       [9.99711514e-01],\n",
              "       [2.92435288e-03],\n",
              "       [9.67682898e-01],\n",
              "       [9.99929905e-01],\n",
              "       [7.33754039e-03],\n",
              "       [2.84790993e-03],\n",
              "       [9.89765346e-01],\n",
              "       [5.04374504e-04],\n",
              "       [4.11629677e-04],\n",
              "       [9.95150328e-01],\n",
              "       [3.69387686e-01],\n",
              "       [9.90200400e-01],\n",
              "       [9.99934375e-01],\n",
              "       [3.78668308e-04],\n",
              "       [2.33322382e-03],\n",
              "       [6.77283242e-05],\n",
              "       [1.00861987e-04],\n",
              "       [7.56025314e-04],\n",
              "       [9.99774575e-01],\n",
              "       [1.48057938e-04],\n",
              "       [8.69211078e-01],\n",
              "       [9.92647767e-01],\n",
              "       [9.68975723e-02],\n",
              "       [1.74827486e-01],\n",
              "       [8.44793467e-05],\n",
              "       [7.55369663e-04],\n",
              "       [9.99753356e-01],\n",
              "       [9.99595761e-01],\n",
              "       [1.95590854e-02],\n",
              "       [2.73942947e-04],\n",
              "       [2.39351392e-03],\n",
              "       [1.48206949e-04],\n",
              "       [9.99422431e-01],\n",
              "       [4.57853079e-04],\n",
              "       [9.99134898e-01],\n",
              "       [9.99179959e-01],\n",
              "       [8.84250760e-01],\n",
              "       [9.78460252e-01],\n",
              "       [1.58675849e-01],\n",
              "       [1.81268781e-01],\n",
              "       [7.19159842e-04],\n",
              "       [2.30148703e-01],\n",
              "       [8.63170922e-01],\n",
              "       [9.24808085e-01],\n",
              "       [1.81766748e-01],\n",
              "       [7.59989023e-04],\n",
              "       [8.32108708e-05],\n",
              "       [3.06636095e-04],\n",
              "       [4.07578349e-02],\n",
              "       [6.02246106e-01],\n",
              "       [1.30996108e-01],\n",
              "       [9.99873400e-01],\n",
              "       [9.99206245e-01],\n",
              "       [7.12343931e-01],\n",
              "       [9.99549150e-01],\n",
              "       [7.30295181e-02],\n",
              "       [1.09145045e-03],\n",
              "       [9.99502182e-01],\n",
              "       [2.95013905e-01],\n",
              "       [9.02920961e-04],\n",
              "       [2.03488320e-01],\n",
              "       [9.89690185e-01],\n",
              "       [6.22040170e-05],\n",
              "       [9.99339938e-01],\n",
              "       [9.96958852e-01],\n",
              "       [9.99273479e-01],\n",
              "       [9.99628127e-01],\n",
              "       [3.62622738e-03],\n",
              "       [9.36164260e-02],\n",
              "       [9.81205463e-01],\n",
              "       [1.28149986e-04],\n",
              "       [5.18863201e-02],\n",
              "       [5.19207597e-01],\n",
              "       [9.97982442e-01],\n",
              "       [9.81288671e-01],\n",
              "       [6.92516565e-04],\n",
              "       [3.06355953e-03],\n",
              "       [7.87298322e-01],\n",
              "       [1.11213326e-03],\n",
              "       [1.77812576e-03],\n",
              "       [8.81674132e-05],\n",
              "       [4.58395928e-01],\n",
              "       [9.99883711e-01],\n",
              "       [9.99220490e-01],\n",
              "       [1.42726600e-02],\n",
              "       [9.99865890e-01],\n",
              "       [9.99818087e-01],\n",
              "       [8.67755080e-05],\n",
              "       [9.99674439e-01],\n",
              "       [1.06805563e-02],\n",
              "       [9.97664690e-01],\n",
              "       [2.60871202e-01],\n",
              "       [1.15382671e-03],\n",
              "       [1.65253878e-04],\n",
              "       [1.22317069e-04],\n",
              "       [1.54608488e-03],\n",
              "       [1.44362450e-04],\n",
              "       [9.99701202e-01],\n",
              "       [5.88798523e-03],\n",
              "       [9.99713302e-01],\n",
              "       [1.23524666e-03],\n",
              "       [9.95396733e-01],\n",
              "       [9.99367535e-01],\n",
              "       [2.77951360e-03],\n",
              "       [1.07523799e-03],\n",
              "       [9.99921322e-01],\n",
              "       [9.11235809e-04],\n",
              "       [9.99758601e-01],\n",
              "       [3.13321829e-01],\n",
              "       [4.24104333e-02],\n",
              "       [9.98352528e-01],\n",
              "       [4.41730022e-04],\n",
              "       [2.15992928e-01],\n",
              "       [9.99818087e-01],\n",
              "       [1.09824003e-04],\n",
              "       [8.46415758e-04],\n",
              "       [4.05955225e-01],\n",
              "       [9.99772549e-01],\n",
              "       [2.35871971e-01],\n",
              "       [2.34097242e-04],\n",
              "       [9.99330282e-01],\n",
              "       [9.25190106e-05],\n",
              "       [2.36421824e-04],\n",
              "       [3.53306532e-04],\n",
              "       [8.87257934e-01],\n",
              "       [1.31589174e-03],\n",
              "       [3.67768705e-01],\n",
              "       [9.97103691e-01],\n",
              "       [2.61621773e-02],\n",
              "       [2.52962112e-04],\n",
              "       [5.68649173e-03],\n",
              "       [1.52587891e-04],\n",
              "       [9.99347091e-01],\n",
              "       [9.94504571e-01],\n",
              "       [3.34159493e-01],\n",
              "       [1.14261311e-04],\n",
              "       [1.42419338e-02],\n",
              "       [9.99899149e-01],\n",
              "       [9.73279715e-01],\n",
              "       [9.99906898e-01],\n",
              "       [5.95152378e-04],\n",
              "       [9.99522328e-01],\n",
              "       [2.47418880e-04],\n",
              "       [9.97484744e-01],\n",
              "       [9.02267814e-01],\n",
              "       [1.11565496e-04],\n",
              "       [9.99838352e-01],\n",
              "       [2.90277600e-03],\n",
              "       [9.90306497e-01],\n",
              "       [9.99945164e-01],\n",
              "       [3.66602540e-02],\n",
              "       [2.11656094e-04],\n",
              "       [9.97150064e-01],\n",
              "       [1.66207552e-04],\n",
              "       [9.72916782e-01],\n",
              "       [9.99693155e-01],\n",
              "       [3.46616924e-01],\n",
              "       [9.99488294e-01],\n",
              "       [2.45647907e-01],\n",
              "       [9.99647439e-01],\n",
              "       [9.86510515e-01],\n",
              "       [3.96688581e-02],\n",
              "       [8.65308975e-05],\n",
              "       [9.98489857e-01],\n",
              "       [2.15202570e-04],\n",
              "       [2.29494482e-01],\n",
              "       [9.99841213e-01],\n",
              "       [9.97205377e-01],\n",
              "       [9.99878109e-01],\n",
              "       [9.99494553e-01],\n",
              "       [2.58251250e-01],\n",
              "       [9.95321631e-01],\n",
              "       [3.10659409e-04],\n",
              "       [3.55906069e-01],\n",
              "       [9.97975588e-01],\n",
              "       [9.99072909e-01],\n",
              "       [1.87277794e-04],\n",
              "       [9.99086797e-01],\n",
              "       [9.99795794e-01],\n",
              "       [1.25471950e-02],\n",
              "       [9.01132822e-03],\n",
              "       [1.81766748e-01],\n",
              "       [5.21597266e-03],\n",
              "       [6.55526400e-01],\n",
              "       [9.99447227e-01],\n",
              "       [9.99770880e-01],\n",
              "       [2.86221504e-04],\n",
              "       [1.24603510e-04],\n",
              "       [1.81853771e-04],\n",
              "       [1.17860317e-01],\n",
              "       [1.30488217e-01],\n",
              "       [8.00520480e-02],\n",
              "       [9.93885219e-01],\n",
              "       [1.59054995e-04],\n",
              "       [1.21425927e-01],\n",
              "       [5.24324298e-01],\n",
              "       [3.30911338e-01],\n",
              "       [9.99575377e-01],\n",
              "       [4.47601080e-04],\n",
              "       [9.99491811e-01],\n",
              "       [1.05803013e-02],\n",
              "       [7.69802282e-05],\n",
              "       [2.46763229e-04],\n",
              "       [9.99848366e-01],\n",
              "       [9.68912482e-01],\n",
              "       [1.33424997e-04],\n",
              "       [4.06615734e-01],\n",
              "       [8.65268111e-01],\n",
              "       [1.52736902e-04],\n",
              "       [9.99600887e-01],\n",
              "       [1.16613507e-03],\n",
              "       [9.98473763e-01],\n",
              "       [3.82782429e-01],\n",
              "       [2.90933251e-03],\n",
              "       [6.65306747e-01],\n",
              "       [1.37467206e-01],\n",
              "       [1.66719556e-02],\n",
              "       [9.99947309e-01],\n",
              "       [5.03108859e-01],\n",
              "       [9.75899994e-01],\n",
              "       [9.99914408e-01],\n",
              "       [4.94470507e-01],\n",
              "       [4.47334290e-01],\n",
              "       [6.22040170e-05],\n",
              "       [2.33633578e-01],\n",
              "       [9.99600053e-01],\n",
              "       [9.99885440e-01],\n",
              "       [9.67914581e-01],\n",
              "       [6.23362064e-02],\n",
              "       [9.99777734e-01],\n",
              "       [3.94801617e-01],\n",
              "       [9.99681771e-01],\n",
              "       [3.94801617e-01],\n",
              "       [9.99843240e-01],\n",
              "       [2.11179256e-04],\n",
              "       [9.15509462e-03],\n",
              "       [9.88570100e-05],\n",
              "       [9.99884605e-01],\n",
              "       [2.29606032e-03],\n",
              "       [1.80396438e-03],\n",
              "       [1.47104263e-04],\n",
              "       [1.50075555e-03],\n",
              "       [5.27498126e-03],\n",
              "       [4.08619642e-04],\n",
              "       [2.56325305e-02],\n",
              "       [1.06871128e-03],\n",
              "       [4.05469537e-03],\n",
              "       [9.99749184e-01],\n",
              "       [1.25488639e-03],\n",
              "       [2.44621634e-02],\n",
              "       [5.29050827e-04],\n",
              "       [1.10209265e-04],\n",
              "       [1.01895332e-01],\n",
              "       [9.99499321e-01],\n",
              "       [7.22646713e-04],\n",
              "       [9.50583816e-01],\n",
              "       [2.60201693e-02],\n",
              "       [9.96591926e-01],\n",
              "       [9.99555528e-01],\n",
              "       [1.94072723e-04],\n",
              "       [2.14397907e-04],\n",
              "       [1.60098076e-04],\n",
              "       [5.71698693e-05],\n",
              "       [9.99804616e-01],\n",
              "       [1.10209265e-04],\n",
              "       [2.27734447e-03],\n",
              "       [9.99601364e-01],\n",
              "       [9.99702632e-01],\n",
              "       [9.99718070e-01],\n",
              "       [9.99933541e-01],\n",
              "       [9.99980450e-01],\n",
              "       [5.07950783e-04],\n",
              "       [4.24176455e-04],\n",
              "       [1.27785981e-01],\n",
              "       [9.99218345e-01],\n",
              "       [9.99831080e-01],\n",
              "       [9.97775555e-01],\n",
              "       [9.52154398e-04],\n",
              "       [9.99435425e-01],\n",
              "       [7.20931470e-01],\n",
              "       [7.85737211e-05],\n",
              "       [1.84714794e-04],\n",
              "       [2.02781856e-02],\n",
              "       [3.16236913e-02],\n",
              "       [9.73060014e-05],\n",
              "       [1.51538849e-03],\n",
              "       [9.83755469e-01],\n",
              "       [9.99916673e-01],\n",
              "       [3.51816416e-04],\n",
              "       [9.99750376e-01],\n",
              "       [9.98490155e-01],\n",
              "       [9.16589200e-02],\n",
              "       [7.72985816e-02],\n",
              "       [9.95963871e-01],\n",
              "       [6.48763537e-01],\n",
              "       [8.41510296e-03],\n",
              "       [3.45051289e-04]], dtype=float32)"
            ]
          },
          "metadata": {},
          "execution_count": 67
        }
      ]
    },
    {
      "cell_type": "code",
      "source": [
        "model_3_preds = tf.squeeze(tf.round(model_3_pred_probs))"
      ],
      "metadata": {
        "id": "6vtnFpbl0MKy"
      },
      "execution_count": 68,
      "outputs": []
    },
    {
      "cell_type": "code",
      "source": [
        "model_3_results = calculate_results(val_labels,\n",
        "                                    model_3_preds)\n",
        "model_3_results"
      ],
      "metadata": {
        "colab": {
          "base_uri": "https://localhost:8080/"
        },
        "id": "incoYO_D49h7",
        "outputId": "8896676e-7df8-49f1-b316-f04afc5c3127"
      },
      "execution_count": 69,
      "outputs": [
        {
          "output_type": "execute_result",
          "data": {
            "text/plain": [
              "{'accuracy': 76.64041994750657,\n",
              " 'precision': 0.7661489682210776,\n",
              " 'recall': 0.7664041994750657,\n",
              " 'f1': 0.7662288382234984}"
            ]
          },
          "metadata": {},
          "execution_count": 69
        }
      ]
    },
    {
      "cell_type": "markdown",
      "source": [
        "### Model 4 building"
      ],
      "metadata": {
        "id": "eRD5xU255Dzo"
      }
    },
    {
      "cell_type": "code",
      "source": [
        "inputs = layers.Input(shape=(1,), dtype=tf.string)\n",
        "x = text_vectorizer(inputs)\n",
        "x = embedding(x)\n",
        "# x = layers.Bidirectional(layers.LSTM(64, return_sequences=True))(x)\n",
        "x = layers.Bidirectional(layers.LSTM(64))(x)\n",
        "outputs = layers.Dense(1, activation=\"sigmoid\")(x)\n",
        "model_4 = tf.keras.Model(inputs ,outputs, name=\"model_4_bidirectinal\")"
      ],
      "metadata": {
        "id": "XAXJaOFW5vBL"
      },
      "execution_count": 70,
      "outputs": []
    },
    {
      "cell_type": "code",
      "source": [
        "model_4.summary()"
      ],
      "metadata": {
        "colab": {
          "base_uri": "https://localhost:8080/"
        },
        "id": "tJH8Dua8AFyg",
        "outputId": "045f3029-d142-41f0-f732-2b8113cea810"
      },
      "execution_count": 71,
      "outputs": [
        {
          "output_type": "stream",
          "name": "stdout",
          "text": [
            "Model: \"model_4_bidirectinal\"\n",
            "_________________________________________________________________\n",
            " Layer (type)                Output Shape              Param #   \n",
            "=================================================================\n",
            " input_4 (InputLayer)        [(None, 1)]               0         \n",
            "                                                                 \n",
            " text_vectorization_1 (TextV  (None, 15)               0         \n",
            " ectorization)                                                   \n",
            "                                                                 \n",
            " embedding (Embedding)       (None, 15, 128)           1280000   \n",
            "                                                                 \n",
            " bidirectional (Bidirectiona  (None, 128)              98816     \n",
            " l)                                                              \n",
            "                                                                 \n",
            " dense_2 (Dense)             (None, 1)                 129       \n",
            "                                                                 \n",
            "=================================================================\n",
            "Total params: 1,378,945\n",
            "Trainable params: 1,378,945\n",
            "Non-trainable params: 0\n",
            "_________________________________________________________________\n"
          ]
        }
      ]
    },
    {
      "cell_type": "code",
      "source": [
        "model_4.compile(loss=\"binary_crossentropy\",\n",
        "                optimizer=tf.keras.optimizers.Adam(),\n",
        "                metrics=[\"accuracy\"])"
      ],
      "metadata": {
        "id": "4RDEvBLcAIiS"
      },
      "execution_count": 72,
      "outputs": []
    },
    {
      "cell_type": "code",
      "source": [
        "model_4_history = model_4.fit(train_sentences,\n",
        "                              train_labels,\n",
        "                              epochs=5,\n",
        "                              validation_data=(val_sentences, val_labels),\n",
        "                              callbacks=[create_tensorboard_callback(LOG_DIR,\n",
        "                                                                     \"model_4_bidirectional\")])"
      ],
      "metadata": {
        "colab": {
          "base_uri": "https://localhost:8080/"
        },
        "id": "AVMa1d8FBeLp",
        "outputId": "4af3d178-72f1-486c-e4b2-b773bb002c0a"
      },
      "execution_count": 73,
      "outputs": [
        {
          "output_type": "stream",
          "name": "stdout",
          "text": [
            "Saving TensorBoard log files to: model_logs/model_4_bidirectional/20220905-214038\n",
            "Epoch 1/5\n",
            "215/215 [==============================] - 12s 38ms/step - loss: 0.1065 - accuracy: 0.9693 - val_loss: 0.9646 - val_accuracy: 0.7769\n",
            "Epoch 2/5\n",
            "215/215 [==============================] - 10s 48ms/step - loss: 0.0549 - accuracy: 0.9769 - val_loss: 1.2041 - val_accuracy: 0.7690\n",
            "Epoch 3/5\n",
            "215/215 [==============================] - 9s 40ms/step - loss: 0.0459 - accuracy: 0.9781 - val_loss: 1.2073 - val_accuracy: 0.7625\n",
            "Epoch 4/5\n",
            "215/215 [==============================] - 7s 33ms/step - loss: 0.0411 - accuracy: 0.9807 - val_loss: 1.4235 - val_accuracy: 0.7782\n",
            "Epoch 5/5\n",
            "215/215 [==============================] - 7s 33ms/step - loss: 0.0447 - accuracy: 0.9804 - val_loss: 1.2987 - val_accuracy: 0.7703\n"
          ]
        }
      ]
    },
    {
      "cell_type": "code",
      "source": [
        "model_4_pred_probs = model_4.predict(val_sentences)"
      ],
      "metadata": {
        "id": "_mqtZ5uZBgZI"
      },
      "execution_count": 74,
      "outputs": []
    },
    {
      "cell_type": "code",
      "source": [
        "model_4_preds = tf.squeeze(tf.round(model_4_pred_probs))"
      ],
      "metadata": {
        "id": "PakOZl2HBzkJ"
      },
      "execution_count": 75,
      "outputs": []
    },
    {
      "cell_type": "code",
      "source": [
        "model_4_results = calculate_results(val_labels,\n",
        "                                    model_4_preds)"
      ],
      "metadata": {
        "id": "P1xKM9e5CGJp"
      },
      "execution_count": 76,
      "outputs": []
    },
    {
      "cell_type": "code",
      "source": [
        "model_4_results, baseline_results"
      ],
      "metadata": {
        "colab": {
          "base_uri": "https://localhost:8080/"
        },
        "id": "21xg4MsnCJ8g",
        "outputId": "2b528ff6-7512-496e-afde-859f5de47d97"
      },
      "execution_count": 77,
      "outputs": [
        {
          "output_type": "execute_result",
          "data": {
            "text/plain": [
              "({'accuracy': 77.03412073490814,\n",
              "  'precision': 0.7702878929185921,\n",
              "  'recall': 0.7703412073490814,\n",
              "  'f1': 0.769333028556703},\n",
              " {'accuracy': 79.26509186351706,\n",
              "  'precision': 0.8111390004213173,\n",
              "  'recall': 0.7926509186351706,\n",
              "  'f1': 0.7862189758049549})"
            ]
          },
          "metadata": {},
          "execution_count": 77
        }
      ]
    },
    {
      "cell_type": "markdown",
      "source": [
        "### Model 5 building"
      ],
      "metadata": {
        "id": "12mDYbNXCMS-"
      }
    },
    {
      "cell_type": "code",
      "source": [
        "embedding_test = embedding(text_vectorizer([\"this is test\"]))\n",
        "conv1d = layers.Conv1D(filters=32,\n",
        "                       kernel_size=5,\n",
        "                       strides=1,\n",
        "                       activation=\"relu\",\n",
        "                       padding=\"same\")\n",
        "output = conv1d(embedding_test)\n",
        "max_pool = layers.GlobalMaxPool1D()\n",
        "max_pool_output = max_pool(output)\n",
        "\n",
        "embedding_test.shape, output.shape, max_pool_output.shape"
      ],
      "metadata": {
        "colab": {
          "base_uri": "https://localhost:8080/"
        },
        "id": "TRMRZie2ETz6",
        "outputId": "b8d65cc3-9a7b-4a2c-b502-87713de725b8"
      },
      "execution_count": 78,
      "outputs": [
        {
          "output_type": "execute_result",
          "data": {
            "text/plain": [
              "(TensorShape([1, 15, 128]), TensorShape([1, 15, 32]), TensorShape([1, 32]))"
            ]
          },
          "metadata": {},
          "execution_count": 78
        }
      ]
    },
    {
      "cell_type": "code",
      "source": [
        "inputs = layers.Input(shape=(1, ), dtype=tf.string)\n",
        "x = text_vectorizer(inputs)\n",
        "x = embedding(x)\n",
        "x = layers.Conv1D(filters=64,\n",
        "                  kernel_size=5,\n",
        "                  activation=\"relu\")(x)\n",
        "x = layers.GlobalMaxPool1D()(x)\n",
        "outputs = layers.Dense(1, activation=\"sigmoid\")(x)\n",
        "print(outputs.shape)\n",
        "model_5 = tf.keras.Model(inputs, outputs)"
      ],
      "metadata": {
        "colab": {
          "base_uri": "https://localhost:8080/"
        },
        "id": "YwhRyvC-DBwW",
        "outputId": "b0240b8f-5079-41e5-9d37-e6c1530e674d"
      },
      "execution_count": 79,
      "outputs": [
        {
          "output_type": "stream",
          "name": "stdout",
          "text": [
            "(None, 1)\n"
          ]
        }
      ]
    },
    {
      "cell_type": "code",
      "source": [
        "model_5.compile(loss=\"binary_crossentropy\",\n",
        "                optimizer=tf.keras.optimizers.Adam(),\n",
        "                metrics=[\"accuracy\"])"
      ],
      "metadata": {
        "id": "anyWFMjGDYZV"
      },
      "execution_count": 80,
      "outputs": []
    },
    {
      "cell_type": "code",
      "source": [
        "model_5.summary()"
      ],
      "metadata": {
        "colab": {
          "base_uri": "https://localhost:8080/"
        },
        "id": "cBes5OWcIxd0",
        "outputId": "ddf377f1-59b4-4a47-ca90-de92ca4ab734"
      },
      "execution_count": 81,
      "outputs": [
        {
          "output_type": "stream",
          "name": "stdout",
          "text": [
            "Model: \"model_1\"\n",
            "_________________________________________________________________\n",
            " Layer (type)                Output Shape              Param #   \n",
            "=================================================================\n",
            " input_5 (InputLayer)        [(None, 1)]               0         \n",
            "                                                                 \n",
            " text_vectorization_1 (TextV  (None, 15)               0         \n",
            " ectorization)                                                   \n",
            "                                                                 \n",
            " embedding (Embedding)       (None, 15, 128)           1280000   \n",
            "                                                                 \n",
            " conv1d_1 (Conv1D)           (None, 11, 64)            41024     \n",
            "                                                                 \n",
            " global_max_pooling1d_1 (Glo  (None, 64)               0         \n",
            " balMaxPooling1D)                                                \n",
            "                                                                 \n",
            " dense_3 (Dense)             (None, 1)                 65        \n",
            "                                                                 \n",
            "=================================================================\n",
            "Total params: 1,321,089\n",
            "Trainable params: 1,321,089\n",
            "Non-trainable params: 0\n",
            "_________________________________________________________________\n"
          ]
        }
      ]
    },
    {
      "cell_type": "code",
      "source": [
        "model_5_history = model_5.fit(train_sentences,\n",
        "                              train_labels,\n",
        "                              epochs=5,\n",
        "                              validation_data=(val_sentences, val_labels),\n",
        "                              callbacks=[create_tensorboard_callback(LOG_DIR,\n",
        "                                                                     \"model_5_Conv1D\")])"
      ],
      "metadata": {
        "colab": {
          "base_uri": "https://localhost:8080/"
        },
        "id": "8OdebDx9IAqa",
        "outputId": "c08b9ee0-b487-4169-8e39-75c5394c3b8d"
      },
      "execution_count": 82,
      "outputs": [
        {
          "output_type": "stream",
          "name": "stdout",
          "text": [
            "Saving TensorBoard log files to: model_logs/model_5_Conv1D/20220905-214205\n",
            "Epoch 1/5\n",
            "215/215 [==============================] - 5s 19ms/step - loss: 0.1207 - accuracy: 0.9616 - val_loss: 0.9400 - val_accuracy: 0.7703\n",
            "Epoch 2/5\n",
            "215/215 [==============================] - 4s 18ms/step - loss: 0.0742 - accuracy: 0.9734 - val_loss: 1.0511 - val_accuracy: 0.7717\n",
            "Epoch 3/5\n",
            "215/215 [==============================] - 4s 17ms/step - loss: 0.0599 - accuracy: 0.9774 - val_loss: 1.1758 - val_accuracy: 0.7638\n",
            "Epoch 4/5\n",
            "215/215 [==============================] - 4s 18ms/step - loss: 0.0541 - accuracy: 0.9777 - val_loss: 1.2420 - val_accuracy: 0.7651\n",
            "Epoch 5/5\n",
            "215/215 [==============================] - 4s 17ms/step - loss: 0.0537 - accuracy: 0.9774 - val_loss: 1.2485 - val_accuracy: 0.7598\n"
          ]
        }
      ]
    },
    {
      "cell_type": "code",
      "source": [
        "model_5_pred_probs = model_5.predict(val_sentences)\n",
        "model_5_preds = tf.squeeze(tf.round(model_5_pred_probs))"
      ],
      "metadata": {
        "id": "BZ5Uyw5lIIK-"
      },
      "execution_count": 83,
      "outputs": []
    },
    {
      "cell_type": "code",
      "source": [
        "model_5_results = calculate_results(val_labels,\n",
        "                                    model_5_preds)"
      ],
      "metadata": {
        "id": "YWQIxi6-I-WX"
      },
      "execution_count": 84,
      "outputs": []
    },
    {
      "cell_type": "code",
      "source": [
        "model_5_results"
      ],
      "metadata": {
        "colab": {
          "base_uri": "https://localhost:8080/"
        },
        "id": "vMJnvnUVJDJ1",
        "outputId": "ddcbb0b5-f195-4719-acb4-5323294316d3"
      },
      "execution_count": 85,
      "outputs": [
        {
          "output_type": "execute_result",
          "data": {
            "text/plain": [
              "{'accuracy': 75.98425196850394,\n",
              " 'precision': 0.7610616087083465,\n",
              " 'recall': 0.7598425196850394,\n",
              " 'f1': 0.7577317717227482}"
            ]
          },
          "metadata": {},
          "execution_count": 85
        }
      ]
    },
    {
      "cell_type": "markdown",
      "source": [
        "## Model 6 building"
      ],
      "metadata": {
        "id": "Rp4chVaSJEb6"
      }
    },
    {
      "cell_type": "code",
      "source": [
        "import tensorflow_hub as hub\n",
        "embed = hub.load(\"https://tfhub.dev/google/universal-sentence-encoder/4\")"
      ],
      "metadata": {
        "id": "R1y-GqpTNw36"
      },
      "execution_count": 86,
      "outputs": []
    },
    {
      "cell_type": "code",
      "source": [
        "sample_sentence = \"There is a flood in my street!\""
      ],
      "metadata": {
        "id": "UDYxizRpQl--"
      },
      "execution_count": 87,
      "outputs": []
    },
    {
      "cell_type": "code",
      "source": [
        "embed_samples = embed([sample_sentence,\n",
        "                      \"When you can the universal sentence encoder on a sentence, it turns it into numbers.\"])"
      ],
      "metadata": {
        "id": "hzDvH0cSQCeo"
      },
      "execution_count": 88,
      "outputs": []
    },
    {
      "cell_type": "code",
      "source": [
        "print(embed_samples.shape)"
      ],
      "metadata": {
        "colab": {
          "base_uri": "https://localhost:8080/"
        },
        "id": "Yu0oFUlAQecy",
        "outputId": "3e5002ec-11f5-4804-a318-456151bdbdaf"
      },
      "execution_count": 89,
      "outputs": [
        {
          "output_type": "stream",
          "name": "stdout",
          "text": [
            "(2, 512)\n"
          ]
        }
      ]
    },
    {
      "cell_type": "code",
      "source": [
        "print(embed_samples[0][:50])"
      ],
      "metadata": {
        "colab": {
          "base_uri": "https://localhost:8080/"
        },
        "id": "FgxCiSPKQ0G1",
        "outputId": "4e0a795b-7502-42c3-926d-af378d421c24"
      },
      "execution_count": 90,
      "outputs": [
        {
          "output_type": "stream",
          "name": "stdout",
          "text": [
            "tf.Tensor(\n",
            "[-0.01602833  0.01068852  0.02425469 -0.01405768  0.01434427  0.08292625\n",
            "  0.01963371  0.06160141 -0.00352697 -0.01216412  0.00978647 -0.01248495\n",
            "  0.01232345  0.09748449  0.06141113 -0.03728353  0.01860886 -0.04669856\n",
            "  0.00413911 -0.06363907 -0.024699    0.0271369   0.02284443 -0.00210027\n",
            " -0.00630594 -0.03964962  0.02220404  0.00115079 -0.03132173  0.00119527\n",
            " -0.04012547  0.04561891 -0.015306   -0.00175918  0.02173132 -0.08450423\n",
            "  0.03340025  0.04604552 -0.02480248 -0.08681665  0.00702694 -0.0077048\n",
            " -0.01434541  0.07814164 -0.10676056 -0.05152994 -0.00858157 -0.03232231\n",
            " -0.03871097  0.02581466], shape=(50,), dtype=float32)\n"
          ]
        }
      ]
    },
    {
      "cell_type": "code",
      "source": [
        "sentence_encoder_layer = hub.KerasLayer(\"https://tfhub.dev/google/universal-sentence-encoder/4\",\n",
        "                                        input_shape=[],\n",
        "                                        dtype=tf.string,\n",
        "                                        trainable=False,\n",
        "                                        name=\"USE\")"
      ],
      "metadata": {
        "id": "CldUV5_OQ6WK"
      },
      "execution_count": 91,
      "outputs": []
    },
    {
      "cell_type": "code",
      "source": [
        "model_6 = tf.keras.Sequential([\n",
        "    sentence_encoder_layer,\n",
        "    #layers.Dense(128, activation=\"relu\"),\n",
        "    layers.Dense(64, activation=\"relu\"),\n",
        "    layers.Dense(1, activation=\"sigmoid\", name=\"model_6_USE\")\n",
        "])"
      ],
      "metadata": {
        "id": "xI8ciIbJRupg"
      },
      "execution_count": 92,
      "outputs": []
    },
    {
      "cell_type": "code",
      "source": [
        "model_6.compile(loss=\"binary_crossentropy\",\n",
        "                optimizer=tf.keras.optimizers.Adam(learning_rate=0.001),\n",
        "                metrics=[\"accuracy\"])"
      ],
      "metadata": {
        "id": "FCyYA-owR_EB"
      },
      "execution_count": 93,
      "outputs": []
    },
    {
      "cell_type": "code",
      "source": [
        "model_6.summary()"
      ],
      "metadata": {
        "colab": {
          "base_uri": "https://localhost:8080/"
        },
        "id": "WRbxmeCJSGNy",
        "outputId": "45783ddc-1089-49a2-f717-eaf49d7c4336"
      },
      "execution_count": 94,
      "outputs": [
        {
          "output_type": "stream",
          "name": "stdout",
          "text": [
            "Model: \"sequential\"\n",
            "_________________________________________________________________\n",
            " Layer (type)                Output Shape              Param #   \n",
            "=================================================================\n",
            " USE (KerasLayer)            (None, 512)               256797824 \n",
            "                                                                 \n",
            " dense_4 (Dense)             (None, 64)                32832     \n",
            "                                                                 \n",
            " model_6_USE (Dense)         (None, 1)                 65        \n",
            "                                                                 \n",
            "=================================================================\n",
            "Total params: 256,830,721\n",
            "Trainable params: 32,897\n",
            "Non-trainable params: 256,797,824\n",
            "_________________________________________________________________\n"
          ]
        }
      ]
    },
    {
      "cell_type": "code",
      "source": [
        "model_6_history = model_6_history = model_6.fit(train_sentences,\n",
        "                                                train_labels,\n",
        "                                                epochs=5,\n",
        "                                                validation_data=(val_sentences, val_labels),\n",
        "                                                callbacks=[create_tensorboard_callback(LOG_DIR,\n",
        "                                                                                      \"model_6_USE\")])"
      ],
      "metadata": {
        "colab": {
          "base_uri": "https://localhost:8080/"
        },
        "id": "4xw_KY-KSDxZ",
        "outputId": "e9f9b634-f6cb-4ffa-d598-8c04c300278c"
      },
      "execution_count": 95,
      "outputs": [
        {
          "output_type": "stream",
          "name": "stdout",
          "text": [
            "Saving TensorBoard log files to: model_logs/model_6_USE/20220905-214247\n",
            "Epoch 1/5\n",
            "215/215 [==============================] - 5s 13ms/step - loss: 0.5062 - accuracy: 0.7815 - val_loss: 0.4481 - val_accuracy: 0.8031\n",
            "Epoch 2/5\n",
            "215/215 [==============================] - 2s 11ms/step - loss: 0.4140 - accuracy: 0.8168 - val_loss: 0.4378 - val_accuracy: 0.8084\n",
            "Epoch 3/5\n",
            "215/215 [==============================] - 2s 11ms/step - loss: 0.4019 - accuracy: 0.8216 - val_loss: 0.4341 - val_accuracy: 0.8123\n",
            "Epoch 4/5\n",
            "215/215 [==============================] - 2s 11ms/step - loss: 0.3933 - accuracy: 0.8263 - val_loss: 0.4299 - val_accuracy: 0.8123\n",
            "Epoch 5/5\n",
            "215/215 [==============================] - 2s 10ms/step - loss: 0.3877 - accuracy: 0.8288 - val_loss: 0.4277 - val_accuracy: 0.8123\n"
          ]
        }
      ]
    },
    {
      "cell_type": "code",
      "source": [
        "model_6_pred_probs = model_6.predict(val_sentences)"
      ],
      "metadata": {
        "id": "IqnalOT5SLyu"
      },
      "execution_count": 96,
      "outputs": []
    },
    {
      "cell_type": "code",
      "source": [
        "model_6_preds = tf.squeeze(tf.round(model_6_pred_probs))"
      ],
      "metadata": {
        "id": "4itnj1ltSXTo"
      },
      "execution_count": 97,
      "outputs": []
    },
    {
      "cell_type": "code",
      "source": [
        "model_6_results = calculate_results(val_labels,\n",
        "                                    model_6_preds)\n",
        "model_6_results, baseline_results"
      ],
      "metadata": {
        "colab": {
          "base_uri": "https://localhost:8080/"
        },
        "id": "6YP77C2EScbi",
        "outputId": "d0c8d5ad-0cf0-496b-dddb-07be6c5b5567"
      },
      "execution_count": 98,
      "outputs": [
        {
          "output_type": "execute_result",
          "data": {
            "text/plain": [
              "({'accuracy': 81.23359580052494,\n",
              "  'precision': 0.8152105639975652,\n",
              "  'recall': 0.8123359580052494,\n",
              "  'f1': 0.8105808468856647},\n",
              " {'accuracy': 79.26509186351706,\n",
              "  'precision': 0.8111390004213173,\n",
              "  'recall': 0.7926509186351706,\n",
              "  'f1': 0.7862189758049549})"
            ]
          },
          "metadata": {},
          "execution_count": 98
        }
      ]
    },
    {
      "cell_type": "markdown",
      "source": [
        "### Model 7 building"
      ],
      "metadata": {
        "id": "MzB3OVndU17R"
      }
    },
    {
      "cell_type": "code",
      "source": [
        "train_10 = train_df_shuffled[[\"text\",\"target\"]].sample(frac=0.1, random_state=42)\n",
        "train_sentences_10 = train_10[\"text\"].to_list()\n",
        "train_labels_10 = train_10[\"target\"].to_list()\n",
        "len(train_labels_10), len(train_sentences_10)"
      ],
      "metadata": {
        "colab": {
          "base_uri": "https://localhost:8080/"
        },
        "id": "zhfKD6dDU4-G",
        "outputId": "392dd14f-a45b-4be0-9078-70bc0e9500b9"
      },
      "execution_count": 99,
      "outputs": [
        {
          "output_type": "execute_result",
          "data": {
            "text/plain": [
              "(761, 761)"
            ]
          },
          "metadata": {},
          "execution_count": 99
        }
      ]
    },
    {
      "cell_type": "code",
      "source": [
        "model_7 = tf.keras.Sequential([\n",
        "    sentence_encoder_layer,\n",
        "    #layers.Dense(128, activation=\"relu\"),\n",
        "    layers.Dense(64, activation=\"relu\"),\n",
        "    layers.Dense(1, activation=\"sigmoid\", name=\"model_6_USE\")\n",
        "])\n",
        "model_7.compile(loss=\"binary_crossentropy\",\n",
        "                optimizer=tf.keras.optimizers.Adam(),\n",
        "                metrics=[\"accuracy\"])\n",
        "model_7_history = model_7.fit(train_sentences_10,\n",
        "                              train_labels_10,\n",
        "                              validation_data=(val_sentences, val_labels),\n",
        "                              epochs=5,\n",
        "                              callbacks=[create_tensorboard_callback(LOG_DIR,\n",
        "                                                                     \"model_7_10_percent\")])"
      ],
      "metadata": {
        "colab": {
          "base_uri": "https://localhost:8080/"
        },
        "id": "ipbSqHPiVhV5",
        "outputId": "619a1bfa-e8dc-4907-d79c-5c5491d87181"
      },
      "execution_count": 100,
      "outputs": [
        {
          "output_type": "stream",
          "name": "stdout",
          "text": [
            "Saving TensorBoard log files to: model_logs/model_7_10_percent/20220905-214302\n",
            "Epoch 1/5\n",
            "24/24 [==============================] - 2s 40ms/step - loss: 0.6648 - accuracy: 0.6991 - val_loss: 0.6254 - val_accuracy: 0.8058\n",
            "Epoch 2/5\n",
            "24/24 [==============================] - 0s 20ms/step - loss: 0.5936 - accuracy: 0.7884 - val_loss: 0.5485 - val_accuracy: 0.8005\n",
            "Epoch 3/5\n",
            "24/24 [==============================] - 0s 20ms/step - loss: 0.5198 - accuracy: 0.7976 - val_loss: 0.4841 - val_accuracy: 0.8123\n",
            "Epoch 4/5\n",
            "24/24 [==============================] - 0s 20ms/step - loss: 0.4661 - accuracy: 0.8108 - val_loss: 0.4400 - val_accuracy: 0.8189\n",
            "Epoch 5/5\n",
            "24/24 [==============================] - 1s 23ms/step - loss: 0.4300 - accuracy: 0.8187 - val_loss: 0.4094 - val_accuracy: 0.8320\n"
          ]
        }
      ]
    },
    {
      "cell_type": "code",
      "source": [
        "from sklearn.metrics import precision_score"
      ],
      "metadata": {
        "id": "F0FkNhvqjKAh"
      },
      "execution_count": 101,
      "outputs": []
    },
    {
      "cell_type": "code",
      "source": [
        "model_7_pred_probs = model_7.predict(val_sentences)\n",
        "model_7_preds = tf.squeeze(tf.round(model_7_pred_probs))\n",
        "model_7_results = calculate_results(val_labels,\n",
        "                                    model_7_preds)\n",
        "model_7_results"
      ],
      "metadata": {
        "colab": {
          "base_uri": "https://localhost:8080/"
        },
        "id": "zsuJA-daWg-M",
        "outputId": "ae880493-c28b-4ed2-ecf4-d3f5123baad2"
      },
      "execution_count": 102,
      "outputs": [
        {
          "output_type": "execute_result",
          "data": {
            "text/plain": [
              "{'accuracy': 83.2020997375328,\n",
              " 'precision': 0.8319037384708796,\n",
              " 'recall': 0.8320209973753281,\n",
              " 'f1': 0.8319393046078223}"
            ]
          },
          "metadata": {},
          "execution_count": 102
        }
      ]
    },
    {
      "cell_type": "code",
      "source": [
        "precision_score(val_labels, model_7_preds)"
      ],
      "metadata": {
        "colab": {
          "base_uri": "https://localhost:8080/"
        },
        "id": "8iL6GzCtjMzn",
        "outputId": "ab853e26-ff80-4e39-b853-069c9f2b6de2"
      },
      "execution_count": 103,
      "outputs": [
        {
          "output_type": "execute_result",
          "data": {
            "text/plain": [
              "0.8197674418604651"
            ]
          },
          "metadata": {},
          "execution_count": 103
        }
      ]
    },
    {
      "cell_type": "code",
      "source": [
        "model_7_results"
      ],
      "metadata": {
        "colab": {
          "base_uri": "https://localhost:8080/"
        },
        "id": "77SsbpTUbRT6",
        "outputId": "ca8c30d3-a1df-4f0e-d839-37b5105350c8"
      },
      "execution_count": 104,
      "outputs": [
        {
          "output_type": "execute_result",
          "data": {
            "text/plain": [
              "{'accuracy': 83.2020997375328,\n",
              " 'precision': 0.8319037384708796,\n",
              " 'recall': 0.8320209973753281,\n",
              " 'f1': 0.8319393046078223}"
            ]
          },
          "metadata": {},
          "execution_count": 104
        }
      ]
    },
    {
      "cell_type": "code",
      "source": [
        "model_6_results"
      ],
      "metadata": {
        "colab": {
          "base_uri": "https://localhost:8080/"
        },
        "id": "N9aQCg7kWzcG",
        "outputId": "bdbb132f-3041-46bb-c26c-116fbe681aeb"
      },
      "execution_count": 105,
      "outputs": [
        {
          "output_type": "execute_result",
          "data": {
            "text/plain": [
              "{'accuracy': 81.23359580052494,\n",
              " 'precision': 0.8152105639975652,\n",
              " 'recall': 0.8123359580052494,\n",
              " 'f1': 0.8105808468856647}"
            ]
          },
          "metadata": {},
          "execution_count": 105
        }
      ]
    },
    {
      "cell_type": "markdown",
      "source": [
        "#### So up there while creating 10 percent data splits there is something called \"data leakage\".\n",
        "While creating splits we also included validation data somehow so we have to fix that"
      ],
      "metadata": {
        "id": "DUIvEKsaYTYt"
      }
    },
    {
      "cell_type": "code",
      "source": [
        "import numpy as np"
      ],
      "metadata": {
        "id": "45s1UrBWhlTU"
      },
      "execution_count": 106,
      "outputs": []
    },
    {
      "cell_type": "code",
      "source": [
        "train_10_split = int(0.1 * len(train_sentences))\n",
        "train_sentences_10_fixed = train_sentences[:train_10_split]\n",
        "train_labels_10_fixed = train_labels[:train_10_split]"
      ],
      "metadata": {
        "id": "Hc1q8GclZLEm"
      },
      "execution_count": 107,
      "outputs": []
    },
    {
      "cell_type": "code",
      "source": [
        "train_sentences_90_percent, train_sentences_10_percent, train_labels_90_percent, train_labels_10_percent = train_test_split(np.array(train_sentences),\n",
        "                                                                                                                            train_labels,\n",
        "                                                                                                                            test_size=0.1,\n",
        "                                                                                                                            random_state=42)"
      ],
      "metadata": {
        "id": "NZQ7XnpjhiLZ"
      },
      "execution_count": 108,
      "outputs": []
    },
    {
      "cell_type": "code",
      "source": [
        "model_8 = tf.keras.Sequential([\n",
        "    sentence_encoder_layer,\n",
        "    #layers.Dense(128, activation=\"relu\"),\n",
        "    layers.Dense(64, activation=\"relu\"),\n",
        "    layers.Dense(1, activation=\"sigmoid\", name=\"model_8_USE\")\n",
        "])\n",
        "model_8.compile(loss=\"binary_crossentropy\",\n",
        "                optimizer=tf.keras.optimizers.Adam(),\n",
        "                metrics=[\"accuracy\"])\n",
        "model_8_history = model_8.fit(train_sentences_10_percent,\n",
        "                              train_labels_10_percent,\n",
        "                              validation_data=(val_sentences, val_labels),\n",
        "                              epochs=5,\n",
        "                              callbacks=[create_tensorboard_callback(LOG_DIR,\n",
        "                                                                     \"model_8_10_percent_fixed_split\")])"
      ],
      "metadata": {
        "colab": {
          "base_uri": "https://localhost:8080/"
        },
        "id": "ikS4F26YZ0Jk",
        "outputId": "142899ab-7e30-4a5b-cb6c-d921203c68de"
      },
      "execution_count": 109,
      "outputs": [
        {
          "output_type": "stream",
          "name": "stdout",
          "text": [
            "Saving TensorBoard log files to: model_logs/model_8_10_percent_fixed_split/20220905-214307\n",
            "Epoch 1/5\n",
            "22/22 [==============================] - 2s 47ms/step - loss: 0.6662 - accuracy: 0.7157 - val_loss: 0.6448 - val_accuracy: 0.7244\n",
            "Epoch 2/5\n",
            "22/22 [==============================] - 1s 26ms/step - loss: 0.5897 - accuracy: 0.8105 - val_loss: 0.5891 - val_accuracy: 0.7454\n",
            "Epoch 3/5\n",
            "22/22 [==============================] - 1s 25ms/step - loss: 0.5154 - accuracy: 0.8207 - val_loss: 0.5376 - val_accuracy: 0.7612\n",
            "Epoch 4/5\n",
            "22/22 [==============================] - 0s 20ms/step - loss: 0.4519 - accuracy: 0.8353 - val_loss: 0.5037 - val_accuracy: 0.7795\n",
            "Epoch 5/5\n",
            "22/22 [==============================] - 1s 25ms/step - loss: 0.4105 - accuracy: 0.8309 - val_loss: 0.4886 - val_accuracy: 0.7795\n"
          ]
        }
      ]
    },
    {
      "cell_type": "code",
      "source": [
        "model_8_pred_probs = model_8.predict(val_sentences)\n",
        "model_8_preds = tf.squeeze(tf.round(model_8_pred_probs))\n",
        "model_8_results = calculate_results(y_true=val_labels,\n",
        "                                    y_pred=model_8_preds)\n",
        "model_8_results"
      ],
      "metadata": {
        "colab": {
          "base_uri": "https://localhost:8080/"
        },
        "id": "4tb4tfupaO2C",
        "outputId": "69cbdfb0-d7da-48c5-cc85-78c58a7b4018"
      },
      "execution_count": 110,
      "outputs": [
        {
          "output_type": "execute_result",
          "data": {
            "text/plain": [
              "{'accuracy': 77.95275590551181,\n",
              " 'precision': 0.7825962002002497,\n",
              " 'recall': 0.7795275590551181,\n",
              " 'f1': 0.7770045099502749}"
            ]
          },
          "metadata": {},
          "execution_count": 110
        }
      ]
    },
    {
      "cell_type": "markdown",
      "source": [
        "why model_8 calculation is so low ???"
      ],
      "metadata": {
        "id": "plbSTIPZbhr7"
      }
    },
    {
      "cell_type": "code",
      "source": [
        "all_model_results = pd.DataFrame({\"baseline\": baseline_results,\n",
        "                                  \"model_1\": model_1_results,\n",
        "                                  \"model_2\": model_2_results,\n",
        "                                  \"model_3\": model_3_results,\n",
        "                                  \"model_4\":model_4_results,\n",
        "                                  \"model_5\":model_5_results,\n",
        "                                  \"model_6\":model_6_results,\n",
        "                                  \"model_8\":model_8_results})"
      ],
      "metadata": {
        "id": "ksxBDurhbZhm"
      },
      "execution_count": 111,
      "outputs": []
    },
    {
      "cell_type": "code",
      "source": [
        "all_model_results = all_model_results.transpose()"
      ],
      "metadata": {
        "id": "AESZSzzBiiHm"
      },
      "execution_count": 112,
      "outputs": []
    },
    {
      "cell_type": "code",
      "source": [
        "all_model_results[\"accuracy\"] = all_model_results[\"accuracy\"] / 100\n",
        "all_model_results"
      ],
      "metadata": {
        "colab": {
          "base_uri": "https://localhost:8080/",
          "height": 300
        },
        "id": "BWhCV9qQijWr",
        "outputId": "b0e65de7-26bc-4c30-b2ed-e08b0e733af3"
      },
      "execution_count": 113,
      "outputs": [
        {
          "output_type": "execute_result",
          "data": {
            "text/plain": [
              "          accuracy  precision    recall        f1\n",
              "baseline  0.792651   0.811139  0.792651  0.786219\n",
              "model_1   0.783465   0.787212  0.783465  0.780780\n",
              "model_2   0.775591   0.777207  0.775591  0.773618\n",
              "model_3   0.766404   0.766149  0.766404  0.766229\n",
              "model_4   0.770341   0.770288  0.770341  0.769333\n",
              "model_5   0.759843   0.761062  0.759843  0.757732\n",
              "model_6   0.812336   0.815211  0.812336  0.810581\n",
              "model_8   0.779528   0.782596  0.779528  0.777005"
            ],
            "text/html": [
              "\n",
              "  <div id=\"df-9e6078f5-a7ac-4082-aeaf-217f80d38db6\">\n",
              "    <div class=\"colab-df-container\">\n",
              "      <div>\n",
              "<style scoped>\n",
              "    .dataframe tbody tr th:only-of-type {\n",
              "        vertical-align: middle;\n",
              "    }\n",
              "\n",
              "    .dataframe tbody tr th {\n",
              "        vertical-align: top;\n",
              "    }\n",
              "\n",
              "    .dataframe thead th {\n",
              "        text-align: right;\n",
              "    }\n",
              "</style>\n",
              "<table border=\"1\" class=\"dataframe\">\n",
              "  <thead>\n",
              "    <tr style=\"text-align: right;\">\n",
              "      <th></th>\n",
              "      <th>accuracy</th>\n",
              "      <th>precision</th>\n",
              "      <th>recall</th>\n",
              "      <th>f1</th>\n",
              "    </tr>\n",
              "  </thead>\n",
              "  <tbody>\n",
              "    <tr>\n",
              "      <th>baseline</th>\n",
              "      <td>0.792651</td>\n",
              "      <td>0.811139</td>\n",
              "      <td>0.792651</td>\n",
              "      <td>0.786219</td>\n",
              "    </tr>\n",
              "    <tr>\n",
              "      <th>model_1</th>\n",
              "      <td>0.783465</td>\n",
              "      <td>0.787212</td>\n",
              "      <td>0.783465</td>\n",
              "      <td>0.780780</td>\n",
              "    </tr>\n",
              "    <tr>\n",
              "      <th>model_2</th>\n",
              "      <td>0.775591</td>\n",
              "      <td>0.777207</td>\n",
              "      <td>0.775591</td>\n",
              "      <td>0.773618</td>\n",
              "    </tr>\n",
              "    <tr>\n",
              "      <th>model_3</th>\n",
              "      <td>0.766404</td>\n",
              "      <td>0.766149</td>\n",
              "      <td>0.766404</td>\n",
              "      <td>0.766229</td>\n",
              "    </tr>\n",
              "    <tr>\n",
              "      <th>model_4</th>\n",
              "      <td>0.770341</td>\n",
              "      <td>0.770288</td>\n",
              "      <td>0.770341</td>\n",
              "      <td>0.769333</td>\n",
              "    </tr>\n",
              "    <tr>\n",
              "      <th>model_5</th>\n",
              "      <td>0.759843</td>\n",
              "      <td>0.761062</td>\n",
              "      <td>0.759843</td>\n",
              "      <td>0.757732</td>\n",
              "    </tr>\n",
              "    <tr>\n",
              "      <th>model_6</th>\n",
              "      <td>0.812336</td>\n",
              "      <td>0.815211</td>\n",
              "      <td>0.812336</td>\n",
              "      <td>0.810581</td>\n",
              "    </tr>\n",
              "    <tr>\n",
              "      <th>model_8</th>\n",
              "      <td>0.779528</td>\n",
              "      <td>0.782596</td>\n",
              "      <td>0.779528</td>\n",
              "      <td>0.777005</td>\n",
              "    </tr>\n",
              "  </tbody>\n",
              "</table>\n",
              "</div>\n",
              "      <button class=\"colab-df-convert\" onclick=\"convertToInteractive('df-9e6078f5-a7ac-4082-aeaf-217f80d38db6')\"\n",
              "              title=\"Convert this dataframe to an interactive table.\"\n",
              "              style=\"display:none;\">\n",
              "        \n",
              "  <svg xmlns=\"http://www.w3.org/2000/svg\" height=\"24px\"viewBox=\"0 0 24 24\"\n",
              "       width=\"24px\">\n",
              "    <path d=\"M0 0h24v24H0V0z\" fill=\"none\"/>\n",
              "    <path d=\"M18.56 5.44l.94 2.06.94-2.06 2.06-.94-2.06-.94-.94-2.06-.94 2.06-2.06.94zm-11 1L8.5 8.5l.94-2.06 2.06-.94-2.06-.94L8.5 2.5l-.94 2.06-2.06.94zm10 10l.94 2.06.94-2.06 2.06-.94-2.06-.94-.94-2.06-.94 2.06-2.06.94z\"/><path d=\"M17.41 7.96l-1.37-1.37c-.4-.4-.92-.59-1.43-.59-.52 0-1.04.2-1.43.59L10.3 9.45l-7.72 7.72c-.78.78-.78 2.05 0 2.83L4 21.41c.39.39.9.59 1.41.59.51 0 1.02-.2 1.41-.59l7.78-7.78 2.81-2.81c.8-.78.8-2.07 0-2.86zM5.41 20L4 18.59l7.72-7.72 1.47 1.35L5.41 20z\"/>\n",
              "  </svg>\n",
              "      </button>\n",
              "      \n",
              "  <style>\n",
              "    .colab-df-container {\n",
              "      display:flex;\n",
              "      flex-wrap:wrap;\n",
              "      gap: 12px;\n",
              "    }\n",
              "\n",
              "    .colab-df-convert {\n",
              "      background-color: #E8F0FE;\n",
              "      border: none;\n",
              "      border-radius: 50%;\n",
              "      cursor: pointer;\n",
              "      display: none;\n",
              "      fill: #1967D2;\n",
              "      height: 32px;\n",
              "      padding: 0 0 0 0;\n",
              "      width: 32px;\n",
              "    }\n",
              "\n",
              "    .colab-df-convert:hover {\n",
              "      background-color: #E2EBFA;\n",
              "      box-shadow: 0px 1px 2px rgba(60, 64, 67, 0.3), 0px 1px 3px 1px rgba(60, 64, 67, 0.15);\n",
              "      fill: #174EA6;\n",
              "    }\n",
              "\n",
              "    [theme=dark] .colab-df-convert {\n",
              "      background-color: #3B4455;\n",
              "      fill: #D2E3FC;\n",
              "    }\n",
              "\n",
              "    [theme=dark] .colab-df-convert:hover {\n",
              "      background-color: #434B5C;\n",
              "      box-shadow: 0px 1px 3px 1px rgba(0, 0, 0, 0.15);\n",
              "      filter: drop-shadow(0px 1px 2px rgba(0, 0, 0, 0.3));\n",
              "      fill: #FFFFFF;\n",
              "    }\n",
              "  </style>\n",
              "\n",
              "      <script>\n",
              "        const buttonEl =\n",
              "          document.querySelector('#df-9e6078f5-a7ac-4082-aeaf-217f80d38db6 button.colab-df-convert');\n",
              "        buttonEl.style.display =\n",
              "          google.colab.kernel.accessAllowed ? 'block' : 'none';\n",
              "\n",
              "        async function convertToInteractive(key) {\n",
              "          const element = document.querySelector('#df-9e6078f5-a7ac-4082-aeaf-217f80d38db6');\n",
              "          const dataTable =\n",
              "            await google.colab.kernel.invokeFunction('convertToInteractive',\n",
              "                                                     [key], {});\n",
              "          if (!dataTable) return;\n",
              "\n",
              "          const docLinkHtml = 'Like what you see? Visit the ' +\n",
              "            '<a target=\"_blank\" href=https://colab.research.google.com/notebooks/data_table.ipynb>data table notebook</a>'\n",
              "            + ' to learn more about interactive tables.';\n",
              "          element.innerHTML = '';\n",
              "          dataTable['output_type'] = 'display_data';\n",
              "          await google.colab.output.renderOutput(dataTable, element);\n",
              "          const docLink = document.createElement('div');\n",
              "          docLink.innerHTML = docLinkHtml;\n",
              "          element.appendChild(docLink);\n",
              "        }\n",
              "      </script>\n",
              "    </div>\n",
              "  </div>\n",
              "  "
            ]
          },
          "metadata": {},
          "execution_count": 113
        }
      ]
    },
    {
      "cell_type": "code",
      "source": [
        "all_model_results.plot(kind=\"bar\",\n",
        "                       figsize=(10, 7)).legend(bbox_to_anchor=(1.0, 1.0));"
      ],
      "metadata": {
        "colab": {
          "base_uri": "https://localhost:8080/",
          "height": 461
        },
        "id": "BsmMzpEJkbge",
        "outputId": "e0d2473e-a06f-42a5-f9b5-2d73b3128e4b"
      },
      "execution_count": 114,
      "outputs": [
        {
          "output_type": "display_data",
          "data": {
            "text/plain": [
              "<Figure size 720x504 with 1 Axes>"
            ],
            "image/png": "[encoded data removed]"
          },
          "metadata": {
            "needs_background": "light"
          }
        }
      ]
    },
    {
      "cell_type": "code",
      "source": [
        "all_model_results.sort_values(\"f1\", ascending=False)[\"f1\"].plot(kind=\"bar\",\n",
        "                                                                figsize=(10,7))"
      ],
      "metadata": {
        "colab": {
          "base_uri": "https://localhost:8080/",
          "height": 478
        },
        "id": "Dhw1jnPfkstp",
        "outputId": "ae3dedf8-8a90-420c-caf2-b48085a165b3"
      },
      "execution_count": 115,
      "outputs": [
        {
          "output_type": "execute_result",
          "data": {
            "text/plain": [
              "<matplotlib.axes._subplots.AxesSubplot at 0x7f3de57d3350>"
            ]
          },
          "metadata": {},
          "execution_count": 115
        },
        {
          "output_type": "display_data",
          "data": {
            "text/plain": [
              "<Figure size 720x504 with 1 Axes>"
            ],
            "image/png": "[encoded data removed]"
          },
          "metadata": {
            "needs_background": "light"
          }
        }
      ]
    },
    {
      "cell_type": "code",
      "source": [
        "!tensorboard dev upload --logdir ./model_logs/ \\\n",
        "  --name \"NLP modelling experiments of different models\" \\\n",
        "  --one_shot"
      ],
      "metadata": {
        "colab": {
          "base_uri": "https://localhost:8080/"
        },
        "id": "dS37L3t6ljNw",
        "outputId": "d997f3a9-1d72-465a-99c6-4da0b1b41cc6"
      },
      "execution_count": 116,
      "outputs": [
        {
          "output_type": "stream",
          "name": "stdout",
          "text": [
            "2022-09-05 21:46:13.187451: E tensorflow/stream_executor/cuda/cuda_driver.cc:271] failed call to cuInit: CUDA_ERROR_NO_DEVICE: no CUDA-capable device is detected\n",
            "\n",
            "***** TensorBoard Uploader *****\n",
            "\n",
            "This will upload your TensorBoard logs to https://tensorboard.dev/ from\n",
            "the following directory:\n",
            "\n",
            "./model_logs/\n",
            "\n",
            "This TensorBoard will be visible to everyone. Do not upload sensitive\n",
            "data.\n",
            "\n",
            "Your use of this service is subject to Google's Terms of Service\n",
            "<https://policies.google.com/terms> and Privacy Policy\n",
            "<https://policies.google.com/privacy>, and TensorBoard.dev's Terms of Service\n",
            "<https://tensorboard.dev/policy/terms/>.\n",
            "\n",
            "This notice will not be shown again while you are logged into the uploader.\n",
            "To log out, run `tensorboard dev auth revoke`.\n",
            "\n",
            "Continue? (yes/NO) yes\n",
            "\n",
            "Please visit this URL to authorize this application: https://accounts.google.com/o/oauth2/auth?response_type=code&client_id=373649185512-8v619h5kft38l4456nm2dj4ubeqsrvh6.apps.googleusercontent.com&redirect_uri=urn%3Aietf%3Awg%3Aoauth%3A2.0%3Aoob&scope=openid+https%3A%2F%2Fwww.googleapis.com%2Fauth%2Fuserinfo.email&state=iwuWZ2AdRLlNyDRWJZRJqWqs3f8Flb&prompt=consent&access_type=offline\n",
            "Enter the authorization code: 4/1AdQt8qgscq3K9220o1Ja0qmVM8zr5NDtORLVVjl4cLVgb7yfkeIInDwJ8mE\n",
            "\n",
            "\n",
            "New experiment created. View your TensorBoard at: https://tensorboard.dev/experiment/x5sLNgX1TjCw5jXX3G2u6A/\n",
            "\n",
            "\u001b[1m[2022-09-05T21:46:33]\u001b[0m Started scanning logdir.\n",
            "\u001b[1m[2022-09-05T21:46:41]\u001b[0m Total uploaded: 240 scalars, 0 tensors, 8 binary objects (3.6 MB)\n",
            "\u001b[1m[2022-09-05T21:46:41]\u001b[0m Done scanning logdir.\n",
            "\n",
            "\n",
            "Done. View your TensorBoard at https://tensorboard.dev/experiment/x5sLNgX1TjCw5jXX3G2u6A/\n"
          ]
        }
      ]
    },
    {
      "cell_type": "code",
      "source": [],
      "metadata": {
        "id": "Ke7D9mrSni03"
      },
      "execution_count": null,
      "outputs": []
    }
  ]
}